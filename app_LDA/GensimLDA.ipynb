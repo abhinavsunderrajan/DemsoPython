{
 "cells": [
  {
   "cell_type": "code",
   "execution_count": 44,
   "metadata": {},
   "outputs": [],
   "source": [
    "import pandas as pd\n",
    "import numpy as np\n",
    "from pprint import pprint\n",
    "import itertools\n",
    "import operator\n",
    "from tqdm import tqdm\n",
    "\n",
    "# Gensim\n",
    "import gensim\n",
    "import gensim.corpora as corpora\n",
    "from gensim.utils import simple_preprocess\n",
    "from gensim.models import CoherenceModel\n",
    "\n",
    "# Plotting tools\n",
    "import pyLDAvis\n",
    "import pyLDAvis.gensim  # don't skip this\n",
    "import matplotlib.pyplot as plt\n",
    "import seaborn as sns\n",
    "mallet_path = 'mallet-2.0.8/bin/mallet'\n",
    "\n",
    "# for paralellization\n",
    "from joblib import Parallel, delayed\n",
    "import random\n",
    "\n",
    "\n",
    "%matplotlib inline"
   ]
  },
  {
   "cell_type": "code",
   "execution_count": 2,
   "metadata": {},
   "outputs": [
    {
     "name": "stdout",
     "output_type": "stream",
     "text": [
      "(79766, 5)\n",
      "(76242, 5)\n"
     ]
    }
   ],
   "source": [
    "lemmatized_df = pd.read_csv(\"/Users/PocketmathUser/Downloads/lemmatized_data.csv\")\n",
    "print(lemmatized_df.shape)\n",
    "# remove na nan documents\n",
    "lemmatized_df = lemmatized_df[lemmatized_df.lemmatized_desc ==\n",
    "                              lemmatized_df.lemmatized_desc]\n",
    "print(lemmatized_df.shape)"
   ]
  },
  {
   "cell_type": "code",
   "execution_count": 3,
   "metadata": {},
   "outputs": [
    {
     "name": "stdout",
     "output_type": "stream",
     "text": [
      "(71455, 6)\n"
     ]
    }
   ],
   "source": [
    "def get_doc_len(doc):\n",
    "    split = doc.split()\n",
    "    return len(split)\n",
    "\n",
    "\n",
    "lemmatized_df[\"len_docs\"] = lemmatized_df.lemmatized_desc.apply(get_doc_len)\n",
    "lemmatized_df = lemmatized_df[lemmatized_df.len_docs >= 10]\n",
    "print(lemmatized_df.shape)"
   ]
  },
  {
   "cell_type": "code",
   "execution_count": 4,
   "metadata": {},
   "outputs": [
    {
     "data": {
      "text/html": [
       "<div>\n",
       "<style scoped>\n",
       "    .dataframe tbody tr th:only-of-type {\n",
       "        vertical-align: middle;\n",
       "    }\n",
       "\n",
       "    .dataframe tbody tr th {\n",
       "        vertical-align: top;\n",
       "    }\n",
       "\n",
       "    .dataframe thead th {\n",
       "        text-align: right;\n",
       "    }\n",
       "</style>\n",
       "<table border=\"1\" class=\"dataframe\">\n",
       "  <thead>\n",
       "    <tr style=\"text-align: right;\">\n",
       "      <th></th>\n",
       "      <th>lemmatized_desc</th>\n",
       "      <th>bundle_id</th>\n",
       "      <th>description</th>\n",
       "      <th>icon_url</th>\n",
       "      <th>primary_genre</th>\n",
       "      <th>len_docs</th>\n",
       "    </tr>\n",
       "  </thead>\n",
       "  <tbody>\n",
       "    <tr>\n",
       "      <td>0</td>\n",
       "      <td>voice recorder audio recorder voice recorder r...</td>\n",
       "      <td>com.nosoft.voicerecording.voicerecorder</td>\n",
       "      <td>Voice Recorder - HD Audio Recorder App is the ...</td>\n",
       "      <td>https://lh3.googleusercontent.com/QfsL5VLwaeUh...</td>\n",
       "      <td>MUSIC_AND_AUDIO</td>\n",
       "      <td>144</td>\n",
       "    </tr>\n",
       "    <tr>\n",
       "      <td>1</td>\n",
       "      <td>photo photo animation heart lovely video photo...</td>\n",
       "      <td>com.loveeffect.videomaker</td>\n",
       "      <td>Love Photo Effects is the best app make an pho...</td>\n",
       "      <td>https://lh3.googleusercontent.com/RTDwTk6DBPH5...</td>\n",
       "      <td>VIDEO_PLAYERS</td>\n",
       "      <td>130</td>\n",
       "    </tr>\n",
       "    <tr>\n",
       "      <td>2</td>\n",
       "      <td>connect friend safe environment explore concep...</td>\n",
       "      <td>com.amod.pxd</td>\n",
       "      <td>Connect and play with your friends in a safe e...</td>\n",
       "      <td>https://lh3.googleusercontent.com/sMl0s_so1Cx9...</td>\n",
       "      <td>ENTERTAINMENT</td>\n",
       "      <td>93</td>\n",
       "    </tr>\n",
       "    <tr>\n",
       "      <td>3</td>\n",
       "      <td>blow house boom_boom boom bomb manipulate avoi...</td>\n",
       "      <td>com.maxmiller.mrbomb</td>\n",
       "      <td>Blow up the house!Boom!Boom!Boom! Relaxing gam...</td>\n",
       "      <td>https://lh3.googleusercontent.com/_4TdUsyOy5HJ...</td>\n",
       "      <td>GAME_CASUAL</td>\n",
       "      <td>12</td>\n",
       "    </tr>\n",
       "    <tr>\n",
       "      <td>4</td>\n",
       "      <td>euchre card game bacon trick card game popular...</td>\n",
       "      <td>com.euchre.classic.game</td>\n",
       "      <td>Euchre card game or bacon is a trick-taking ca...</td>\n",
       "      <td>https://lh3.googleusercontent.com/VOSc73wXYf8N...</td>\n",
       "      <td>GAME_CARD</td>\n",
       "      <td>104</td>\n",
       "    </tr>\n",
       "  </tbody>\n",
       "</table>\n",
       "</div>"
      ],
      "text/plain": [
       "                                     lemmatized_desc  \\\n",
       "0  voice recorder audio recorder voice recorder r...   \n",
       "1  photo photo animation heart lovely video photo...   \n",
       "2  connect friend safe environment explore concep...   \n",
       "3  blow house boom_boom boom bomb manipulate avoi...   \n",
       "4  euchre card game bacon trick card game popular...   \n",
       "\n",
       "                                 bundle_id  \\\n",
       "0  com.nosoft.voicerecording.voicerecorder   \n",
       "1                com.loveeffect.videomaker   \n",
       "2                             com.amod.pxd   \n",
       "3                     com.maxmiller.mrbomb   \n",
       "4                  com.euchre.classic.game   \n",
       "\n",
       "                                         description  \\\n",
       "0  Voice Recorder - HD Audio Recorder App is the ...   \n",
       "1  Love Photo Effects is the best app make an pho...   \n",
       "2  Connect and play with your friends in a safe e...   \n",
       "3  Blow up the house!Boom!Boom!Boom! Relaxing gam...   \n",
       "4  Euchre card game or bacon is a trick-taking ca...   \n",
       "\n",
       "                                            icon_url    primary_genre  \\\n",
       "0  https://lh3.googleusercontent.com/QfsL5VLwaeUh...  MUSIC_AND_AUDIO   \n",
       "1  https://lh3.googleusercontent.com/RTDwTk6DBPH5...    VIDEO_PLAYERS   \n",
       "2  https://lh3.googleusercontent.com/sMl0s_so1Cx9...    ENTERTAINMENT   \n",
       "3  https://lh3.googleusercontent.com/_4TdUsyOy5HJ...      GAME_CASUAL   \n",
       "4  https://lh3.googleusercontent.com/VOSc73wXYf8N...        GAME_CARD   \n",
       "\n",
       "   len_docs  \n",
       "0       144  \n",
       "1       130  \n",
       "2        93  \n",
       "3        12  \n",
       "4       104  "
      ]
     },
     "execution_count": 4,
     "metadata": {},
     "output_type": "execute_result"
    }
   ],
   "source": [
    "lemmatized_df.reset_index(inplace=True)\n",
    "lemmatized_df.drop(\"index\", axis=1,inplace=True)\n",
    "lemmatized_df.head()"
   ]
  },
  {
   "cell_type": "code",
   "execution_count": 5,
   "metadata": {},
   "outputs": [
    {
     "name": "stdout",
     "output_type": "stream",
     "text": [
      "[[(17, 3), (26, 1), (29, 1), (36, 1), (57, 1), (59, 1), (62, 1), (68, 1), (70, 1), (74, 1), (75, 1), (76, 1), (77, 5), (78, 7), (79, 2), (80, 1), (81, 1), (82, 1), (83, 2), (84, 1), (85, 1), (86, 5), (87, 1), (88, 1), (89, 1), (90, 1), (91, 1), (92, 1), (93, 1), (94, 1), (95, 2), (96, 7), (97, 2), (98, 1), (99, 1), (100, 1), (101, 1), (102, 6), (103, 1), (104, 4), (105, 1), (106, 1), (107, 19), (108, 1), (109, 1), (110, 1), (111, 1), (112, 3), (113, 1), (114, 1), (115, 1), (116, 2), (117, 3), (118, 1), (119, 19)]]\n"
     ]
    }
   ],
   "source": [
    "# Create Dictionary\n",
    "data_lemmatized = list(lemmatized_df[\"lemmatized_desc\"].str.split())\n",
    "id2word = corpora.Dictionary(data_lemmatized)\n",
    "# Create Corpus\n",
    "# Term Document Frequency\n",
    "corpus = [id2word.doc2bow(text) for text in data_lemmatized]\n",
    "\n",
    "# View Gensim creates a unique id for each word in the document.\n",
    "# The produced corpus shown below is a mapping of\n",
    "# (word_id, word_frequency).\n",
    "print(corpus[1:2])"
   ]
  },
  {
   "cell_type": "code",
   "execution_count": 6,
   "metadata": {},
   "outputs": [],
   "source": [
    "descriptions = lemmatized_df.description.values.tolist()\n",
    "bundle_ids = lemmatized_df.bundle_id.values.tolist()\n",
    "lemmatized_desc = lemmatized_df.lemmatized_desc.values.tolist()\n",
    "icon_urls = lemmatized_df.icon_url.values.tolist()\n",
    "primary_genres = lemmatized_df.primary_genre.values.tolist()\n"
   ]
  },
  {
   "cell_type": "code",
   "execution_count": 7,
   "metadata": {},
   "outputs": [
    {
     "data": {
      "image/png": "[encoded data removed]",
      "text/plain": [
       "<Figure size 576x288 with 1 Axes>"
      ]
     },
     "metadata": {},
     "output_type": "display_data"
    }
   ],
   "source": [
    "sns.set(rc={'figure.figsize': (8, 4)})\n",
    "# fig, ax = plt.subplots()\n",
    "title = lemmatized_df.len_docs.hist().set_title(r\"histogram of document lengths\")"
   ]
  },
  {
   "cell_type": "code",
   "execution_count": 8,
   "metadata": {},
   "outputs": [
    {
     "name": "stdout",
     "output_type": "stream",
     "text": [
      "[['photo', 'photo', 'animation', 'heart', 'lovely', 'video', 'photo', 'video', 'maker', 'photo', 'music', 'create', 'image', 'slide', 'photo', 'animation', 'animate', 'gif', 'heart', 'theme', 'music', 'slide', 'time', 'create', 'beautiful', 'heart', 'photo', 'song', 'share', 'friend', 'family', 'occasion', 'life', 'photo', 'maker', 'easily', 'create', 'photo', 'beautiful', 'attractive', 'live', 'animate', 'heart', 'shape', 'figurine', 'video', 'animate', 'heart', 'romantic', 'video', 'studio', 'easily', 'filmy', 'style', 'video', 'photo', 'video', 'maker', 'photo', 'video', 'maker', 'reach', 'video', 'theme', 'apply', 'photo', 'create', 'video', 'image', 'video', 'stunning', 'apply', 'animation', 'video', 'video', 'art', 'animation', 'large', 'number', 'amazing', 'photo', 'video', 'maker', 'photo', 'animation', 'multiple', 'photo', 'album', 'easily', 'arrange', 'photo', 'photo', 'animation', 'slide', 'rectangle_triangle', 'diamond', 'circle', 'animate', 'gif', 'theme', 'heart', 'animate', 'heart', 'photo', 'video', 'maker', 'music', 'video', 'music', 'card', 'create', 'high_quality', 'video', 'photo', 'instantly', 'tablet', 'desire', 'photo', 'animation', 'timer', 'video', 'creation', 'accord', 'style', 'save', 'video', 'gallery', 'storage', 'video', 'default']]\n",
      "[[(17, 3), (26, 1), (29, 1), (36, 1), (57, 1), (59, 1), (62, 1), (68, 1), (70, 1), (74, 1), (75, 1), (76, 1), (77, 5), (78, 7), (79, 2), (80, 1), (81, 1), (82, 1), (83, 2), (84, 1), (85, 1), (86, 5), (87, 1), (88, 1), (89, 1), (90, 1), (91, 1), (92, 1), (93, 1), (94, 1), (95, 2), (96, 7), (97, 2), (98, 1), (99, 1), (100, 1), (101, 1), (102, 6), (103, 1), (104, 4), (105, 1), (106, 1), (107, 19), (108, 1), (109, 1), (110, 1), (111, 1), (112, 3), (113, 1), (114, 1), (115, 1), (116, 2), (117, 3), (118, 1), (119, 19)]]\n"
     ]
    },
    {
     "data": {
      "text/plain": [
       "[[('easily', 3),\n",
       "  ('friend', 1),\n",
       "  ('high_quality', 1),\n",
       "  ('live', 1),\n",
       "  ('save', 1),\n",
       "  ('share', 1),\n",
       "  ('song', 1),\n",
       "  ('tablet', 1),\n",
       "  ('time', 1),\n",
       "  ('accord', 1),\n",
       "  ('album', 1),\n",
       "  ('amazing', 1),\n",
       "  ('animate', 5),\n",
       "  ('animation', 7),\n",
       "  ('apply', 2),\n",
       "  ('arrange', 1),\n",
       "  ('art', 1),\n",
       "  ('attractive', 1),\n",
       "  ('beautiful', 2),\n",
       "  ('card', 1),\n",
       "  ('circle', 1),\n",
       "  ('create', 5),\n",
       "  ('creation', 1),\n",
       "  ('default', 1),\n",
       "  ('desire', 1),\n",
       "  ('diamond', 1),\n",
       "  ('family', 1),\n",
       "  ('figurine', 1),\n",
       "  ('filmy', 1),\n",
       "  ('gallery', 1),\n",
       "  ('gif', 2),\n",
       "  ('heart', 7),\n",
       "  ('image', 2),\n",
       "  ('instantly', 1),\n",
       "  ('large', 1),\n",
       "  ('life', 1),\n",
       "  ('lovely', 1),\n",
       "  ('maker', 6),\n",
       "  ('multiple', 1),\n",
       "  ('music', 4),\n",
       "  ('number', 1),\n",
       "  ('occasion', 1),\n",
       "  ('photo', 19),\n",
       "  ('reach', 1),\n",
       "  ('rectangle_triangle', 1),\n",
       "  ('romantic', 1),\n",
       "  ('shape', 1),\n",
       "  ('slide', 3),\n",
       "  ('storage', 1),\n",
       "  ('studio', 1),\n",
       "  ('stunning', 1),\n",
       "  ('style', 2),\n",
       "  ('theme', 3),\n",
       "  ('timer', 1),\n",
       "  ('video', 19)]]"
      ]
     },
     "execution_count": 8,
     "metadata": {},
     "output_type": "execute_result"
    }
   ],
   "source": [
    "print(data_lemmatized[1:2])\n",
    "print(corpus[1:2])\n",
    "# Human readable format of corpus (term-frequency)\n",
    "[[(id2word[id], freq) for id, freq in cp] for cp in corpus[1:2]]"
   ]
  },
  {
   "cell_type": "code",
   "execution_count": 45,
   "metadata": {},
   "outputs": [
    {
     "name": "stdout",
     "output_type": "stream",
     "text": [
      "Best coherence Score:  0.646313669833478\n"
     ]
    }
   ],
   "source": [
    "alpha_list = [22, 24]\n",
    "topic_list = [18]\n",
    "results = {}\n",
    "models = {}\n",
    "seed = random.randint(1, 100)\n",
    "\n",
    "hyper_param_list = itertools.product(alpha_list, topic_list)\n",
    "best_coherance = 0.0\n",
    "best_alpha = 0\n",
    "best_topics = 0\n",
    "\n",
    "\n",
    "for hyper_param in hyper_param_list:\n",
    "    ldamallet = gensim.models.wrappers.LdaMallet(\n",
    "        mallet_path, corpus=corpus, num_topics=hyper_param[1], iterations=1000,\n",
    "        alpha=hyper_param[0], id2word=id2word, workers=5, random_seed=seed)\n",
    "\n",
    "    # compute coherance score\n",
    "    coherence_model_ldamallet = CoherenceModel(\n",
    "        model=ldamallet, texts=data_lemmatized, dictionary=id2word, coherence='c_v')\n",
    "    coherence_ldamallet = coherence_model_ldamallet.get_coherence()\n",
    "\n",
    "    results[hyper_param] = coherence_ldamallet\n",
    "    models[hyper_param] = ldamallet\n",
    "    if coherence_ldamallet > best_coherance:\n",
    "        best_alpha = hyper_param[0]\n",
    "        best_topics = hyper_param[1]\n",
    "\n",
    "        best_coherance = coherence_ldamallet\n",
    "        print('Best coherence Score: ', best_coherance)"
   ]
  },
  {
   "cell_type": "code",
   "execution_count": 46,
   "metadata": {},
   "outputs": [
    {
     "name": "stdout",
     "output_type": "stream",
     "text": [
      "{(22, 18): 0.646313669833478, (24, 18): 0.6289086003373823}\n"
     ]
    },
    {
     "data": {
      "text/plain": [
       "(22, 18)"
      ]
     },
     "execution_count": 46,
     "metadata": {},
     "output_type": "execute_result"
    }
   ],
   "source": [
    "print(results)\n",
    "best_alpha,best_topics"
   ]
  },
  {
   "cell_type": "code",
   "execution_count": 48,
   "metadata": {},
   "outputs": [],
   "source": [
    "best_model = gensim.models.wrappers.LdaMallet(\n",
    "        mallet_path, corpus=corpus, num_topics=best_topics, iterations=1000,\n",
    "        alpha=best_alpha, id2word=id2word, workers=5, prefix=\"saved_model/\")\n"
   ]
  },
  {
   "cell_type": "code",
   "execution_count": 49,
   "metadata": {},
   "outputs": [
    {
     "name": "stdout",
     "output_type": "stream",
     "text": [
      "[(6,\n",
      "  [('game', 0.09939363738097744),\n",
      "   ('puzzle', 0.05656377332391105),\n",
      "   ('fun', 0.02832699333924732),\n",
      "   ('match', 0.02403971105951289),\n",
      "   ('block', 0.021939028659923577),\n",
      "   ('challenge', 0.019282030573735457),\n",
      "   ('bubble', 0.013063752918509417),\n",
      "   ('time', 0.012748006177466851),\n",
      "   ('brain', 0.012668532507952737),\n",
      "   ('ball', 0.012170211120729095)]),\n",
      " (11,\n",
      "  [('color', 0.06892840655808276),\n",
      "   ('theme', 0.0322749659436236),\n",
      "   ('number', 0.024928417886607136),\n",
      "   ('beautiful', 0.0231753287396167),\n",
      "   ('design', 0.02250694580150726),\n",
      "   ('art', 0.017247678360535954),\n",
      "   ('picture', 0.016072343956657065),\n",
      "   ('background', 0.013934084980925597),\n",
      "   ('image', 0.012231974193621474),\n",
      "   ('enjoy', 0.012144178129717268)]),\n",
      " (17,\n",
      "  [('word', 0.06917084371462444),\n",
      "   ('language', 0.03431111491721283),\n",
      "   ('learn', 0.02582767101365112),\n",
      "   ('text', 0.0244280365778269),\n",
      "   ('search', 0.02237006548576414),\n",
      "   ('read', 0.018553853811796),\n",
      "   ('easy', 0.01399902052351145),\n",
      "   ('dictionary', 0.013578862576237258),\n",
      "   ('book', 0.012941935242152815),\n",
      "   ('translation', 0.012759956003842974)]),\n",
      " (3,\n",
      "  [('wallpaper', 0.04281218588834299),\n",
      "   ('screen', 0.03290715916243154),\n",
      "   ('file', 0.02861222534311561),\n",
      "   ('lock', 0.01631924547444364),\n",
      "   ('note', 0.013067044931470817),\n",
      "   ('button', 0.011370489708880141),\n",
      "   ('save', 0.01106988191750195),\n",
      "   ('permission', 0.009444721045363594),\n",
      "   ('open', 0.009194840818780472),\n",
      "   ('delete', 0.009140355656593175)]),\n",
      " (0,\n",
      "  [('game', 0.0397615096886689),\n",
      "   ('girl', 0.025570211210169586),\n",
      "   ('fun', 0.015566555108698709),\n",
      "   ('food', 0.014441600809967096),\n",
      "   ('baby', 0.013744129144753495),\n",
      "   ('skin', 0.012399808757769215),\n",
      "   ('cat', 0.01148297100430295),\n",
      "   ('dress', 0.01058300756531766),\n",
      "   ('cute', 0.01005990381640746),\n",
      "   ('family', 0.010012093258711365)]),\n",
      " (10,\n",
      "  [('car', 0.06365040027428971),\n",
      "   ('game', 0.06220071471799014),\n",
      "   ('drive', 0.03495352952411195),\n",
      "   ('simulator', 0.022983268787809756),\n",
      "   ('race', 0.019388969043460654),\n",
      "   ('stunt', 0.016512608812707528),\n",
      "   ('truck', 0.015615184420712556),\n",
      "   ('city', 0.01424833803905867),\n",
      "   ('real', 0.013631646405585202),\n",
      "   ('racing', 0.013293386442448634)]),\n",
      " (8,\n",
      "  [('news', 0.06762005126283929),\n",
      "   ('live', 0.03208913588964744),\n",
      "   ('late', 0.028690479719914078),\n",
      "   ('video', 0.022405256731953566),\n",
      "   ('update', 0.0210468723469055),\n",
      "   ('watch', 0.018260028191866402),\n",
      "   ('content', 0.01784227108932186),\n",
      "   ('local', 0.01617663309337006),\n",
      "   ('sport', 0.015783132854844232),\n",
      "   ('story', 0.014325025806608108)]),\n",
      " (14,\n",
      "  [('call', 0.05275044158465809),\n",
      "   ('sound', 0.047564976028261416),\n",
      "   ('chat', 0.02822041382790815),\n",
      "   ('message', 0.027848221044663134),\n",
      "   ('friend', 0.025110396164521827),\n",
      "   ('record', 0.020385440322987634),\n",
      "   ('people', 0.017300656068634873),\n",
      "   ('voice', 0.015322987635629573),\n",
      "   ('send', 0.014771006813020439),\n",
      "   ('contact', 0.012938430481958113)]),\n",
      " (16,\n",
      "  [('find', 0.023970881269510656),\n",
      "   ('story', 0.01793111626096528),\n",
      "   ('build', 0.017804804487419088),\n",
      "   ('item', 0.013963895455096164),\n",
      "   ('house', 0.012388864972714079),\n",
      "   ('life', 0.011594905253280883),\n",
      "   ('character', 0.011442815566766084),\n",
      "   ('escape', 0.010950457429065629),\n",
      "   ('discover', 0.008522178027422543),\n",
      "   ('room', 0.00836235496701716)]),\n",
      " (13,\n",
      "  [('test', 0.01553721284186663),\n",
      "   ('question', 0.015512624753811769),\n",
      "   ('workout', 0.013607047929560046),\n",
      "   ('time', 0.013105450933240882),\n",
      "   ('exercise', 0.009700000737642642),\n",
      "   ('body', 0.00966311860556035),\n",
      "   ('step', 0.00936068512248556),\n",
      "   ('guide', 0.008583701539951956),\n",
      "   ('calculator', 0.008468137526094108),\n",
      "   ('answer', 0.008099316205271195)])]\n"
     ]
    }
   ],
   "source": [
    "# Show Topics\n",
    "pprint(best_model.show_topics(formatted=False))"
   ]
  },
  {
   "cell_type": "code",
   "execution_count": 50,
   "metadata": {},
   "outputs": [],
   "source": [
    "generate_viz = False"
   ]
  },
  {
   "cell_type": "code",
   "execution_count": 51,
   "metadata": {
    "scrolled": true
   },
   "outputs": [],
   "source": [
    "pylda_viz = None\n",
    "if generate_viz is True:\n",
    "    model = gensim.models.wrappers.ldamallet.malletmodel2ldamodel(\n",
    "        best_model)\n",
    "    pyLDAvis.enable_notebook()\n",
    "    vis = pyLDAvis.gensim.prepare(model, corpus, id2word)\n",
    "    pyLDAvis.save_html(vis, 'lda.html')\n",
    "    pylda_viz = vis\n",
    "pylda_viz"
   ]
  },
  {
   "cell_type": "code",
   "execution_count": 52,
   "metadata": {},
   "outputs": [],
   "source": [
    "def format_topics_sentences(corpus, descriptions, bundle_ids, lemmatized_desc,\n",
    "                            icon_urls, primary_genres, best_model=best_model):\n",
    "    \"\"\"\n",
    "    Get the results of the topic model as a neat CSV file.\n",
    "    \"\"\"\n",
    "    result_list = []\n",
    "    # Get the two main topics in each document\n",
    "    for i, row in enumerate(best_model[corpus]):\n",
    "        row = sorted(row, key=lambda x: (x[1]), reverse=True)\n",
    "        for j, (topic_num, prop_topic) in enumerate(row):\n",
    "            if j == 0:\n",
    "                wp = best_model.show_topic(topic_num)\n",
    "                topic_keywords = \", \".join([word for word, prop in wp])\n",
    "                result_list.append(\n",
    "                    {'bundle_id': bundle_ids[i], 'topic_num': int(topic_num),\n",
    "                     'topic_perc_contrib': round(prop_topic, 4),\n",
    "                     'keywords': topic_keywords,\n",
    "                     'lemmatized_desc': lemmatized_desc[i],\n",
    "                     'description': descriptions[i],\n",
    "                     'icon_url': icon_urls[i],\n",
    "                     'primary_genre': primary_genres[i]})\n",
    "            else:\n",
    "                break\n",
    "    result_df = pd.DataFrame(result_list)\n",
    "    return result_df"
   ]
  },
  {
   "cell_type": "code",
   "execution_count": 53,
   "metadata": {},
   "outputs": [],
   "source": [
    "df_topic_sents_keywords = format_topics_sentences(\n",
    "    corpus, descriptions, bundle_ids, lemmatized_desc,\n",
    "    icon_urls, primary_genres,best_model)"
   ]
  },
  {
   "cell_type": "code",
   "execution_count": 54,
   "metadata": {},
   "outputs": [
    {
     "name": "stdout",
     "output_type": "stream",
     "text": [
      "(71455, 8)\n"
     ]
    },
    {
     "data": {
      "text/html": [
       "<div>\n",
       "<style scoped>\n",
       "    .dataframe tbody tr th:only-of-type {\n",
       "        vertical-align: middle;\n",
       "    }\n",
       "\n",
       "    .dataframe tbody tr th {\n",
       "        vertical-align: top;\n",
       "    }\n",
       "\n",
       "    .dataframe thead th {\n",
       "        text-align: right;\n",
       "    }\n",
       "</style>\n",
       "<table border=\"1\" class=\"dataframe\">\n",
       "  <thead>\n",
       "    <tr style=\"text-align: right;\">\n",
       "      <th></th>\n",
       "      <th>bundle_id</th>\n",
       "      <th>topic_num</th>\n",
       "      <th>topic_perc_contrib</th>\n",
       "      <th>keywords</th>\n",
       "      <th>lemmatized_desc</th>\n",
       "      <th>description</th>\n",
       "      <th>icon_url</th>\n",
       "      <th>primary_genre</th>\n",
       "    </tr>\n",
       "  </thead>\n",
       "  <tbody>\n",
       "    <tr>\n",
       "      <td>0</td>\n",
       "      <td>com.nosoft.voicerecording.voicerecorder</td>\n",
       "      <td>14</td>\n",
       "      <td>0.5368</td>\n",
       "      <td>call, sound, chat, message, friend, record, pe...</td>\n",
       "      <td>voice recorder audio recorder voice recorder r...</td>\n",
       "      <td>Voice Recorder - HD Audio Recorder App is the ...</td>\n",
       "      <td>https://lh3.googleusercontent.com/QfsL5VLwaeUh...</td>\n",
       "      <td>MUSIC_AND_AUDIO</td>\n",
       "    </tr>\n",
       "    <tr>\n",
       "      <td>1</td>\n",
       "      <td>com.loveeffect.videomaker</td>\n",
       "      <td>12</td>\n",
       "      <td>0.6075</td>\n",
       "      <td>photo, video, image, share, picture, sticker, ...</td>\n",
       "      <td>photo photo animation heart lovely video photo...</td>\n",
       "      <td>Love Photo Effects is the best app make an pho...</td>\n",
       "      <td>https://lh3.googleusercontent.com/RTDwTk6DBPH5...</td>\n",
       "      <td>VIDEO_PLAYERS</td>\n",
       "    </tr>\n",
       "    <tr>\n",
       "      <td>2</td>\n",
       "      <td>com.amod.pxd</td>\n",
       "      <td>0</td>\n",
       "      <td>0.2715</td>\n",
       "      <td>game, girl, fun, food, baby, skin, cat, dress,...</td>\n",
       "      <td>connect friend safe environment explore concep...</td>\n",
       "      <td>Connect and play with your friends in a safe e...</td>\n",
       "      <td>https://lh3.googleusercontent.com/sMl0s_so1Cx9...</td>\n",
       "      <td>ENTERTAINMENT</td>\n",
       "    </tr>\n",
       "    <tr>\n",
       "      <td>3</td>\n",
       "      <td>com.maxmiller.mrbomb</td>\n",
       "      <td>6</td>\n",
       "      <td>0.1667</td>\n",
       "      <td>game, puzzle, fun, match, block, challenge, bu...</td>\n",
       "      <td>blow house boom_boom boom bomb manipulate avoi...</td>\n",
       "      <td>Blow up the house!Boom!Boom!Boom! Relaxing gam...</td>\n",
       "      <td>https://lh3.googleusercontent.com/_4TdUsyOy5HJ...</td>\n",
       "      <td>GAME_CASUAL</td>\n",
       "    </tr>\n",
       "    <tr>\n",
       "      <td>4</td>\n",
       "      <td>com.euchre.classic.game</td>\n",
       "      <td>15</td>\n",
       "      <td>0.5679</td>\n",
       "      <td>game, card, solitaire, mode, move, classic, nu...</td>\n",
       "      <td>euchre card game bacon trick card game popular...</td>\n",
       "      <td>Euchre card game or bacon is a trick-taking ca...</td>\n",
       "      <td>https://lh3.googleusercontent.com/VOSc73wXYf8N...</td>\n",
       "      <td>GAME_CARD</td>\n",
       "    </tr>\n",
       "    <tr>\n",
       "      <td>5</td>\n",
       "      <td>puzzle.match.blocks.pzla</td>\n",
       "      <td>6</td>\n",
       "      <td>0.7417</td>\n",
       "      <td>game, puzzle, fun, match, block, challenge, bu...</td>\n",
       "      <td>enjoy simple puzzle game match block color cle...</td>\n",
       "      <td>Lets enjoy a simple and addictive puzzle game,...</td>\n",
       "      <td>https://lh3.googleusercontent.com/pL5wS6pVvX_n...</td>\n",
       "      <td>LIFESTYLE</td>\n",
       "    </tr>\n",
       "    <tr>\n",
       "      <td>6</td>\n",
       "      <td>com.mimemodscraft.bendy</td>\n",
       "      <td>16</td>\n",
       "      <td>0.2817</td>\n",
       "      <td>find, story, build, item, house, life, charact...</td>\n",
       "      <td>fan horror game bendy fan combination game bun...</td>\n",
       "      <td>If your are a fan of the horror game Bendy and...</td>\n",
       "      <td>https://lh3.googleusercontent.com/Ca0ZA7M6F-CR...</td>\n",
       "      <td>GAME_ADVENTURE</td>\n",
       "    </tr>\n",
       "    <tr>\n",
       "      <td>7</td>\n",
       "      <td>com.slimestudio.xray</td>\n",
       "      <td>16</td>\n",
       "      <td>0.2824</td>\n",
       "      <td>find, story, build, item, house, life, charact...</td>\n",
       "      <td>easily detect underground structure fossil dun...</td>\n",
       "      <td>Lets you more easily detect underground struct...</td>\n",
       "      <td>https://lh3.googleusercontent.com/Ng-HhgsJW4Yb...</td>\n",
       "      <td>GAME_ADVENTURE</td>\n",
       "    </tr>\n",
       "    <tr>\n",
       "      <td>8</td>\n",
       "      <td>com.eternal.ninja</td>\n",
       "      <td>2</td>\n",
       "      <td>0.2654</td>\n",
       "      <td>game, animal, shoot, gun, shooting, zombie, ju...</td>\n",
       "      <td>eternal action adventure game base original an...</td>\n",
       "      <td>eternal ninja is an action adventure game, whi...</td>\n",
       "      <td>https://lh3.googleusercontent.com/NeKGf8s7Klb_...</td>\n",
       "      <td>GAME_STRATEGY</td>\n",
       "    </tr>\n",
       "    <tr>\n",
       "      <td>9</td>\n",
       "      <td>com.bodyTemperature.Feverdiary</td>\n",
       "      <td>13</td>\n",
       "      <td>0.4737</td>\n",
       "      <td>test, question, workout, time, exercise, body,...</td>\n",
       "      <td>body temperature fever history diary store bod...</td>\n",
       "      <td>Body Temperature : Fever History Diary an appl...</td>\n",
       "      <td>https://lh3.googleusercontent.com/tOd8d10-JZhZ...</td>\n",
       "      <td>MEDICAL</td>\n",
       "    </tr>\n",
       "  </tbody>\n",
       "</table>\n",
       "</div>"
      ],
      "text/plain": [
       "                                 bundle_id  topic_num  topic_perc_contrib  \\\n",
       "0  com.nosoft.voicerecording.voicerecorder         14              0.5368   \n",
       "1                com.loveeffect.videomaker         12              0.6075   \n",
       "2                             com.amod.pxd          0              0.2715   \n",
       "3                     com.maxmiller.mrbomb          6              0.1667   \n",
       "4                  com.euchre.classic.game         15              0.5679   \n",
       "5                 puzzle.match.blocks.pzla          6              0.7417   \n",
       "6                  com.mimemodscraft.bendy         16              0.2817   \n",
       "7                     com.slimestudio.xray         16              0.2824   \n",
       "8                        com.eternal.ninja          2              0.2654   \n",
       "9           com.bodyTemperature.Feverdiary         13              0.4737   \n",
       "\n",
       "                                            keywords  \\\n",
       "0  call, sound, chat, message, friend, record, pe...   \n",
       "1  photo, video, image, share, picture, sticker, ...   \n",
       "2  game, girl, fun, food, baby, skin, cat, dress,...   \n",
       "3  game, puzzle, fun, match, block, challenge, bu...   \n",
       "4  game, card, solitaire, mode, move, classic, nu...   \n",
       "5  game, puzzle, fun, match, block, challenge, bu...   \n",
       "6  find, story, build, item, house, life, charact...   \n",
       "7  find, story, build, item, house, life, charact...   \n",
       "8  game, animal, shoot, gun, shooting, zombie, ju...   \n",
       "9  test, question, workout, time, exercise, body,...   \n",
       "\n",
       "                                     lemmatized_desc  \\\n",
       "0  voice recorder audio recorder voice recorder r...   \n",
       "1  photo photo animation heart lovely video photo...   \n",
       "2  connect friend safe environment explore concep...   \n",
       "3  blow house boom_boom boom bomb manipulate avoi...   \n",
       "4  euchre card game bacon trick card game popular...   \n",
       "5  enjoy simple puzzle game match block color cle...   \n",
       "6  fan horror game bendy fan combination game bun...   \n",
       "7  easily detect underground structure fossil dun...   \n",
       "8  eternal action adventure game base original an...   \n",
       "9  body temperature fever history diary store bod...   \n",
       "\n",
       "                                         description  \\\n",
       "0  Voice Recorder - HD Audio Recorder App is the ...   \n",
       "1  Love Photo Effects is the best app make an pho...   \n",
       "2  Connect and play with your friends in a safe e...   \n",
       "3  Blow up the house!Boom!Boom!Boom! Relaxing gam...   \n",
       "4  Euchre card game or bacon is a trick-taking ca...   \n",
       "5  Lets enjoy a simple and addictive puzzle game,...   \n",
       "6  If your are a fan of the horror game Bendy and...   \n",
       "7  Lets you more easily detect underground struct...   \n",
       "8  eternal ninja is an action adventure game, whi...   \n",
       "9  Body Temperature : Fever History Diary an appl...   \n",
       "\n",
       "                                            icon_url    primary_genre  \n",
       "0  https://lh3.googleusercontent.com/QfsL5VLwaeUh...  MUSIC_AND_AUDIO  \n",
       "1  https://lh3.googleusercontent.com/RTDwTk6DBPH5...    VIDEO_PLAYERS  \n",
       "2  https://lh3.googleusercontent.com/sMl0s_so1Cx9...    ENTERTAINMENT  \n",
       "3  https://lh3.googleusercontent.com/_4TdUsyOy5HJ...      GAME_CASUAL  \n",
       "4  https://lh3.googleusercontent.com/VOSc73wXYf8N...        GAME_CARD  \n",
       "5  https://lh3.googleusercontent.com/pL5wS6pVvX_n...        LIFESTYLE  \n",
       "6  https://lh3.googleusercontent.com/Ca0ZA7M6F-CR...   GAME_ADVENTURE  \n",
       "7  https://lh3.googleusercontent.com/Ng-HhgsJW4Yb...   GAME_ADVENTURE  \n",
       "8  https://lh3.googleusercontent.com/NeKGf8s7Klb_...    GAME_STRATEGY  \n",
       "9  https://lh3.googleusercontent.com/tOd8d10-JZhZ...          MEDICAL  "
      ]
     },
     "execution_count": 54,
     "metadata": {},
     "output_type": "execute_result"
    }
   ],
   "source": [
    "print(df_topic_sents_keywords.shape)\n",
    "df_topic_sents_keywords.head(10)"
   ]
  },
  {
   "cell_type": "code",
   "execution_count": 55,
   "metadata": {},
   "outputs": [
    {
     "data": {
      "text/plain": [
       "<matplotlib.axes._subplots.AxesSubplot at 0x1a5c70f860>"
      ]
     },
     "execution_count": 55,
     "metadata": {},
     "output_type": "execute_result"
    },
    {
     "data": {
      "image/png": "[encoded data removed]",
      "text/plain": [
       "<Figure size 432x288 with 1 Axes>"
      ]
     },
     "metadata": {
      "needs_background": "light"
     },
     "output_type": "display_data"
    }
   ],
   "source": [
    "df_topic_sents_keywords.to_csv(\"bundle_id_topic.csv\",index=False)\n",
    "df_topic_sents_keywords.topic_perc_contrib.hist()"
   ]
  },
  {
   "cell_type": "code",
   "execution_count": 56,
   "metadata": {},
   "outputs": [
    {
     "data": {
      "text/html": [
       "<div>\n",
       "<style scoped>\n",
       "    .dataframe tbody tr th:only-of-type {\n",
       "        vertical-align: middle;\n",
       "    }\n",
       "\n",
       "    .dataframe tbody tr th {\n",
       "        vertical-align: top;\n",
       "    }\n",
       "\n",
       "    .dataframe thead th {\n",
       "        text-align: right;\n",
       "    }\n",
       "</style>\n",
       "<table border=\"1\" class=\"dataframe\">\n",
       "  <thead>\n",
       "    <tr style=\"text-align: right;\">\n",
       "      <th></th>\n",
       "      <th>bundle_id</th>\n",
       "      <th>keywords</th>\n",
       "      <th>topic_perc_contrib</th>\n",
       "    </tr>\n",
       "  </thead>\n",
       "  <tbody>\n",
       "    <tr>\n",
       "      <td>20747</td>\n",
       "      <td>com.taggedme.fbadvice</td>\n",
       "      <td>call, sound, chat, message, friend, record, pe...</td>\n",
       "      <td>0.3227</td>\n",
       "    </tr>\n",
       "    <tr>\n",
       "      <td>25358</td>\n",
       "      <td>com.taggedapp</td>\n",
       "      <td>call, sound, chat, message, friend, record, pe...</td>\n",
       "      <td>0.1145</td>\n",
       "    </tr>\n",
       "    <tr>\n",
       "      <td>25437</td>\n",
       "      <td>com.skout.android</td>\n",
       "      <td>call, sound, chat, message, friend, record, pe...</td>\n",
       "      <td>0.2869</td>\n",
       "    </tr>\n",
       "  </tbody>\n",
       "</table>\n",
       "</div>"
      ],
      "text/plain": [
       "                   bundle_id  \\\n",
       "20747  com.taggedme.fbadvice   \n",
       "25358          com.taggedapp   \n",
       "25437      com.skout.android   \n",
       "\n",
       "                                                keywords  topic_perc_contrib  \n",
       "20747  call, sound, chat, message, friend, record, pe...              0.3227  \n",
       "25358  call, sound, chat, message, friend, record, pe...              0.1145  \n",
       "25437  call, sound, chat, message, friend, record, pe...              0.2869  "
      ]
     },
     "execution_count": 56,
     "metadata": {},
     "output_type": "execute_result"
    }
   ],
   "source": [
    "df_topic_sents_keywords[df_topic_sents_keywords.bundle_id.str.contains(\"grindr|tagged|skout\")][[\n",
    "    \"bundle_id\", \"keywords\", \"topic_perc_contrib\"]]"
   ]
  },
  {
   "cell_type": "markdown",
   "metadata": {},
   "source": [
    "### Topic distribution across documents"
   ]
  },
  {
   "cell_type": "code",
   "execution_count": null,
   "metadata": {},
   "outputs": [],
   "source": [
    "# Number of Documents for Each Topic\n",
    "topic_counts = df_topic_sents_keywords['topic_num'].value_counts()\n",
    "# Percentage of Documents for Each Topic\n",
    "topic_contribution = round(topic_counts/topic_counts.sum(), 4)\n"
   ]
  },
  {
   "cell_type": "code",
   "execution_count": null,
   "metadata": {},
   "outputs": [],
   "source": [
    "def get_unique_key_words(group):\n",
    "    return pd.Series({\"keywords\":group[\"keywords\"].iloc[0]})\n",
    "\n",
    "key_words=df_topic_sents_keywords.groupby(\"topic_num\").apply(get_unique_key_words)\n",
    "key_words.reset_index(inplace=True)"
   ]
  },
  {
   "cell_type": "code",
   "execution_count": null,
   "metadata": {},
   "outputs": [],
   "source": [
    "# Concatenate Column wise\n",
    "df_dominant_topics = pd.concat([topic_counts, topic_contribution], axis=1)\n",
    "# Change Column names\n",
    "df_dominant_topics.columns = ['Num_Documents', 'Perc_Documents']\n",
    "# Show\n",
    "df_dominant_topics[\"topic_num\"] = df_dominant_topics.index\n",
    "df_dominant_topics.reset_index(inplace=True)\n",
    "df_dominant_topics.drop([\"index\"], axis=1, inplace=True)\n",
    "df_dominant_topics = df_dominant_topics.merge(\n",
    "    key_words, how=\"inner\", on=\"topic_num\")\n",
    "df_dominant_topics.sort_values(\"Num_Documents\", ascending=False)\n",
    "df_dominant_topics"
   ]
  },
  {
   "cell_type": "code",
   "execution_count": null,
   "metadata": {},
   "outputs": [],
   "source": [
    "df_dominant_topics.to_csv(\"df_dominant_topics.csv\", index=False)"
   ]
  },
  {
   "cell_type": "markdown",
   "metadata": {},
   "source": [
    "### Save the model"
   ]
  },
  {
   "cell_type": "code",
   "execution_count": null,
   "metadata": {},
   "outputs": [],
   "source": [
    "help(best_model)"
   ]
  },
  {
   "cell_type": "code",
   "execution_count": null,
   "metadata": {},
   "outputs": [],
   "source": [
    "from datetime import date\n",
    "date = str(date.today())\n",
    "best_model.save(f\"saved_model/topic_model_{date}\")"
   ]
  },
  {
   "cell_type": "code",
   "execution_count": null,
   "metadata": {},
   "outputs": [],
   "source": [
    "loaded_model = gensim.models.wrappers.LdaMallet.load(\n",
    "    f\"saved_model/topic_model_{date}\")"
   ]
  },
  {
   "cell_type": "code",
   "execution_count": null,
   "metadata": {},
   "outputs": [],
   "source": [
    "test_df = pd.DataFrame()\n",
    "\n",
    "# Get main topic in each document\n",
    "for i, row in enumerate(loaded_model[corpus[:10]]):\n",
    "    row = sorted(row, key=lambda x: (x[1]), reverse=True)\n",
    "    # Get the Dominant topic, Perc Contribution and Keywords for each document\n",
    "    for j, (topic_num, prop_topic) in enumerate(row):\n",
    "        if j == 0:  # => dominant topic\n",
    "            wp = loaded_model.show_topic(topic_num)\n",
    "            topic_keywords = \", \".join([word for word, prop in wp])\n",
    "            test_df = test_df.append(pd.Series(\n",
    "                [int(topic_num), round(prop_topic, 4), topic_keywords]), ignore_index=True)\n",
    "        else:\n",
    "            break\n",
    "test_df.columns = ['Dominant_Topic',\n",
    "                          'Perc_Contribution', 'Topic_Keywords']\n",
    "test_df"
   ]
  },
  {
   "cell_type": "code",
   "execution_count": null,
   "metadata": {},
   "outputs": [],
   "source": []
  },
  {
   "cell_type": "code",
   "execution_count": null,
   "metadata": {},
   "outputs": [],
   "source": []
  }
 ],
 "metadata": {
  "kernelspec": {
   "display_name": "Python 3",
   "language": "python",
   "name": "python3"
  },
  "language_info": {
   "codemirror_mode": {
    "name": "ipython",
    "version": 3
   },
   "file_extension": ".py",
   "mimetype": "text/x-python",
   "name": "python",
   "nbconvert_exporter": "python",
   "pygments_lexer": "ipython3",
   "version": "3.7.3"
  },
  "toc": {
   "base_numbering": 1,
   "nav_menu": {},
   "number_sections": true,
   "sideBar": true,
   "skip_h1_title": false,
   "title_cell": "Table of Contents",
   "title_sidebar": "Contents",
   "toc_cell": false,
   "toc_position": {},
   "toc_section_display": true,
   "toc_window_display": false
  }
 },
 "nbformat": 4,
 "nbformat_minor": 2
}
