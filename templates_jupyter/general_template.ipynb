{
 "cells": [
  {
   "cell_type": "markdown",
   "metadata": {
    "toc": true
   },
   "source": [
    "<h1>Table of Contents<span class=\"tocSkip\"></span></h1>\n",
    "<div class=\"toc\"><ul class=\"toc-item\"><li><span><a href=\"#Title\" data-toc-modified-id=\"Title-1\"><span class=\"toc-item-num\">1&nbsp;&nbsp;</span>Title</a></span><ul class=\"toc-item\"><li><span><a href=\"#About-this-Notebook\" data-toc-modified-id=\"About-this-Notebook-1.1\"><span class=\"toc-item-num\">1.1&nbsp;&nbsp;</span>About this Notebook</a></span><ul class=\"toc-item\"><li><span><a href=\"#TODO:\" data-toc-modified-id=\"TODO:-1.1.1\"><span class=\"toc-item-num\">1.1.1&nbsp;&nbsp;</span>TODO:</a></span></li></ul></li><li><span><a href=\"#Table-of-Contents\" data-toc-modified-id=\"Table-of-Contents-1.2\"><span class=\"toc-item-num\">1.2&nbsp;&nbsp;</span>Table of Contents</a></span></li><li><span><a href=\"#Import-Packages\" data-toc-modified-id=\"Import-Packages-1.3\"><span class=\"toc-item-num\">1.3&nbsp;&nbsp;</span>Import Packages</a></span></li><li><span><a href=\"#Data-Introduction\" data-toc-modified-id=\"Data-Introduction-1.4\"><span class=\"toc-item-num\">1.4&nbsp;&nbsp;</span>Data Introduction</a></span></li><li><span><a href=\"#Load-Data\" data-toc-modified-id=\"Load-Data-1.5\"><span class=\"toc-item-num\">1.5&nbsp;&nbsp;</span>Load Data</a></span></li><li><span><a href=\"#Other-Sections\" data-toc-modified-id=\"Other-Sections-1.6\"><span class=\"toc-item-num\">1.6&nbsp;&nbsp;</span>Other Sections</a></span></li><li><span><a href=\"#Additional-Resources\" data-toc-modified-id=\"Additional-Resources-1.7\"><span class=\"toc-item-num\">1.7&nbsp;&nbsp;</span>Additional Resources</a></span></li></ul></li></ul></div>"
   ]
  },
  {
   "cell_type": "markdown",
   "metadata": {
    "Collapsed": "false"
   },
   "source": [
    "# Title"
   ]
  },
  {
   "cell_type": "markdown",
   "metadata": {
    "Collapsed": "false"
   },
   "source": [
    "## About this Notebook\n",
    "\n",
    "> Version/Last Updated: \n",
    "\n",
    "> Author:\n",
    "\n",
    "> Description: "
   ]
  },
  {
   "cell_type": "markdown",
   "metadata": {},
   "source": [
    "### TODO:\n",
    "\n",
    "> What to do next time or notes for this time around"
   ]
  },
  {
   "cell_type": "markdown",
   "metadata": {
    "Collapsed": "false"
   },
   "source": [
    "## Table of Contents"
   ]
  },
  {
   "cell_type": "markdown",
   "metadata": {
    "Collapsed": "false"
   },
   "source": [
    "## Import Packages"
   ]
  },
  {
   "cell_type": "code",
   "execution_count": 1,
   "metadata": {
    "Collapsed": "false"
   },
   "outputs": [],
   "source": [
    "import sys\n",
    "import logging\n",
    "\n",
    "# data manipulation\n",
    "import pandas as pd\n",
    "pd.set_option(\"display.max_rows\", 120)\n",
    "pd.set_option(\"display.max_columns\", 120)\n",
    "\n",
    "import numpy as np\n",
    "\n",
    "# autoreload magic for developing local packages\n",
    "%load_ext autoreload\n",
    "%autoreload 2\n",
    "# plotting\n",
    "import matplotlib as mpl\n",
    "import matplotlib.pyplot as plt\n",
    "%matplotlib inline\n",
    "%config InlineBackend.figure_format = 'retina' # higher resolution plots\n",
    "\n",
    "import seaborn as sns\n",
    "sns.set_context(\"poster\")\n",
    "sns.set(rc={'figure.figsize': (16, 9.)})\n",
    "sns.set_style(\"whitegrid\")\n",
    "\n",
    "# configure logging\n",
    "logging.basicConfig(level=logging.INFO, stream=sys.stdout)"
   ]
  },
  {
   "cell_type": "markdown",
   "metadata": {
    "Collapsed": "false"
   },
   "source": [
    "## Data Introduction\n",
    "Background information regarding the data / general assumptions"
   ]
  },
  {
   "cell_type": "markdown",
   "metadata": {
    "Collapsed": "false"
   },
   "source": [
    "## Load Data"
   ]
  },
  {
   "cell_type": "code",
   "execution_count": null,
   "metadata": {
    "Collapsed": "false"
   },
   "outputs": [],
   "source": []
  },
  {
   "cell_type": "markdown",
   "metadata": {
    "Collapsed": "false"
   },
   "source": [
    "## Other Sections"
   ]
  },
  {
   "cell_type": "code",
   "execution_count": null,
   "metadata": {
    "Collapsed": "false"
   },
   "outputs": [],
   "source": []
  },
  {
   "cell_type": "markdown",
   "metadata": {
    "Collapsed": "false"
   },
   "source": [
    "## Additional Resources"
   ]
  }
 ],
 "metadata": {
  "kernelspec": {
   "display_name": "Python 3",
   "language": "python",
   "name": "python3"
  },
  "language_info": {
   "codemirror_mode": {
    "name": "ipython",
    "version": 3
   },
   "file_extension": ".py",
   "mimetype": "text/x-python",
   "name": "python",
   "nbconvert_exporter": "python",
   "pygments_lexer": "ipython3",
   "version": "3.7.6"
  },
  "toc": {
   "base_numbering": 1,
   "nav_menu": {},
   "number_sections": true,
   "sideBar": true,
   "skip_h1_title": false,
   "title_cell": "Table of Contents",
   "title_sidebar": "Contents",
   "toc_cell": true,
   "toc_position": {},
   "toc_section_display": true,
   "toc_window_display": false
  },
  "toc-showcode": false,
  "toc-showmarkdowntxt": false,
  "toc-showtags": false
 },
 "nbformat": 4,
 "nbformat_minor": 4
}
