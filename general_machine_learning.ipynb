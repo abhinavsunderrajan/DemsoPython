{
 "cells": [
  {
   "cell_type": "markdown",
   "metadata": {
    "toc": true
   },
   "source": [
    "<h1>Table of Contents<span class=\"tocSkip\"></span></h1>\n",
    "<div class=\"toc\"><ul class=\"toc-item\"><li><span><a href=\"#Title\" data-toc-modified-id=\"Title-1\"><span class=\"toc-item-num\">1&nbsp;&nbsp;</span>Title</a></span><ul class=\"toc-item\"><li><span><a href=\"#About-this-Notebook\" data-toc-modified-id=\"About-this-Notebook-1.1\"><span class=\"toc-item-num\">1.1&nbsp;&nbsp;</span>About this Notebook</a></span><ul class=\"toc-item\"><li><span><a href=\"#TODO:\" data-toc-modified-id=\"TODO:-1.1.1\"><span class=\"toc-item-num\">1.1.1&nbsp;&nbsp;</span>TODO:</a></span></li></ul></li><li><span><a href=\"#Table-of-Contents\" data-toc-modified-id=\"Table-of-Contents-1.2\"><span class=\"toc-item-num\">1.2&nbsp;&nbsp;</span>Table of Contents</a></span></li><li><span><a href=\"#Import-Packages\" data-toc-modified-id=\"Import-Packages-1.3\"><span class=\"toc-item-num\">1.3&nbsp;&nbsp;</span>Import Packages</a></span></li><li><span><a href=\"#Data-Introduction\" data-toc-modified-id=\"Data-Introduction-1.4\"><span class=\"toc-item-num\">1.4&nbsp;&nbsp;</span>Data Introduction</a></span></li><li><span><a href=\"#Load-Data\" data-toc-modified-id=\"Load-Data-1.5\"><span class=\"toc-item-num\">1.5&nbsp;&nbsp;</span>Load Data</a></span></li><li><span><a href=\"#Preprocessing\" data-toc-modified-id=\"Preprocessing-1.6\"><span class=\"toc-item-num\">1.6&nbsp;&nbsp;</span>Preprocessing</a></span></li><li><span><a href=\"#Feature-Engineering\" data-toc-modified-id=\"Feature-Engineering-1.7\"><span class=\"toc-item-num\">1.7&nbsp;&nbsp;</span>Feature Engineering</a></span></li><li><span><a href=\"#Feature-Selection\" data-toc-modified-id=\"Feature-Selection-1.8\"><span class=\"toc-item-num\">1.8&nbsp;&nbsp;</span>Feature Selection</a></span><ul class=\"toc-item\"><li><span><a href=\"#List-of-Variables-Removed-and-Why:\" data-toc-modified-id=\"List-of-Variables-Removed-and-Why:-1.8.1\"><span class=\"toc-item-num\">1.8.1&nbsp;&nbsp;</span>List of Variables Removed and Why:</a></span></li><li><span><a href=\"#PCA\" data-toc-modified-id=\"PCA-1.8.2\"><span class=\"toc-item-num\">1.8.2&nbsp;&nbsp;</span>PCA</a></span></li></ul></li><li><span><a href=\"#Model-Selection-&amp;-Training\" data-toc-modified-id=\"Model-Selection-&amp;-Training-1.9\"><span class=\"toc-item-num\">1.9&nbsp;&nbsp;</span>Model Selection &amp; Training</a></span></li><li><span><a href=\"#Model-Evaluation\" data-toc-modified-id=\"Model-Evaluation-1.10\"><span class=\"toc-item-num\">1.10&nbsp;&nbsp;</span>Model Evaluation</a></span><ul class=\"toc-item\"><li><span><a href=\"#Classification-metrics\" data-toc-modified-id=\"Classification-metrics-1.10.1\"><span class=\"toc-item-num\">1.10.1&nbsp;&nbsp;</span>Classification metrics</a></span></li><li><span><a href=\"#Regression-metrics\" data-toc-modified-id=\"Regression-metrics-1.10.2\"><span class=\"toc-item-num\">1.10.2&nbsp;&nbsp;</span>Regression metrics</a></span></li></ul></li><li><span><a href=\"#Decisions-Made:\" data-toc-modified-id=\"Decisions-Made:-1.11\"><span class=\"toc-item-num\">1.11&nbsp;&nbsp;</span>Decisions Made:</a></span></li><li><span><a href=\"#Additional-Resources\" data-toc-modified-id=\"Additional-Resources-1.12\"><span class=\"toc-item-num\">1.12&nbsp;&nbsp;</span>Additional Resources</a></span></li></ul></li></ul></div>"
   ]
  },
  {
   "cell_type": "markdown",
   "metadata": {
    "Collapsed": "false"
   },
   "source": [
    "# Title"
   ]
  },
  {
   "cell_type": "markdown",
   "metadata": {
    "Collapsed": "false"
   },
   "source": [
    "## About this Notebook\n",
    "\n",
    "> Version/Last Updated: \n",
    "\n",
    "> Author:\n",
    "\n",
    "> Description: "
   ]
  },
  {
   "cell_type": "markdown",
   "metadata": {},
   "source": [
    "### TODO:\n",
    "\n",
    "> What to do next time or notes for this time around"
   ]
  },
  {
   "cell_type": "markdown",
   "metadata": {
    "Collapsed": "false"
   },
   "source": [
    "## Table of Contents"
   ]
  },
  {
   "cell_type": "markdown",
   "metadata": {
    "Collapsed": "false"
   },
   "source": [
    "## Import Packages"
   ]
  },
  {
   "cell_type": "code",
   "execution_count": 1,
   "metadata": {
    "Collapsed": "false"
   },
   "outputs": [],
   "source": [
    "import sys\n",
    "import logging\n",
    "\n",
    "# data manipulation\n",
    "import pandas as pd\n",
    "pd.set_option(\"display.max_rows\", 120)\n",
    "pd.set_option(\"display.max_columns\", 120)\n",
    "\n",
    "import numpy as np\n",
    "\n",
    "# autoreload magic for developing local packages\n",
    "%load_ext autoreload\n",
    "%autoreload 2\n",
    "\n",
    "# plotting\n",
    "import matplotlib as mpl\n",
    "import matplotlib.pyplot as plt\n",
    "%matplotlib inline\n",
    "%config InlineBackend.figure_format = 'retina' # higher resolution plots\n",
    "\n",
    "import seaborn as sns\n",
    "sns.set_context(\"poster\")\n",
    "sns.set(rc={'figure.figsize': (16, 9.)})\n",
    "sns.set_style(\"whitegrid\")\n",
    "\n",
    "# configure logging\n",
    "logging.basicConfig(level=logging.INFO, stream=sys.stdout)\n",
    "\n",
    "## common algorithms - feel free to replace these with whatever you use most often\n",
    "# from sklearn.linear_model import SGDClassifier, LogisticRegression, Perceptron\n",
    "# from sklearn.ensemble import RandomForestClassifier, AdaBoostClassifier, VotingClassifier, ExtraTreesClassifier\n",
    "# from sklearn.tree import DecisionTreeClassifier\n",
    "# from sklearn.neighbors import KNeighborsClassifier\n",
    "# from sklearn.svm import SVC, LinearSVC\n",
    "# from sklearn.naive_bayes import GaussianNB, MultinomialNB\n",
    "# from sklearn.neural_network import MLPClassifier\n",
    "# from xgboost import XGBClassifier\n",
    "# import xgboost as xgb\n",
    "# import lightgbm as lgb\n",
    "\n",
    "## Clustering\n",
    "# from sklearn.cluster import KMeans\n",
    "\n",
    "# Preprocessing \n",
    "from sklearn.model_selection import train_test_split\n",
    "from sklearn.preprocessing import LabelEncoder, StandardScaler, OneHotEncoder\n",
    "\n",
    "# Model Selection & Hyperparameter tuning\n",
    "from sklearn.model_selection import GridSearchCV, RandomizedSearchCV, StratifiedKFold"
   ]
  },
  {
   "cell_type": "markdown",
   "metadata": {
    "Collapsed": "false"
   },
   "source": [
    "## Data Introduction\n",
    "Background information regarding the data / general assumptions"
   ]
  },
  {
   "cell_type": "markdown",
   "metadata": {
    "Collapsed": "false"
   },
   "source": [
    "## Load Data"
   ]
  },
  {
   "cell_type": "code",
   "execution_count": null,
   "metadata": {
    "Collapsed": "false"
   },
   "outputs": [],
   "source": []
  },
  {
   "cell_type": "markdown",
   "metadata": {
    "Collapsed": "false"
   },
   "source": [
    "## Preprocessing"
   ]
  },
  {
   "cell_type": "code",
   "execution_count": null,
   "metadata": {
    "Collapsed": "false"
   },
   "outputs": [],
   "source": []
  },
  {
   "cell_type": "markdown",
   "metadata": {
    "Collapsed": "false"
   },
   "source": [
    "## Feature Engineering"
   ]
  },
  {
   "cell_type": "code",
   "execution_count": null,
   "metadata": {
    "Collapsed": "false"
   },
   "outputs": [],
   "source": []
  },
  {
   "cell_type": "markdown",
   "metadata": {
    "Collapsed": "false"
   },
   "source": [
    "## Feature Selection"
   ]
  },
  {
   "cell_type": "markdown",
   "metadata": {},
   "source": [
    "### List of Variables Removed and Why:\n",
    "* var1..."
   ]
  },
  {
   "cell_type": "code",
   "execution_count": null,
   "metadata": {
    "Collapsed": "false"
   },
   "outputs": [],
   "source": []
  },
  {
   "cell_type": "markdown",
   "metadata": {},
   "source": [
    "### PCA\n",
    "Note PCA should be not be used if model explainability is a concern. For example  feature importances from a tree based (ensemble) is rendered uneffective if PCA is used."
   ]
  },
  {
   "cell_type": "code",
   "execution_count": null,
   "metadata": {},
   "outputs": [],
   "source": [
    "# I am assuming that you have a pandas dataframe df containing the features here. Need to modify as per equirement\n",
    "# pca = PCA(n_components=df.shape[0])\n",
    "# pca.fit(df.values)\n",
    "# X_pca = pca.transform(df.values)\n",
    "\n",
    "\n",
    "# plt.plot(np.cumsum(pca.explained_variance_ratio_))\n",
    "# plt.xlabel('number of components')\n",
    "# plt.ylabel('cumulative explained variance');"
   ]
  },
  {
   "cell_type": "markdown",
   "metadata": {
    "Collapsed": "false"
   },
   "source": [
    "## Model Selection & Training"
   ]
  },
  {
   "cell_type": "code",
   "execution_count": null,
   "metadata": {
    "Collapsed": "false"
   },
   "outputs": [],
   "source": []
  },
  {
   "cell_type": "markdown",
   "metadata": {
    "Collapsed": "false"
   },
   "source": [
    "## Model Evaluation\n"
   ]
  },
  {
   "cell_type": "markdown",
   "metadata": {},
   "source": [
    "### Classification metrics"
   ]
  },
  {
   "cell_type": "code",
   "execution_count": 2,
   "metadata": {
    "Collapsed": "false"
   },
   "outputs": [],
   "source": [
    "from sklearn.metrics import classification_report\n",
    "from sklearn.metrics import confusion_matrix"
   ]
  },
  {
   "cell_type": "code",
   "execution_count": 3,
   "metadata": {},
   "outputs": [],
   "source": [
    "def plot_confusion_matrix(cm, classes,\n",
    "                          normalize=False,\n",
    "                          title='Confusion matrix',\n",
    "                          cmap=plt.cm.Blues):\n",
    "    \"\"\"\n",
    "    This function prints and plots the confusion matrix.\n",
    "    Normalization can be applied by setting `normalize=True`.\n",
    "    \"\"\"\n",
    "    if normalize:\n",
    "        cm = cm.astype('float') / cm.sum(axis=1)[:, np.newaxis]\n",
    "        print(\"Normalized confusion matrix\")\n",
    "    else:\n",
    "        print('Confusion matrix, without normalization')\n",
    "\n",
    "    print(cm)\n",
    "\n",
    "    plt.imshow(cm, interpolation='nearest', cmap=cmap)\n",
    "    plt.title(title)\n",
    "    plt.colorbar()\n",
    "    tick_marks = np.arange(len(classes))\n",
    "    plt.xticks(tick_marks, classes, rotation=45)\n",
    "    plt.yticks(tick_marks, classes)\n",
    "\n",
    "    fmt = '.2f' if normalize else 'd'\n",
    "    thresh = cm.max() / 2.\n",
    "    for i, j in itertools.product(range(cm.shape[0]), range(cm.shape[1])):\n",
    "        plt.text(j, i, format(cm[i, j], fmt),\n",
    "               horizontalalignment=\"center\",\n",
    "               color=\"white\" if cm[i, j] > thresh else \"black\")\n",
    "\n",
    "    plt.tight_layout()\n",
    "    plt.ylabel('True label')\n",
    "    plt.xlabel('Predicted label')\n",
    "    plt.show()"
   ]
  },
  {
   "cell_type": "markdown",
   "metadata": {},
   "source": [
    "##### Metrics and plotting for binary classification problems"
   ]
  },
  {
   "cell_type": "code",
   "execution_count": 4,
   "metadata": {},
   "outputs": [],
   "source": [
    "def binary_classification_plots(model,features_test,target, labels):\n",
    "    \"\"\"\n",
    "    This function plots and reports the most relevant bvinary classification metrics \n",
    "    namely confusion matrix, ROC curve, F1 and area under the precision recall curve.\n",
    "    \n",
    "    Parameters\n",
    "    model the binary classification model\n",
    "    features_test the features of the test set\n",
    "    target the target values (0/1) \n",
    "    labels the labels (matching strings with the 0/1)\n",
    "    \n",
    "    \"\"\"\n",
    "    predict_proba=model.predict_proba(features_test)\n",
    "    predicted=model.predict(features_test)\n",
    "    pred_prob=np.array(predict_proba[:,1])\n",
    "    area_under_curve =  roc_auc_score(target,pred_prob)\n",
    "    print(\"accuracy score:\",accuracy_score(target,model.predict(features_test)))\n",
    "    cm=confusion_matrix(target,predicted)\n",
    "    \n",
    "    sns.set(rc={'figure.figsize':(18,5)})\n",
    "    fig, ax=plt.subplots(1,3)\n",
    "    fig.suptitle(\"Metrics for binary classification\", fontsize=16)\n",
    "    \n",
    "    #confusion matrix\n",
    "    akws = {\"ha\": 'center',\"va\": 'center',\"size\": 17}\n",
    "    sns.heatmap(cm, annot=True,ax=ax[0],annot_kws=akws); #annot=True to annotate cells\n",
    "    ax[0].set_xlabel('Predicted labels')\n",
    "    ax[0].set_ylabel('True labels'); \n",
    "    ax[0].set_title('Confusion Matrix') \n",
    "    ax[0].xaxis.set_ticklabels(labels)\n",
    "    ax[0].yaxis.set_ticklabels(labels)\n",
    "    \n",
    "    #ROC\n",
    "    fpr, tpr, _ = metrics.roc_curve(target,  pred_prob)\n",
    "    ax[1].plot(fpr,tpr,label=f\"auc = {area_under_curve:.3f}\")\n",
    "    ax[1].set_xlabel('True positive rate')\n",
    "    ax[1].set_title('ROC curve')\n",
    "    ax[1].set_ylabel('False positive rate')\n",
    "    ax[1].legend(loc=\"lower right\")\n",
    "    \n",
    "    #precision recall\n",
    "    precision, recall, thresholds = precision_recall_curve(target, pred_prob)\n",
    "    f1 = f1_score(target, predicted)\n",
    "    auc_pr = auc(recall, precision)\n",
    "    ap = average_precision_score(target, pred_prob)\n",
    "    print('f1=%.3f auc_pr=%.3f avg_pr=%.3f auc=%.3f' % (f1, auc_pr, ap,area_under_curve))\n",
    "    \n",
    "    ax[2].plot(precision,recall,label=f\"auc_pr = {auc_pr:.3f}\")\n",
    "    ax[2].set_title('PR Curve')\n",
    "    ax[2].set_xlabel('Recall')\n",
    "    ax[2].set_ylabel('Precision')\n",
    "    ax[2].legend(loc=\"upper right\")"
   ]
  },
  {
   "cell_type": "markdown",
   "metadata": {},
   "source": [
    "### Regression metrics"
   ]
  },
  {
   "cell_type": "code",
   "execution_count": 5,
   "metadata": {},
   "outputs": [],
   "source": [
    "def get_metrics_regression(y_true, y_pred):\n",
    "    \"\"\"\n",
    "    Returns the regression metrics namely after p99 filtering.\n",
    "    MAPE - Mean average percentage error\n",
    "    Square error\n",
    "    Absolute error\n",
    "    Bias\n",
    "    \n",
    "    Parameters -\n",
    "    y_true the actual values for the test set\n",
    "    y_pred the predicted values for the test set\n",
    "    \"\"\"\n",
    "    \n",
    "    metrics = {}\n",
    "\n",
    "    ape_ett = np.abs(y_true-y_pred)/y_true\n",
    "    ape_ett = ape_ett[ape_ett < np.percentile(ape_ett, 99)]\n",
    "    metrics[\"MAPE\"] = ape_ett.mean()\n",
    "\n",
    "    sq_error_ett = (y_true-y_pred) ** 2\n",
    "    sq_error_ett = sq_error_ett[sq_error_ett < np.percentile(sq_error_ett, 99)]\n",
    "    metrics[\"SQUARE_ERROR\"] = np.sqrt(sq_error_ett.mean())\n",
    "\n",
    "    abs_error_ett = abs(y_true-y_pred)\n",
    "    abs_error_ett = abs_error_ett[abs_error_ett <\n",
    "                                  np.percentile(abs_error_ett, 99)]\n",
    "    metrics[\"ABS_ERROR\"] = abs_error_ett.mean()\n",
    "\n",
    "    ett_bias = y_true-y_pred\n",
    "    ett_bias = ett_bias[ett_bias < np.percentile(ett_bias, 99)]\n",
    "    metrics[\"BIAS\"] = ett_bias.mean()\n",
    "\n",
    "    return metrics"
   ]
  },
  {
   "cell_type": "markdown",
   "metadata": {},
   "source": [
    "## Decisions Made:\n",
    "* I decided to take the log of var1 because...\n",
    "* I decided to use a random forest because..."
   ]
  },
  {
   "cell_type": "markdown",
   "metadata": {
    "Collapsed": "false"
   },
   "source": [
    "## Additional Resources"
   ]
  }
 ],
 "metadata": {
  "kernelspec": {
   "display_name": "Python 3",
   "language": "python",
   "name": "python3"
  },
  "language_info": {
   "codemirror_mode": {
    "name": "ipython",
    "version": 3
   },
   "file_extension": ".py",
   "mimetype": "text/x-python",
   "name": "python",
   "nbconvert_exporter": "python",
   "pygments_lexer": "ipython3",
   "version": "3.7.6"
  },
  "toc": {
   "base_numbering": 1,
   "nav_menu": {},
   "number_sections": true,
   "sideBar": true,
   "skip_h1_title": false,
   "title_cell": "Table of Contents",
   "title_sidebar": "Contents",
   "toc_cell": true,
   "toc_position": {},
   "toc_section_display": true,
   "toc_window_display": false
  },
  "toc-showcode": false,
  "toc-showmarkdowntxt": false,
  "toc-showtags": false
 },
 "nbformat": 4,
 "nbformat_minor": 4
}
