{
 "cells": [
  {
   "cell_type": "markdown",
   "metadata": {},
   "source": [
    "## A/B testing for churn reduction\n",
    "Let’s assume an unengaged user is a churned user. Now suppose we use your model to identify unengaged users and implement some business actions try to convert them to engaged users (commonly known as reducing churn)\n",
    "1. What metrics and techniques would you use to assess the impact of the business action?<br>\n",
    "A valid metric that we could try to track is the number of completed/pending transactions that the users in the test group complete within a timeframe of `N` days. The time period `N` can be chosen as something reasonable as 100 days. If the buisness actions works, we should be seeing a gretaer number of transactions within the test group compared to the control group where no buisness actions were taken\n",
    "* How would you set up a test/experiment to check whether we are actually reducing churn?\n"
   ]
  },
  {
   "cell_type": "code",
   "execution_count": 1,
   "metadata": {},
   "outputs": [],
   "source": [
    "import pandas as pd\n",
    "import numpy as np\n",
    "import scipy.stats as scs\n",
    "import matplotlib.style as style\n",
    "import matplotlib.pyplot as plt\n",
    "import seaborn as sns\n",
    "import math\n",
    "style.use('ggplot')\n",
    "from IPython.display import display, HTML\n",
    "from pylab import rcParams\n",
    "%matplotlib inline"
   ]
  },
  {
   "cell_type": "markdown",
   "metadata": {},
   "source": [
    "### Create a dummy dataset"
   ]
  },
  {
   "cell_type": "code",
   "execution_count": 2,
   "metadata": {},
   "outputs": [
    {
     "name": "stdout",
     "output_type": "stream",
     "text": [
      "test       1000\n",
      "control    1000\n",
      "Name: group, dtype: int64\n"
     ]
    },
    {
     "data": {
      "text/html": [
       "<div>\n",
       "<style scoped>\n",
       "    .dataframe tbody tr th:only-of-type {\n",
       "        vertical-align: middle;\n",
       "    }\n",
       "\n",
       "    .dataframe tbody tr th {\n",
       "        vertical-align: top;\n",
       "    }\n",
       "\n",
       "    .dataframe thead th {\n",
       "        text-align: right;\n",
       "    }\n",
       "</style>\n",
       "<table border=\"1\" class=\"dataframe\">\n",
       "  <thead>\n",
       "    <tr style=\"text-align: right;\">\n",
       "      <th></th>\n",
       "      <th>customer_id</th>\n",
       "      <th>group</th>\n",
       "    </tr>\n",
       "  </thead>\n",
       "  <tbody>\n",
       "    <tr>\n",
       "      <td>0</td>\n",
       "      <td>0</td>\n",
       "      <td>test</td>\n",
       "    </tr>\n",
       "    <tr>\n",
       "      <td>1</td>\n",
       "      <td>1</td>\n",
       "      <td>test</td>\n",
       "    </tr>\n",
       "    <tr>\n",
       "      <td>2</td>\n",
       "      <td>2</td>\n",
       "      <td>test</td>\n",
       "    </tr>\n",
       "    <tr>\n",
       "      <td>3</td>\n",
       "      <td>3</td>\n",
       "      <td>test</td>\n",
       "    </tr>\n",
       "    <tr>\n",
       "      <td>4</td>\n",
       "      <td>4</td>\n",
       "      <td>test</td>\n",
       "    </tr>\n",
       "  </tbody>\n",
       "</table>\n",
       "</div>"
      ],
      "text/plain": [
       "   customer_id group\n",
       "0            0  test\n",
       "1            1  test\n",
       "2            2  test\n",
       "3            3  test\n",
       "4            4  test"
      ]
     },
     "execution_count": 2,
     "metadata": {},
     "output_type": "execute_result"
    }
   ],
   "source": [
    "df_hv = pd.DataFrame()\n",
    "df_hv['customer_id'] = np.array([count for count in range(2000)])\n",
    "df_hv['group'] = 'control'\n",
    "df_hv.loc[df_hv.index<1000,'group'] = 'test'\n",
    "print(df_hv.group.value_counts())\n",
    "df_hv.head()"
   ]
  },
  {
   "cell_type": "code",
   "execution_count": 3,
   "metadata": {},
   "outputs": [],
   "source": [
    "#assuming 2 transactions (on an avergae) over a 100 day period for the test group with buisness intervention\n",
    "# and 1 tranaction for the control group.\n",
    "df_hv.loc[df_hv.group == 'test', 'transaction_count'] = np.random.poisson(2.0, 1000)\n",
    "df_hv.loc[df_hv.group == 'control', 'transaction_count'] = np.random.poisson(1.0, 1000)\n"
   ]
  },
  {
   "cell_type": "code",
   "execution_count": 4,
   "metadata": {},
   "outputs": [
    {
     "data": {
      "text/plain": [
       "<matplotlib.legend.Legend at 0x1a22187080>"
      ]
     },
     "execution_count": 4,
     "metadata": {},
     "output_type": "execute_result"
    },
    {
     "data": {
      "image/png": "[encoded data removed]",
      "text/plain": [
       "<Figure size 576x288 with 1 Axes>"
      ]
     },
     "metadata": {
      "needs_background": "light"
     },
     "output_type": "display_data"
    }
   ],
   "source": [
    "fig, ax = plt.subplots(figsize=(8, 4))\n",
    "ax.hist(df_hv.loc[df_hv.group == 'test'].transaction_count, \n",
    "        alpha=0.5, color=\"blue\", label=\"test group\")\n",
    "ax.hist(df_hv.loc[df_hv.group == 'control'].transaction_count, \n",
    "        alpha=0.5, color=\"green\", label=\"control group\")\n",
    "ax.set_title(\"Number of transactions\")\n",
    "ax.legend()"
   ]
  },
  {
   "cell_type": "markdown",
   "metadata": {},
   "source": [
    "#### t-statistic: \n",
    "Represents the difference between averages of test and control group in units of standard error. Higher t-statistic value means bigger difference and supports our hypothesis.\n",
    "#### p-value: \n",
    "Measures the probability of the null hypothesis to be true.\n",
    "\n",
    "Based on the results below we can invalidate the null hypothesis that there has been no change because of the buisness action."
   ]
  },
  {
   "cell_type": "code",
   "execution_count": 5,
   "metadata": {},
   "outputs": [
    {
     "name": "stdout",
     "output_type": "stream",
     "text": [
      "Ttest_indResult(statistic=20.288091299699847, pvalue=2.3171483736334694e-83)\n"
     ]
    }
   ],
   "source": [
    "test_results = df_hv[df_hv.group == 'test'].transaction_count\n",
    "control_results = df_hv[df_hv.group == 'control'].transaction_count\n",
    "\n",
    "test_result = scs.ttest_ind(test_results, control_results)\n",
    "print(test_result)"
   ]
  },
  {
   "cell_type": "code",
   "execution_count": null,
   "metadata": {},
   "outputs": [],
   "source": []
  }
 ],
 "metadata": {
  "kernelspec": {
   "display_name": "Python 3",
   "language": "python",
   "name": "python3"
  },
  "language_info": {
   "codemirror_mode": {
    "name": "ipython",
    "version": 3
   },
   "file_extension": ".py",
   "mimetype": "text/x-python",
   "name": "python",
   "nbconvert_exporter": "python",
   "pygments_lexer": "ipython3",
   "version": "3.7.3"
  },
  "toc": {
   "base_numbering": 1,
   "nav_menu": {},
   "number_sections": true,
   "sideBar": true,
   "skip_h1_title": false,
   "title_cell": "Table of Contents",
   "title_sidebar": "Contents",
   "toc_cell": false,
   "toc_position": {},
   "toc_section_display": true,
   "toc_window_display": false
  }
 },
 "nbformat": 4,
 "nbformat_minor": 2
}
