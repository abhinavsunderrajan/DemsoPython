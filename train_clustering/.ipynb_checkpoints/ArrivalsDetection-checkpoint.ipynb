{
 "cells": [
  {
   "cell_type": "markdown",
   "metadata": {},
   "source": [
    "### Problem statement\n",
    "1. Determine the train arrivals based on the transition time events of wifi signals at the respective stations.\n",
    "2. I have formulated it as an unsupervised ML problem since the dataset is unlabelled.\n",
    "3. The ground truth data is used to ascertain to things:-\n",
    "    1. The number of train arrivals in each station in the time period.\n",
    "    2. The schedule of the arrivals of the first and last trains in each of the stops."
   ]
  },
  {
   "cell_type": "code",
   "execution_count": 1,
   "metadata": {},
   "outputs": [],
   "source": [
    "import pandas as pd\n",
    "import numpy as np\n",
    "import matplotlib.pyplot as plt\n",
    "from sklearn.cluster import KMeans\n",
    "from tqdm import tqdm\n",
    "%matplotlib inline\n",
    "import seaborn as sns; sns.set()"
   ]
  },
  {
   "cell_type": "markdown",
   "metadata": {},
   "source": [
    "### Load the events dataset"
   ]
  },
  {
   "cell_type": "code",
   "execution_count": 2,
   "metadata": {},
   "outputs": [
    {
     "name": "stdout",
     "output_type": "stream",
     "text": [
      "(37716, 6)\n"
     ]
    },
    {
     "data": {
      "text/html": [
       "<div>\n",
       "<style scoped>\n",
       "    .dataframe tbody tr th:only-of-type {\n",
       "        vertical-align: middle;\n",
       "    }\n",
       "\n",
       "    .dataframe tbody tr th {\n",
       "        vertical-align: top;\n",
       "    }\n",
       "\n",
       "    .dataframe thead th {\n",
       "        text-align: right;\n",
       "    }\n",
       "</style>\n",
       "<table border=\"1\" class=\"dataframe\">\n",
       "  <thead>\n",
       "    <tr style=\"text-align: right;\">\n",
       "      <th></th>\n",
       "      <th>from_stop</th>\n",
       "      <th>to_stop</th>\n",
       "      <th>departure_ts</th>\n",
       "      <th>arrival_ts</th>\n",
       "      <th>user_id</th>\n",
       "      <th>travel_time</th>\n",
       "    </tr>\n",
       "  </thead>\n",
       "  <tbody>\n",
       "    <tr>\n",
       "      <td>1419</td>\n",
       "      <td>A</td>\n",
       "      <td>B</td>\n",
       "      <td>-41</td>\n",
       "      <td>0</td>\n",
       "      <td>868462956041125229</td>\n",
       "      <td>41</td>\n",
       "    </tr>\n",
       "    <tr>\n",
       "      <td>1420</td>\n",
       "      <td>A</td>\n",
       "      <td>B</td>\n",
       "      <td>-57</td>\n",
       "      <td>0</td>\n",
       "      <td>-7108464334138306488</td>\n",
       "      <td>57</td>\n",
       "    </tr>\n",
       "    <tr>\n",
       "      <td>1421</td>\n",
       "      <td>A</td>\n",
       "      <td>B</td>\n",
       "      <td>-75</td>\n",
       "      <td>5</td>\n",
       "      <td>-5580035554712257388</td>\n",
       "      <td>80</td>\n",
       "    </tr>\n",
       "    <tr>\n",
       "      <td>1422</td>\n",
       "      <td>A</td>\n",
       "      <td>B</td>\n",
       "      <td>-45</td>\n",
       "      <td>5</td>\n",
       "      <td>8609463184398044933</td>\n",
       "      <td>50</td>\n",
       "    </tr>\n",
       "    <tr>\n",
       "      <td>1423</td>\n",
       "      <td>A</td>\n",
       "      <td>B</td>\n",
       "      <td>-55</td>\n",
       "      <td>7</td>\n",
       "      <td>-864327616201632446</td>\n",
       "      <td>62</td>\n",
       "    </tr>\n",
       "  </tbody>\n",
       "</table>\n",
       "</div>"
      ],
      "text/plain": [
       "     from_stop to_stop  departure_ts  arrival_ts              user_id  \\\n",
       "1419         A       B           -41           0   868462956041125229   \n",
       "1420         A       B           -57           0 -7108464334138306488   \n",
       "1421         A       B           -75           5 -5580035554712257388   \n",
       "1422         A       B           -45           5  8609463184398044933   \n",
       "1423         A       B           -55           7  -864327616201632446   \n",
       "\n",
       "      travel_time  \n",
       "1419           41  \n",
       "1420           57  \n",
       "1421           80  \n",
       "1422           50  \n",
       "1423           62  "
      ]
     },
     "execution_count": 2,
     "metadata": {},
     "output_type": "execute_result"
    }
   ],
   "source": [
    "train_data = pd.read_csv(\"train_detection_challenge/transition_events.csv\")\n",
    "train_data.sort_values([\"to_stop\", \"arrival_ts\"], inplace=True)\n",
    "train_data[\"travel_time\"] = train_data[\"arrival_ts\"]-train_data[\"departure_ts\"]\n",
    "print(train_data.shape)\n",
    "train_data.head()"
   ]
  },
  {
   "cell_type": "code",
   "execution_count": 3,
   "metadata": {},
   "outputs": [
    {
     "data": {
      "text/plain": [
       "C    23280\n",
       "B    14436\n",
       "Name: to_stop, dtype: int64"
      ]
     },
     "execution_count": 3,
     "metadata": {},
     "output_type": "execute_result"
    }
   ],
   "source": [
    "train_data.to_stop.value_counts()"
   ]
  },
  {
   "cell_type": "markdown",
   "metadata": {},
   "source": [
    "### Load the train arrivals ground truth\n",
    "Determine the first and last arrivals"
   ]
  },
  {
   "cell_type": "code",
   "execution_count": 4,
   "metadata": {},
   "outputs": [
    {
     "name": "stdout",
     "output_type": "stream",
     "text": [
      "(320, 2)\n"
     ]
    }
   ],
   "source": [
    "ground_truth=pd.read_csv(\"train_detection_challenge/train_arrival_times.csv\")\n",
    "ground_truth.sort_values([\"stop\",\"arrival_ts\"],inplace=True)\n",
    "print(ground_truth.shape)"
   ]
  },
  {
   "cell_type": "code",
   "execution_count": 5,
   "metadata": {},
   "outputs": [
    {
     "data": {
      "text/html": [
       "<div>\n",
       "<style scoped>\n",
       "    .dataframe tbody tr th:only-of-type {\n",
       "        vertical-align: middle;\n",
       "    }\n",
       "\n",
       "    .dataframe tbody tr th {\n",
       "        vertical-align: top;\n",
       "    }\n",
       "\n",
       "    .dataframe thead th {\n",
       "        text-align: right;\n",
       "    }\n",
       "</style>\n",
       "<table border=\"1\" class=\"dataframe\">\n",
       "  <thead>\n",
       "    <tr style=\"text-align: right;\">\n",
       "      <th></th>\n",
       "      <th>stop</th>\n",
       "      <th>max_arrival_ts</th>\n",
       "      <th>min_arrival_ts</th>\n",
       "    </tr>\n",
       "  </thead>\n",
       "  <tbody>\n",
       "    <tr>\n",
       "      <td>0</td>\n",
       "      <td>B</td>\n",
       "      <td>34985</td>\n",
       "      <td>300</td>\n",
       "    </tr>\n",
       "    <tr>\n",
       "      <td>1</td>\n",
       "      <td>C</td>\n",
       "      <td>35131</td>\n",
       "      <td>434</td>\n",
       "    </tr>\n",
       "  </tbody>\n",
       "</table>\n",
       "</div>"
      ],
      "text/plain": [
       "  stop  max_arrival_ts  min_arrival_ts\n",
       "0    B           34985             300\n",
       "1    C           35131             434"
      ]
     },
     "execution_count": 5,
     "metadata": {},
     "output_type": "execute_result"
    }
   ],
   "source": [
    "def get_min_max_arrival_ts(group):\n",
    "    ret = {}\n",
    "    ret[\"max_arrival_ts\"] = group[\"arrival_ts\"].max()\n",
    "    ret[\"min_arrival_ts\"] = group[\"arrival_ts\"].min()\n",
    "    ret[\"num_of_arrivals\"] = len(group[\"arrival_ts\"])\n",
    "    return pd.Series(ret)\n",
    "\n",
    "\n",
    "stats_ground = ground_truth.groupby(\"stop\").apply(get_min_max_arrival_ts)\n",
    "stats_ground.reset_index(inplace=True)\n",
    "stats_ground"
   ]
  },
  {
   "cell_type": "markdown",
   "metadata": {},
   "source": [
    "### Remove outlier travel times\n",
    "This indicates that these devices are not travelling by the train from the origin to destinations stations. I am filtering out all travel times greater than p95 for all OD stops."
   ]
  },
  {
   "cell_type": "code",
   "execution_count": 6,
   "metadata": {},
   "outputs": [
    {
     "data": {
      "text/plain": [
       "<matplotlib.axes._subplots.AxesSubplot at 0x10843d390>"
      ]
     },
     "execution_count": 6,
     "metadata": {},
     "output_type": "execute_result"
    },
    {
     "data": {
      "image/png": "[encoded data removed]",
      "text/plain": [
       "<Figure size 432x288 with 1 Axes>"
      ]
     },
     "metadata": {
      "needs_background": "light"
     },
     "output_type": "display_data"
    }
   ],
   "source": [
    "fig, ax = plt.subplots()\n",
    "train_data.boxplot(\n",
    "    column=['travel_time'], by=['from_stop', 'to_stop'], ax=ax)"
   ]
  },
  {
   "cell_type": "code",
   "execution_count": 7,
   "metadata": {},
   "outputs": [
    {
     "data": {
      "text/html": [
       "<div>\n",
       "<style scoped>\n",
       "    .dataframe tbody tr th:only-of-type {\n",
       "        vertical-align: middle;\n",
       "    }\n",
       "\n",
       "    .dataframe tbody tr th {\n",
       "        vertical-align: top;\n",
       "    }\n",
       "\n",
       "    .dataframe thead th {\n",
       "        text-align: right;\n",
       "    }\n",
       "</style>\n",
       "<table border=\"1\" class=\"dataframe\">\n",
       "  <thead>\n",
       "    <tr style=\"text-align: right;\">\n",
       "      <th></th>\n",
       "      <th>travel_time</th>\n",
       "      <th>0.05</th>\n",
       "      <th>0.95</th>\n",
       "      <th>0.99</th>\n",
       "    </tr>\n",
       "    <tr>\n",
       "      <th>from_stop</th>\n",
       "      <th>to_stop</th>\n",
       "      <th></th>\n",
       "      <th></th>\n",
       "      <th></th>\n",
       "    </tr>\n",
       "  </thead>\n",
       "  <tbody>\n",
       "    <tr>\n",
       "      <td rowspan=\"2\" valign=\"top\">A</td>\n",
       "      <td>B</td>\n",
       "      <td>56.0</td>\n",
       "      <td>176.0</td>\n",
       "      <td>369.65</td>\n",
       "    </tr>\n",
       "    <tr>\n",
       "      <td>C</td>\n",
       "      <td>196.0</td>\n",
       "      <td>419.6</td>\n",
       "      <td>648.00</td>\n",
       "    </tr>\n",
       "    <tr>\n",
       "      <td>B</td>\n",
       "      <td>C</td>\n",
       "      <td>4.0</td>\n",
       "      <td>169.0</td>\n",
       "      <td>264.00</td>\n",
       "    </tr>\n",
       "  </tbody>\n",
       "</table>\n",
       "</div>"
      ],
      "text/plain": [
       "travel_time         0.05   0.95    0.99\n",
       "from_stop to_stop                      \n",
       "A         B         56.0  176.0  369.65\n",
       "          C        196.0  419.6  648.00\n",
       "B         C          4.0  169.0  264.00"
      ]
     },
     "execution_count": 7,
     "metadata": {},
     "output_type": "execute_result"
    }
   ],
   "source": [
    "def get_quantiles(group):\n",
    "    return group[\"travel_time\"].quantile([.05,0.95,0.99])\n",
    "\n",
    "train_data.groupby([\"from_stop\", \"to_stop\"]).apply(get_quantiles)"
   ]
  },
  {
   "cell_type": "code",
   "execution_count": 8,
   "metadata": {},
   "outputs": [
    {
     "name": "stdout",
     "output_type": "stream",
     "text": [
      "(34570, 6)\n"
     ]
    }
   ],
   "source": [
    "train_data.drop(train_data[((train_data.from_stop == \"A\") & (\n",
    "    train_data.to_stop == \"B\")) & ((train_data.travel_time > 176))].index, inplace=True)\n",
    "\n",
    "train_data.drop(train_data[((train_data.from_stop == \"B\") & (\n",
    "    train_data.to_stop == \"C\")) &\n",
    "    ((train_data.travel_time > 169) | (train_data.travel_time <= 4))].index,  inplace=True)\n",
    "\n",
    "train_data.drop(train_data[((train_data.from_stop == \"A\") & (\n",
    "    train_data.to_stop == \"C\")) & ((train_data.travel_time > 420))].index,  inplace=True)\n",
    "print(train_data.shape)"
   ]
  },
  {
   "cell_type": "code",
   "execution_count": 9,
   "metadata": {},
   "outputs": [
    {
     "data": {
      "text/plain": [
       "<matplotlib.axes._subplots.AxesSubplot at 0x1a1cf474a8>"
      ]
     },
     "execution_count": 9,
     "metadata": {},
     "output_type": "execute_result"
    },
    {
     "data": {
      "image/png": "[encoded data removed]",
      "text/plain": [
       "<Figure size 432x288 with 1 Axes>"
      ]
     },
     "metadata": {
      "needs_background": "light"
     },
     "output_type": "display_data"
    }
   ],
   "source": [
    "fig, ax = plt.subplots()\n",
    "train_data.boxplot(\n",
    "    column=['travel_time'], by=['from_stop','to_stop'], ax=ax)"
   ]
  },
  {
   "cell_type": "markdown",
   "metadata": {},
   "source": [
    "### Remove departure_ts outliers\n",
    "* departure_ts cannot be greater than the maximum arrival_ts for the stop.\n",
    "* I am filtering out departure_ts<0"
   ]
  },
  {
   "cell_type": "code",
   "execution_count": null,
   "metadata": {},
   "outputs": [],
   "source": [
    "train_data.drop(train_data[(train_data.to_stop == \"B\") &\n",
    "(train_data.departure_ts > 34985)].index, inplace=True)\n",
    "\n",
    "train_data.drop(train_data[(train_data.to_stop == \"C\") &\n",
    "(train_data.departure_ts > 35131)].index, inplace=True)\n",
    "train_data = train_data[train_data.departure_ts > 0]\n",
    "train_data.shape"
   ]
  },
  {
   "cell_type": "markdown",
   "metadata": {},
   "source": [
    "### EDA on ground truth data"
   ]
  },
  {
   "cell_type": "code",
   "execution_count": null,
   "metadata": {},
   "outputs": [],
   "source": [
    "ground_truth_B = ground_truth[ground_truth.stop == \"B\"].copy()\n",
    "ground_truth_C = ground_truth[ground_truth.stop == \"C\"].copy()"
   ]
  },
  {
   "cell_type": "code",
   "execution_count": null,
   "metadata": {},
   "outputs": [],
   "source": [
    "ground_truth_C[\"next\"]=ground_truth_C.arrival_ts.shift(-1)\n",
    "ground_truth_C[\"IAT\"]=ground_truth_C[\"next\"]-ground_truth_C[\"arrival_ts\"]\n",
    "\n",
    "ground_truth_B[\"next\"]=ground_truth_B.arrival_ts.shift(-1)\n",
    "ground_truth_B[\"IAT\"]=ground_truth_B[\"next\"]-ground_truth_B[\"arrival_ts\"]\n"
   ]
  },
  {
   "cell_type": "code",
   "execution_count": null,
   "metadata": {},
   "outputs": [],
   "source": [
    "fig, ax = plt.subplots(figsize=(8,6))\n",
    "ax.plot(ground_truth_C[\"arrival_ts\"],ground_truth_C[\"IAT\"],color='green',label=\"IAT stop C\")\n",
    "ax.plot(ground_truth_B[\"arrival_ts\"],ground_truth_B[\"IAT\"],color='blue',label=\"IAT stop B\")\n",
    "plt.legend(loc=4)\n",
    "plt.draw()"
   ]
  },
  {
   "cell_type": "markdown",
   "metadata": {},
   "source": [
    "### Evaluating model performance"
   ]
  },
  {
   "cell_type": "code",
   "execution_count": null,
   "metadata": {},
   "outputs": [],
   "source": [
    "def metrics(y_true, y_pred):\n",
    "    \"\"\"\n",
    "    I asess the accuarcy of the model based on the 4 metrics below, MAPE, RMSE,\n",
    "    Mean absolute error and Mean bias\n",
    "    \"\"\"\n",
    "    ape = np.abs(y_true-y_pred)/y_true\n",
    "    ape = ape[ape < np.percentile(ape, 99)]\n",
    "    print(\"MAPE\", ape.mean())\n",
    "\n",
    "    sq_error = (y_true-y_pred) ** 2\n",
    "    sq_error = sq_error[sq_error < np.percentile(sq_error, 99)]\n",
    "    print(\"RMSE:\", np.sqrt(sq_error.mean()))\n",
    "\n",
    "    abs_error = abs(y_true-y_pred)\n",
    "    abs_error = abs_error[abs_error <\n",
    "                                  np.percentile(abs_error, 99)]\n",
    "    print(\"Mean absolute error:\", abs_error.mean())\n",
    "\n",
    "    # bias\n",
    "    bias = y_true-y_pred\n",
    "    bias = bias[bias < np.percentile(bias, 99)]\n",
    "    print(\"Mean Bias\", bias.mean())"
   ]
  },
  {
   "cell_type": "markdown",
   "metadata": {},
   "source": [
    "### Fit K means"
   ]
  },
  {
   "cell_type": "code",
   "execution_count": null,
   "metadata": {},
   "outputs": [],
   "source": [
    "def elbow_plot_kmeans(data, dataset_name, K=range(155, 175)):\n",
    "    Sum_of_squared_distances = []\n",
    "\n",
    "    for k in tqdm(K):\n",
    "        km = KMeans(n_clusters=k)\n",
    "        km = km.fit(data)\n",
    "        Sum_of_squared_distances.append(km.inertia_)\n",
    "\n",
    "    plt.plot(K, Sum_of_squared_distances, 'bx-')\n",
    "    plt.xlabel('k')\n",
    "    plt.ylabel('Sum_of_squared_distances')\n",
    "    plt.title(f'Elbow Method For Optimal k {dataset_name}')\n",
    "    plt.show()"
   ]
  },
  {
   "cell_type": "code",
   "execution_count": null,
   "metadata": {},
   "outputs": [],
   "source": [
    "arrivals_B = train_data[train_data.to_stop == \"B\"].arrival_ts\n",
    "arrivals_C = train_data[train_data.to_stop == \"C\"].arrival_ts"
   ]
  },
  {
   "cell_type": "markdown",
   "metadata": {},
   "source": [
    "#### Train the KMeans model for stop B"
   ]
  },
  {
   "cell_type": "code",
   "execution_count": null,
   "metadata": {},
   "outputs": [],
   "source": [
    "elbow_plot_kmeans(np.array(arrivals_B).reshape(-1,1),\"Arrivals B\")\n"
   ]
  },
  {
   "cell_type": "code",
   "execution_count": null,
   "metadata": {},
   "outputs": [],
   "source": [
    "data_arrivals_B = np.array(arrivals_B).reshape(-1, 1)\n",
    "km = KMeans(n_clusters=160)\n",
    "km = km.fit(data_arrivals_B)\n",
    "cluster_centers_B = list(km.cluster_centers_.reshape(-1,))\n",
    "cluster_centers_B.sort()"
   ]
  },
  {
   "cell_type": "code",
   "execution_count": null,
   "metadata": {},
   "outputs": [],
   "source": [
    "ground_truth_B[\"predicted_arrival\"]=cluster_centers_B\n",
    "metrics(ground_truth_B[\"arrival_ts\"], ground_truth_B[\"predicted_arrival\"])"
   ]
  },
  {
   "cell_type": "code",
   "execution_count": null,
   "metadata": {},
   "outputs": [],
   "source": [
    "ground_truth_B[\"diff\"] = ground_truth_B[\"arrival_ts\"] - \\\n",
    "    ground_truth_B[\"predicted_arrival\"]\n",
    "ax=sns.lineplot(\"arrival_ts\", \"diff\", data=ground_truth_B)\n",
    "title=ax.set_title(\"Errors in arrival_ts for stop B (KMeans)\")"
   ]
  },
  {
   "cell_type": "markdown",
   "metadata": {},
   "source": [
    "#### Train the KMeans for stop C"
   ]
  },
  {
   "cell_type": "code",
   "execution_count": null,
   "metadata": {},
   "outputs": [],
   "source": [
    "elbow_plot_kmeans(np.array(arrivals_C).reshape(-1, 1),\n",
    "                  \"Arrivals C\")"
   ]
  },
  {
   "cell_type": "code",
   "execution_count": null,
   "metadata": {},
   "outputs": [],
   "source": [
    "data_arrivals_C = np.array(arrivals_C).reshape(-1, 1)\n",
    "km = KMeans(n_clusters=161)\n",
    "km = km.fit(data_arrivals_C)\n",
    "cluster_centers_C = list(km.cluster_centers_.reshape(-1,))\n",
    "cluster_centers_C.sort()"
   ]
  },
  {
   "cell_type": "code",
   "execution_count": null,
   "metadata": {},
   "outputs": [],
   "source": [
    "ground_truth_C[\"predicted_arrival\"]=cluster_centers_C[1:]\n",
    "metrics(ground_truth_C[\"arrival_ts\"], ground_truth_C[\"predicted_arrival\"])"
   ]
  },
  {
   "cell_type": "code",
   "execution_count": null,
   "metadata": {},
   "outputs": [],
   "source": [
    "ground_truth_C[\"diff\"] = ground_truth_C[\"arrival_ts\"] - \\\n",
    "    ground_truth_C[\"predicted_arrival\"]\n",
    "ax = sns.lineplot(\"arrival_ts\", \"diff\", data=ground_truth_C)\n",
    "title = ax.set_title(\"Errors in arrival_ts for stop C (KMeans)\")"
   ]
  },
  {
   "cell_type": "markdown",
   "metadata": {},
   "source": [
    "### Fit DBSCAN\n",
    "I think Density based clustering is a good idea to try since it is more resilient to noise and outliers since it takes into account the density of the data points. This is critical in our use case since arrival events tend to cluster around the actual arrival of a train.\n",
    "\n",
    "Choosing the model hyper parameters is tricky"
   ]
  },
  {
   "cell_type": "code",
   "execution_count": null,
   "metadata": {},
   "outputs": [],
   "source": [
    "from sklearn.cluster import DBSCAN\n",
    "from sklearn.neighbors import NearestNeighbors"
   ]
  },
  {
   "cell_type": "code",
   "execution_count": null,
   "metadata": {},
   "outputs": [],
   "source": [
    "def train_DBSCAN(arrivals_ts, eps, min_samples=20):\n",
    "\n",
    "    def get_cluster_mean(group):\n",
    "        cluster_center = group[\"arrival_ts\"].mean()\n",
    "        return pd.Series({\"cluster_center\": cluster_center})\n",
    "\n",
    "    clustering = DBSCAN(eps=eps, min_samples=min_samples).fit(\n",
    "        np.array(arrivals_ts).reshape(-1, 1))\n",
    "    cluster_labels = list(clustering.labels_)\n",
    "    result = pd.DataFrame(\n",
    "        {\"arrival_ts\": arrivals_ts, \"cluster_labels\": cluster_labels})\n",
    "    result_clustering = result.groupby(\"cluster_labels\").apply(\n",
    "        get_cluster_mean)\n",
    "    result_clustering.reset_index(inplace=True)\n",
    "    return result_clustering"
   ]
  },
  {
   "cell_type": "code",
   "execution_count": null,
   "metadata": {},
   "outputs": [],
   "source": [
    "def generate_result_DBScan(ground_truth, predictions, stop_name):\n",
    "    result = pd.DataFrame({\"arrival_ts\": list(ground_truth),\n",
    "                           \"predicted_arrival\": list(predictions)})\n",
    "    result[\"diff\"] = result[\"arrival_ts\"] - result[\"predicted_arrival\"]\n",
    "    return result"
   ]
  },
  {
   "cell_type": "code",
   "execution_count": null,
   "metadata": {},
   "outputs": [],
   "source": [
    "result_clustering_stop_B = train_DBSCAN(arrivals_B, eps=30)\n",
    "resultDF_B = generate_result_DBScan(ground_truth[ground_truth.stop == \"B\"][\"arrival_ts\"],\n",
    "                                    result_clustering_stop_B.iloc[1:, 1], \"B\")"
   ]
  },
  {
   "cell_type": "code",
   "execution_count": null,
   "metadata": {},
   "outputs": [],
   "source": [
    "print(metrics(resultDF_B[\"arrival_ts\"], resultDF_B[\"predicted_arrival\"]))\n",
    "ax = sns.lineplot(\"arrival_ts\", \"diff\", data=resultDF_B)\n",
    "title = ax.set_title(\"Errors in arrival_ts for stop B (DBScan)\")\n",
    "worst_error=np.abs(resultDF_B[\"diff\"]).max()\n",
    "print(f\"Worst case prediction error for stop B is {worst_error} time units\")"
   ]
  },
  {
   "cell_type": "code",
   "execution_count": null,
   "metadata": {},
   "outputs": [],
   "source": [
    "result_clustering_stop_C = train_DBSCAN(arrivals_C, eps=16, min_samples=23)\n",
    "resultDF_C = generate_result_DBScan(ground_truth[ground_truth.stop == \"C\"][\"arrival_ts\"],\n",
    "                                    result_clustering_stop_C.iloc[2:, 1], \"C\")"
   ]
  },
  {
   "cell_type": "code",
   "execution_count": null,
   "metadata": {},
   "outputs": [],
   "source": [
    "print(metrics(resultDF_C[\"arrival_ts\"], resultDF_C[\"predicted_arrival\"]))\n",
    "ax = sns.lineplot(\"arrival_ts\", \"diff\", data=resultDF_C)\n",
    "title = ax.set_title(\"Errors in arrival_ts for stop C (DBScan)\")\n",
    "\n",
    "worst_error=np.abs(resultDF_C[\"diff\"]).max()\n",
    "print(f\"Worst case prediction error for stop C is {worst_error} time units\")"
   ]
  },
  {
   "cell_type": "markdown",
   "metadata": {},
   "source": [
    "### Conclusions\n",
    "* The density based clustering method proved to be more successful in clustering the arrival events in comparison to the Kmeans clustering method despite choosing the number of clusters based on the elbow plot.\n",
    "* The DBScan was trickier to train since the number of clusters has to be exactly 160 for predicting the number of train arrivals in each of the stations B and C.\n",
    "* The hyperparameters of DBScan were chosen in such a way to ensure that the number of clusters were 160 for station B and 161 for station C. The top most cluster for station C was ignored."
   ]
  },
  {
   "cell_type": "code",
   "execution_count": null,
   "metadata": {},
   "outputs": [],
   "source": []
  }
 ],
 "metadata": {
  "kernelspec": {
   "display_name": "Python 3",
   "language": "python",
   "name": "python3"
  },
  "language_info": {
   "codemirror_mode": {
    "name": "ipython",
    "version": 3
   },
   "file_extension": ".py",
   "mimetype": "text/x-python",
   "name": "python",
   "nbconvert_exporter": "python",
   "pygments_lexer": "ipython3",
   "version": "3.7.3"
  },
  "toc": {
   "base_numbering": 1,
   "nav_menu": {},
   "number_sections": true,
   "sideBar": true,
   "skip_h1_title": false,
   "title_cell": "Table of Contents",
   "title_sidebar": "Contents",
   "toc_cell": false,
   "toc_position": {},
   "toc_section_display": true,
   "toc_window_display": false
  }
 },
 "nbformat": 4,
 "nbformat_minor": 2
}
