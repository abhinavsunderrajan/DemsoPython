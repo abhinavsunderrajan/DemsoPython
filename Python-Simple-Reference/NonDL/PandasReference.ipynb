{
 "cells": [
  {
   "cell_type": "code",
   "execution_count": null,
   "metadata": {},
   "outputs": [],
   "source": [
    "import pandas as pd\n",
    "import numpy as np"
   ]
  },
  {
   "cell_type": "markdown",
   "metadata": {},
   "source": [
    "### Pandas long to time stamp with timezone"
   ]
  },
  {
   "cell_type": "code",
   "execution_count": null,
   "metadata": {},
   "outputs": [],
   "source": [
    "df[\"time_stamp\"] = df[\"hour_epoch\"]*3600\n",
    "\n",
    "# convert to singapore time zone.\n",
    "df[\"date_time\"] = pd.to_datetime(df[\"time_stamp\"], unit='s', utc=True)\n",
    "df[\"date_time\"] = df.date_time.dt.tz_convert('Asia/Singapore')\n",
    "\n",
    "df[\"year\"] = df[\"date_time\"].map(lambda x: x.year)\n",
    "df[\"month\"] = df[\"date_time\"].map(lambda x: x.month)\n",
    "df[\"day\"] = df[\"date_time\"].map(lambda x: x.day)"
   ]
  },
  {
   "cell_type": "markdown",
   "metadata": {},
   "source": [
    "### Get athena query results"
   ]
  },
  {
   "cell_type": "code",
   "execution_count": null,
   "metadata": {},
   "outputs": [],
   "source": [
    "from pyathena import connect\n",
    "from pyathena.pandas_cursor import PandasCursor\n",
    "\n",
    "cursor = connect(profile_name=\"profile_name\",\n",
    "                 s3_staging_dir=\"s3://bucket/prefix/\",  # s3 directory for athena query results\n",
    "                 database=db_name,\n",
    "                 region_name=\"us-east-1\",\n",
    "                 cursor_class=PandasCursor).cursor()\n",
    "\n",
    "\n",
    "def get_query_result(query, database):\n",
    "    query_result = cursor.execute(query).as_pandas()\n",
    "    return query_result\n",
    "\n",
    "\n",
    "query = \"\"\"\"\"\"\n",
    "athena_results = get_query_result(query, db_name)"
   ]
  },
  {
   "cell_type": "code",
   "execution_count": null,
   "metadata": {},
   "outputs": [],
   "source": []
  }
 ],
 "metadata": {
  "kernelspec": {
   "display_name": "Python 3",
   "language": "python",
   "name": "python3"
  },
  "language_info": {
   "codemirror_mode": {
    "name": "ipython",
    "version": 3
   },
   "file_extension": ".py",
   "mimetype": "text/x-python",
   "name": "python",
   "nbconvert_exporter": "python",
   "pygments_lexer": "ipython3",
   "version": "3.7.3"
  },
  "toc": {
   "base_numbering": 1,
   "nav_menu": {},
   "number_sections": true,
   "sideBar": true,
   "skip_h1_title": false,
   "title_cell": "Table of Contents",
   "title_sidebar": "Contents",
   "toc_cell": false,
   "toc_position": {},
   "toc_section_display": true,
   "toc_window_display": true
  }
 },
 "nbformat": 4,
 "nbformat_minor": 2
}
