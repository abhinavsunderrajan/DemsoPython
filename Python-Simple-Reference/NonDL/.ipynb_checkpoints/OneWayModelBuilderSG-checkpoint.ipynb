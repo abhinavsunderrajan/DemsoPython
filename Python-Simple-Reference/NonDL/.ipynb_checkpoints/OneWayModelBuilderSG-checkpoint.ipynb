{
 "cells": [
  {
   "cell_type": "markdown",
   "metadata": {},
   "source": [
    "## Description\n",
    "The other notebook does not make use of snap to road. Now I make use of snap to road results where I count the number of vehicles in either direction of the road. Again I have to reiterate that I make use of STR results.\n",
    "The mapops has assured me that the SIngapore map version 2018-410 is crubbed clean in terms of DoT and road types hence I am using it as the ground truth to train classifiers."
   ]
  },
  {
   "cell_type": "code",
   "execution_count": 1,
   "metadata": {},
   "outputs": [
    {
     "name": "stderr",
     "output_type": "stream",
     "text": [
      "/usr/local/lib/python3.6/dist-packages/sklearn/cross_validation.py:41: DeprecationWarning: This module was deprecated in version 0.18 in favor of the model_selection module into which all the refactored classes and functions are moved. Also note that the interface of the new CV iterators are different from that of this module. This module will be removed in 0.20.\n",
      "  \"This module will be removed in 0.20.\", DeprecationWarning)\n",
      "/usr/local/lib/python3.6/dist-packages/sklearn/grid_search.py:42: DeprecationWarning: This module was deprecated in version 0.18 in favor of the model_selection module into which all the refactored classes and functions are moved. This module will be removed in 0.20.\n",
      "  DeprecationWarning)\n"
     ]
    }
   ],
   "source": [
    "import xgboost as xgb\n",
    "from sklearn.metrics import roc_auc_score\n",
    "from sklearn.metrics import confusion_matrix\n",
    "from sklearn.metrics import accuracy_score\n",
    "from sklearn.metrics import roc_curve\n",
    "from sklearn.model_selection import train_test_split\n",
    "import pandas as pd\n",
    "import numpy as np\n",
    "from xgboost import plot_importance\n",
    "from sklearn.grid_search import GridSearchCV\n",
    "from sklearn.model_selection import train_test_split\n",
    "import pandas as pd\n",
    "import numpy as np\n",
    "import matplotlib.pyplot as plt\n",
    "import seaborn as sns\n",
    "from IPython.display import display\n",
    "import joblib\n",
    "%matplotlib inline  "
   ]
  },
  {
   "cell_type": "markdown",
   "metadata": {},
   "source": [
    "### Should I include road type and feature\n",
    "This is a bit problamatic since road type may not be correctly identified for smaller other countries apart from SG. Hence we can only rely upon the direction stats and road length and not on the road type feature.\n",
    "\n",
    "Major problem is that diffrent cities have different probabilities of their road types being oneway or not. For example in Singapore primary roads are overwhelmingly oneway, not so much in Jakarta. While residential roads in Singapore can be one way or bidirectional in SG but are almost overhwhelmingly bi-directional.\n",
    "\n",
    "Now to counter this what I plan to do is give a prior for the road category of the road being oneway. This will dynamically change for different cities and act as a proxy for road type.|"
   ]
  },
  {
   "cell_type": "code",
   "execution_count": 2,
   "metadata": {},
   "outputs": [],
   "source": [
    "include_road_type=False\n",
    "map_version='2018-410'\n",
    "city_id=6"
   ]
  },
  {
   "cell_type": "code",
   "execution_count": 3,
   "metadata": {},
   "outputs": [
    {
     "name": "stdout",
     "output_type": "stream",
     "text": [
      "(55737, 6)\n"
     ]
    },
    {
     "data": {
      "text/html": [
       "<div>\n",
       "<style scoped>\n",
       "    .dataframe tbody tr th:only-of-type {\n",
       "        vertical-align: middle;\n",
       "    }\n",
       "\n",
       "    .dataframe tbody tr th {\n",
       "        vertical-align: top;\n",
       "    }\n",
       "\n",
       "    .dataframe thead th {\n",
       "        text-align: right;\n",
       "    }\n",
       "</style>\n",
       "<table border=\"1\" class=\"dataframe\">\n",
       "  <thead>\n",
       "    <tr style=\"text-align: right;\">\n",
       "      <th></th>\n",
       "      <th>way_id</th>\n",
       "      <th>dir1</th>\n",
       "      <th>dir2</th>\n",
       "      <th>roadtype</th>\n",
       "      <th>road_len</th>\n",
       "      <th>oneway</th>\n",
       "    </tr>\n",
       "  </thead>\n",
       "  <tbody>\n",
       "    <tr>\n",
       "      <th>0</th>\n",
       "      <td>547102905</td>\n",
       "      <td>86.0</td>\n",
       "      <td>294.0</td>\n",
       "      <td>service</td>\n",
       "      <td>128.597534</td>\n",
       "      <td>0</td>\n",
       "    </tr>\n",
       "    <tr>\n",
       "      <th>1</th>\n",
       "      <td>547102906</td>\n",
       "      <td>405.0</td>\n",
       "      <td>485.0</td>\n",
       "      <td>service</td>\n",
       "      <td>66.325304</td>\n",
       "      <td>0</td>\n",
       "    </tr>\n",
       "    <tr>\n",
       "      <th>2</th>\n",
       "      <td>547102907</td>\n",
       "      <td>553.0</td>\n",
       "      <td>347.0</td>\n",
       "      <td>service</td>\n",
       "      <td>102.951698</td>\n",
       "      <td>0</td>\n",
       "    </tr>\n",
       "    <tr>\n",
       "      <th>3</th>\n",
       "      <td>466885630</td>\n",
       "      <td>20.0</td>\n",
       "      <td>62.0</td>\n",
       "      <td>service</td>\n",
       "      <td>320.741785</td>\n",
       "      <td>0</td>\n",
       "    </tr>\n",
       "    <tr>\n",
       "      <th>4</th>\n",
       "      <td>547102903</td>\n",
       "      <td>285.0</td>\n",
       "      <td>114.0</td>\n",
       "      <td>service</td>\n",
       "      <td>180.903365</td>\n",
       "      <td>0</td>\n",
       "    </tr>\n",
       "  </tbody>\n",
       "</table>\n",
       "</div>"
      ],
      "text/plain": [
       "      way_id   dir1   dir2 roadtype    road_len  oneway\n",
       "0  547102905   86.0  294.0  service  128.597534       0\n",
       "1  547102906  405.0  485.0  service   66.325304       0\n",
       "2  547102907  553.0  347.0  service  102.951698       0\n",
       "3  466885630   20.0   62.0  service  320.741785       0\n",
       "4  547102903  285.0  114.0  service  180.903365       0"
      ]
     },
     "execution_count": 3,
     "metadata": {},
     "output_type": "execute_result"
    }
   ],
   "source": [
    "data=pd.read_csv(f\"data/direction_statsOct2018-{map_version}.csv\")\n",
    "#data=data.loc[data.roadtype!='pedestrian']\n",
    "road_length=pd.read_csv(f\"data/road_length_{city_id}_2018-410.csv\")\n",
    "data_joined=data.merge(road_length,left_on=\"way_id\",right_on=\"road_id\")\n",
    "#data_joined.head()\n",
    "data_joined=data_joined[['way_id','dir1','dir2','roadtype','road_len','oneway']]\n",
    "data_joined.oneway=data_joined.oneway.map({True:1,False:0})\n",
    "print(data_joined.shape)\n",
    "data_joined.head()"
   ]
  },
  {
   "cell_type": "markdown",
   "metadata": {},
   "source": [
    "### Read road network data \n",
    "For prior computation"
   ]
  },
  {
   "cell_type": "code",
   "execution_count": 4,
   "metadata": {},
   "outputs": [
    {
     "data": {
      "text/html": [
       "<div>\n",
       "<style scoped>\n",
       "    .dataframe tbody tr th:only-of-type {\n",
       "        vertical-align: middle;\n",
       "    }\n",
       "\n",
       "    .dataframe tbody tr th {\n",
       "        vertical-align: top;\n",
       "    }\n",
       "\n",
       "    .dataframe thead th {\n",
       "        text-align: right;\n",
       "    }\n",
       "</style>\n",
       "<table border=\"1\" class=\"dataframe\">\n",
       "  <thead>\n",
       "    <tr style=\"text-align: right;\">\n",
       "      <th>is_oneway</th>\n",
       "      <th>roadtype</th>\n",
       "      <th>prob_oneway</th>\n",
       "    </tr>\n",
       "  </thead>\n",
       "  <tbody>\n",
       "    <tr>\n",
       "      <th>0</th>\n",
       "      <td>living_street</td>\n",
       "      <td>0.375000</td>\n",
       "    </tr>\n",
       "    <tr>\n",
       "      <th>1</th>\n",
       "      <td>motorway</td>\n",
       "      <td>1.000000</td>\n",
       "    </tr>\n",
       "    <tr>\n",
       "      <th>2</th>\n",
       "      <td>motorway_link</td>\n",
       "      <td>0.996676</td>\n",
       "    </tr>\n",
       "    <tr>\n",
       "      <th>3</th>\n",
       "      <td>pedestrian</td>\n",
       "      <td>0.000000</td>\n",
       "    </tr>\n",
       "    <tr>\n",
       "      <th>4</th>\n",
       "      <td>primary</td>\n",
       "      <td>0.996537</td>\n",
       "    </tr>\n",
       "    <tr>\n",
       "      <th>5</th>\n",
       "      <td>primary_link</td>\n",
       "      <td>0.990858</td>\n",
       "    </tr>\n",
       "    <tr>\n",
       "      <th>6</th>\n",
       "      <td>raceway</td>\n",
       "      <td>0.583333</td>\n",
       "    </tr>\n",
       "    <tr>\n",
       "      <th>7</th>\n",
       "      <td>residential</td>\n",
       "      <td>0.443606</td>\n",
       "    </tr>\n",
       "    <tr>\n",
       "      <th>8</th>\n",
       "      <td>road</td>\n",
       "      <td>0.000000</td>\n",
       "    </tr>\n",
       "    <tr>\n",
       "      <th>9</th>\n",
       "      <td>secondary</td>\n",
       "      <td>0.981625</td>\n",
       "    </tr>\n",
       "    <tr>\n",
       "      <th>10</th>\n",
       "      <td>secondary_link</td>\n",
       "      <td>0.983516</td>\n",
       "    </tr>\n",
       "    <tr>\n",
       "      <th>11</th>\n",
       "      <td>service</td>\n",
       "      <td>0.226324</td>\n",
       "    </tr>\n",
       "    <tr>\n",
       "      <th>12</th>\n",
       "      <td>tertiary</td>\n",
       "      <td>0.874271</td>\n",
       "    </tr>\n",
       "    <tr>\n",
       "      <th>13</th>\n",
       "      <td>tertiary_link</td>\n",
       "      <td>0.971787</td>\n",
       "    </tr>\n",
       "    <tr>\n",
       "      <th>14</th>\n",
       "      <td>trunk</td>\n",
       "      <td>0.998291</td>\n",
       "    </tr>\n",
       "    <tr>\n",
       "      <th>15</th>\n",
       "      <td>trunk_link</td>\n",
       "      <td>0.993976</td>\n",
       "    </tr>\n",
       "    <tr>\n",
       "      <th>16</th>\n",
       "      <td>unclassified</td>\n",
       "      <td>0.646442</td>\n",
       "    </tr>\n",
       "  </tbody>\n",
       "</table>\n",
       "</div>"
      ],
      "text/plain": [
       "is_oneway        roadtype  prob_oneway\n",
       "0           living_street     0.375000\n",
       "1                motorway     1.000000\n",
       "2           motorway_link     0.996676\n",
       "3              pedestrian     0.000000\n",
       "4                 primary     0.996537\n",
       "5            primary_link     0.990858\n",
       "6                 raceway     0.583333\n",
       "7             residential     0.443606\n",
       "8                    road     0.000000\n",
       "9               secondary     0.981625\n",
       "10         secondary_link     0.983516\n",
       "11                service     0.226324\n",
       "12               tertiary     0.874271\n",
       "13          tertiary_link     0.971787\n",
       "14                  trunk     0.998291\n",
       "15             trunk_link     0.993976\n",
       "16           unclassified     0.646442"
      ]
     },
     "execution_count": 4,
     "metadata": {},
     "output_type": "execute_result"
    }
   ],
   "source": [
    "road_network=pd.read_csv(f\"data/roads_{city_id}_{map_version}.txt\",sep=\"\\t\")\n",
    "#road_network.head()\n",
    "one_way_counts=road_network.groupby(['road_type','is_oneway']).count()\n",
    "one_way_counts.reset_index(inplace=True)\n",
    "one_way_counts=one_way_counts[['road_type','is_oneway','road_id']]\n",
    "one_way_counts=pd.pivot_table(one_way_counts, values='road_id', index=['road_type'],columns=['is_oneway'], aggfunc=np.sum)\n",
    "one_way_counts.reset_index(inplace=True)\n",
    "one_way_counts.fillna(0.0,inplace=True)\n",
    "one_way_counts.rename(columns={False: 'count_bidir',True: 'count_oneway',\\\n",
    "                              'road_type':'roadtype'},inplace=True)\n",
    "one_way_counts['prob_oneway']=one_way_counts['count_oneway']/(one_way_counts['count_oneway']+one_way_counts['count_bidir'])\n",
    "one_way_counts=one_way_counts[['roadtype','prob_oneway']]\n",
    "one_way_counts"
   ]
  },
  {
   "cell_type": "code",
   "execution_count": 5,
   "metadata": {},
   "outputs": [
    {
     "data": {
      "text/html": [
       "<div>\n",
       "<style scoped>\n",
       "    .dataframe tbody tr th:only-of-type {\n",
       "        vertical-align: middle;\n",
       "    }\n",
       "\n",
       "    .dataframe tbody tr th {\n",
       "        vertical-align: top;\n",
       "    }\n",
       "\n",
       "    .dataframe thead th {\n",
       "        text-align: right;\n",
       "    }\n",
       "</style>\n",
       "<table border=\"1\" class=\"dataframe\">\n",
       "  <thead>\n",
       "    <tr style=\"text-align: right;\">\n",
       "      <th></th>\n",
       "      <th>way_id</th>\n",
       "      <th>dir1</th>\n",
       "      <th>dir2</th>\n",
       "      <th>roadtype</th>\n",
       "      <th>road_len</th>\n",
       "      <th>oneway</th>\n",
       "      <th>prob_oneway</th>\n",
       "    </tr>\n",
       "  </thead>\n",
       "  <tbody>\n",
       "    <tr>\n",
       "      <th>0</th>\n",
       "      <td>547102905</td>\n",
       "      <td>86.0</td>\n",
       "      <td>294.0</td>\n",
       "      <td>service</td>\n",
       "      <td>128.597534</td>\n",
       "      <td>0</td>\n",
       "      <td>0.226324</td>\n",
       "    </tr>\n",
       "    <tr>\n",
       "      <th>1</th>\n",
       "      <td>547102906</td>\n",
       "      <td>405.0</td>\n",
       "      <td>485.0</td>\n",
       "      <td>service</td>\n",
       "      <td>66.325304</td>\n",
       "      <td>0</td>\n",
       "      <td>0.226324</td>\n",
       "    </tr>\n",
       "    <tr>\n",
       "      <th>2</th>\n",
       "      <td>547102907</td>\n",
       "      <td>553.0</td>\n",
       "      <td>347.0</td>\n",
       "      <td>service</td>\n",
       "      <td>102.951698</td>\n",
       "      <td>0</td>\n",
       "      <td>0.226324</td>\n",
       "    </tr>\n",
       "    <tr>\n",
       "      <th>3</th>\n",
       "      <td>466885630</td>\n",
       "      <td>20.0</td>\n",
       "      <td>62.0</td>\n",
       "      <td>service</td>\n",
       "      <td>320.741785</td>\n",
       "      <td>0</td>\n",
       "      <td>0.226324</td>\n",
       "    </tr>\n",
       "    <tr>\n",
       "      <th>4</th>\n",
       "      <td>547102903</td>\n",
       "      <td>285.0</td>\n",
       "      <td>114.0</td>\n",
       "      <td>service</td>\n",
       "      <td>180.903365</td>\n",
       "      <td>0</td>\n",
       "      <td>0.226324</td>\n",
       "    </tr>\n",
       "  </tbody>\n",
       "</table>\n",
       "</div>"
      ],
      "text/plain": [
       "      way_id   dir1   dir2 roadtype    road_len  oneway  prob_oneway\n",
       "0  547102905   86.0  294.0  service  128.597534       0     0.226324\n",
       "1  547102906  405.0  485.0  service   66.325304       0     0.226324\n",
       "2  547102907  553.0  347.0  service  102.951698       0     0.226324\n",
       "3  466885630   20.0   62.0  service  320.741785       0     0.226324\n",
       "4  547102903  285.0  114.0  service  180.903365       0     0.226324"
      ]
     },
     "execution_count": 5,
     "metadata": {},
     "output_type": "execute_result"
    }
   ],
   "source": [
    "#prior probablity for road type being oneway\n",
    "data_joined=data_joined.merge(one_way_counts,left_on=\"roadtype\",right_on=\"roadtype\")\n",
    "data_joined.head()"
   ]
  },
  {
   "cell_type": "code",
   "execution_count": 6,
   "metadata": {},
   "outputs": [
    {
     "name": "stderr",
     "output_type": "stream",
     "text": [
      "/usr/local/lib/python3.6/dist-packages/ipykernel_launcher.py:4: RuntimeWarning: divide by zero encountered in log2\n",
      "  after removing the cwd from sys.path.\n"
     ]
    },
    {
     "data": {
      "text/html": [
       "<div>\n",
       "<style scoped>\n",
       "    .dataframe tbody tr th:only-of-type {\n",
       "        vertical-align: middle;\n",
       "    }\n",
       "\n",
       "    .dataframe tbody tr th {\n",
       "        vertical-align: top;\n",
       "    }\n",
       "\n",
       "    .dataframe thead th {\n",
       "        text-align: right;\n",
       "    }\n",
       "</style>\n",
       "<table border=\"1\" class=\"dataframe\">\n",
       "  <thead>\n",
       "    <tr style=\"text-align: right;\">\n",
       "      <th></th>\n",
       "      <th>way_id</th>\n",
       "      <th>roadtype</th>\n",
       "      <th>road_len</th>\n",
       "      <th>num_pings</th>\n",
       "      <th>dir1_ratio</th>\n",
       "      <th>dir2_ratio</th>\n",
       "      <th>entropy</th>\n",
       "      <th>prob_oneway</th>\n",
       "      <th>oneway</th>\n",
       "    </tr>\n",
       "  </thead>\n",
       "  <tbody>\n",
       "    <tr>\n",
       "      <th>0</th>\n",
       "      <td>547102905</td>\n",
       "      <td>service</td>\n",
       "      <td>128.597534</td>\n",
       "      <td>380.0</td>\n",
       "      <td>0.226316</td>\n",
       "      <td>0.773684</td>\n",
       "      <td>0.771533</td>\n",
       "      <td>0.226324</td>\n",
       "      <td>0</td>\n",
       "    </tr>\n",
       "    <tr>\n",
       "      <th>1</th>\n",
       "      <td>547102906</td>\n",
       "      <td>service</td>\n",
       "      <td>66.325304</td>\n",
       "      <td>890.0</td>\n",
       "      <td>0.455056</td>\n",
       "      <td>0.544944</td>\n",
       "      <td>0.994164</td>\n",
       "      <td>0.226324</td>\n",
       "      <td>0</td>\n",
       "    </tr>\n",
       "    <tr>\n",
       "      <th>2</th>\n",
       "      <td>547102907</td>\n",
       "      <td>service</td>\n",
       "      <td>102.951698</td>\n",
       "      <td>900.0</td>\n",
       "      <td>0.614444</td>\n",
       "      <td>0.385556</td>\n",
       "      <td>0.961871</td>\n",
       "      <td>0.226324</td>\n",
       "      <td>0</td>\n",
       "    </tr>\n",
       "    <tr>\n",
       "      <th>3</th>\n",
       "      <td>466885630</td>\n",
       "      <td>service</td>\n",
       "      <td>320.741785</td>\n",
       "      <td>82.0</td>\n",
       "      <td>0.243902</td>\n",
       "      <td>0.756098</td>\n",
       "      <td>0.801470</td>\n",
       "      <td>0.226324</td>\n",
       "      <td>0</td>\n",
       "    </tr>\n",
       "    <tr>\n",
       "      <th>4</th>\n",
       "      <td>547102903</td>\n",
       "      <td>service</td>\n",
       "      <td>180.903365</td>\n",
       "      <td>399.0</td>\n",
       "      <td>0.714286</td>\n",
       "      <td>0.285714</td>\n",
       "      <td>0.863121</td>\n",
       "      <td>0.226324</td>\n",
       "      <td>0</td>\n",
       "    </tr>\n",
       "  </tbody>\n",
       "</table>\n",
       "</div>"
      ],
      "text/plain": [
       "      way_id roadtype    road_len  num_pings  dir1_ratio  dir2_ratio  \\\n",
       "0  547102905  service  128.597534      380.0    0.226316    0.773684   \n",
       "1  547102906  service   66.325304      890.0    0.455056    0.544944   \n",
       "2  547102907  service  102.951698      900.0    0.614444    0.385556   \n",
       "3  466885630  service  320.741785       82.0    0.243902    0.756098   \n",
       "4  547102903  service  180.903365      399.0    0.714286    0.285714   \n",
       "\n",
       "    entropy  prob_oneway  oneway  \n",
       "0  0.771533     0.226324       0  \n",
       "1  0.994164     0.226324       0  \n",
       "2  0.961871     0.226324       0  \n",
       "3  0.801470     0.226324       0  \n",
       "4  0.863121     0.226324       0  "
      ]
     },
     "execution_count": 6,
     "metadata": {},
     "output_type": "execute_result"
    }
   ],
   "source": [
    "data_joined['num_pings']=data_joined.dir1+data_joined.dir2\n",
    "data_joined['dir1_ratio']=data_joined.dir1/data_joined.num_pings\n",
    "data_joined['dir2_ratio']=data_joined.dir2/data_joined.num_pings\n",
    "data_joined['entropy']=-(data_joined.dir1_ratio*np.log2(data_joined.dir1_ratio)+\\\n",
    "                         data_joined.dir2_ratio*np.log2(data_joined.dir2_ratio))\n",
    "data_joined.fillna(0.0,inplace=True)\n",
    "data_joined=data_joined[[\"way_id\",\"roadtype\",\"road_len\",\"num_pings\",\"dir1_ratio\",\"dir2_ratio\",\"entropy\",\"prob_oneway\",\"oneway\"]]\n",
    "data_joined.head()"
   ]
  },
  {
   "cell_type": "markdown",
   "metadata": {},
   "source": [
    "### Get test data"
   ]
  },
  {
   "cell_type": "code",
   "execution_count": 7,
   "metadata": {},
   "outputs": [
    {
     "name": "stdout",
     "output_type": "stream",
     "text": [
      "(405, 13)\n"
     ]
    },
    {
     "data": {
      "text/html": [
       "<div>\n",
       "<style scoped>\n",
       "    .dataframe tbody tr th:only-of-type {\n",
       "        vertical-align: middle;\n",
       "    }\n",
       "\n",
       "    .dataframe tbody tr th {\n",
       "        vertical-align: top;\n",
       "    }\n",
       "\n",
       "    .dataframe thead th {\n",
       "        text-align: right;\n",
       "    }\n",
       "</style>\n",
       "<table border=\"1\" class=\"dataframe\">\n",
       "  <thead>\n",
       "    <tr style=\"text-align: right;\">\n",
       "      <th></th>\n",
       "      <th>way_id</th>\n",
       "      <th>roadtype</th>\n",
       "      <th>road_len</th>\n",
       "      <th>num_pings</th>\n",
       "      <th>dir1_ratio</th>\n",
       "      <th>dir2_ratio</th>\n",
       "      <th>entropy</th>\n",
       "      <th>prob_oneway</th>\n",
       "      <th>oneway</th>\n",
       "    </tr>\n",
       "  </thead>\n",
       "  <tbody>\n",
       "    <tr>\n",
       "      <th>0</th>\n",
       "      <td>631470773</td>\n",
       "      <td>secondary</td>\n",
       "      <td>41.506191</td>\n",
       "      <td>1178.0</td>\n",
       "      <td>1.000000</td>\n",
       "      <td>0.000000</td>\n",
       "      <td>0.00000</td>\n",
       "      <td>0.981625</td>\n",
       "      <td>1</td>\n",
       "    </tr>\n",
       "    <tr>\n",
       "      <th>1</th>\n",
       "      <td>630435840</td>\n",
       "      <td>trunk</td>\n",
       "      <td>33.038678</td>\n",
       "      <td>5672.0</td>\n",
       "      <td>1.000000</td>\n",
       "      <td>0.000000</td>\n",
       "      <td>0.00000</td>\n",
       "      <td>0.998291</td>\n",
       "      <td>1</td>\n",
       "    </tr>\n",
       "    <tr>\n",
       "      <th>2</th>\n",
       "      <td>631470772</td>\n",
       "      <td>trunk</td>\n",
       "      <td>83.698292</td>\n",
       "      <td>15159.0</td>\n",
       "      <td>1.000000</td>\n",
       "      <td>0.000000</td>\n",
       "      <td>0.00000</td>\n",
       "      <td>0.998291</td>\n",
       "      <td>1</td>\n",
       "    </tr>\n",
       "    <tr>\n",
       "      <th>3</th>\n",
       "      <td>465466222</td>\n",
       "      <td>trunk_link</td>\n",
       "      <td>75.505376</td>\n",
       "      <td>10846.0</td>\n",
       "      <td>1.000000</td>\n",
       "      <td>0.000000</td>\n",
       "      <td>0.00000</td>\n",
       "      <td>0.993976</td>\n",
       "      <td>1</td>\n",
       "    </tr>\n",
       "    <tr>\n",
       "      <th>4</th>\n",
       "      <td>479356427</td>\n",
       "      <td>trunk</td>\n",
       "      <td>5.917265</td>\n",
       "      <td>46824.0</td>\n",
       "      <td>0.062254</td>\n",
       "      <td>0.937746</td>\n",
       "      <td>0.33633</td>\n",
       "      <td>0.998291</td>\n",
       "      <td>1</td>\n",
       "    </tr>\n",
       "  </tbody>\n",
       "</table>\n",
       "</div>"
      ],
      "text/plain": [
       "      way_id    roadtype   road_len  num_pings  dir1_ratio  dir2_ratio  \\\n",
       "0  631470773   secondary  41.506191     1178.0    1.000000    0.000000   \n",
       "1  630435840       trunk  33.038678     5672.0    1.000000    0.000000   \n",
       "2  631470772       trunk  83.698292    15159.0    1.000000    0.000000   \n",
       "3  465466222  trunk_link  75.505376    10846.0    1.000000    0.000000   \n",
       "4  479356427       trunk   5.917265    46824.0    0.062254    0.937746   \n",
       "\n",
       "   entropy  prob_oneway  oneway  \n",
       "0  0.00000     0.981625       1  \n",
       "1  0.00000     0.998291       1  \n",
       "2  0.00000     0.998291       1  \n",
       "3  0.00000     0.993976       1  \n",
       "4  0.33633     0.998291       1  "
      ]
     },
     "execution_count": 7,
     "metadata": {},
     "output_type": "execute_result"
    }
   ],
   "source": [
    "test=pd.read_csv(\"data/BukitBatokGT.csv\")\n",
    "test=test.merge(data_joined,left_on=\"way-id\",right_on=\"way_id\")\n",
    "print(test.shape)\n",
    "test=test[[\"way_id\",\"roadtype_x\",\"road_len\",\"num_pings\",\"dir1_ratio\",\"dir2_ratio\",\"entropy\",\"prob_oneway\",\"oneway_y\"]]\n",
    "test.rename(index=str, columns={\"roadtype_x\": \"roadtype\",\"oneway_y\": \"oneway\"},inplace=True)\n",
    "test.head()"
   ]
  },
  {
   "cell_type": "code",
   "execution_count": 8,
   "metadata": {},
   "outputs": [
    {
     "data": {
      "text/plain": [
       "(55355, 9)"
      ]
     },
     "execution_count": 8,
     "metadata": {},
     "output_type": "execute_result"
    }
   ],
   "source": [
    "#get rid of the test data set\n",
    "data_joined=data_joined[~data_joined.way_id.isin(test.way_id.tolist())]\n",
    "data_joined.shape"
   ]
  },
  {
   "cell_type": "code",
   "execution_count": 9,
   "metadata": {},
   "outputs": [
    {
     "data": {
      "text/plain": [
       "<matplotlib.axes._subplots.AxesSubplot at 0x7f092c358c18>"
      ]
     },
     "execution_count": 9,
     "metadata": {},
     "output_type": "execute_result"
    },
    {
     "data": {
      "image/png": "[encoded data removed]",
      "text/plain": [
       "<Figure size 432x288 with 1 Axes>"
      ]
     },
     "metadata": {},
     "output_type": "display_data"
    }
   ],
   "source": [
    "#data is at least reasonably balanced.\n",
    "data_joined.oneway.astype('category').value_counts().\\\n",
    "plot(kind='pie',title='Distribution of one way bi-directional')"
   ]
  },
  {
   "cell_type": "markdown",
   "metadata": {},
   "source": [
    "#### Take a look at missing values\n",
    "No graph plotted means none"
   ]
  },
  {
   "cell_type": "code",
   "execution_count": 10,
   "metadata": {},
   "outputs": [],
   "source": [
    "#sns.set(rc={'figure.figsize':(12,6)})\n",
    "percentage_nan=data_joined.isnull().sum()/data_joined.shape[0]\n",
    "percentage_nan.sort_values(inplace=True)\n",
    "if percentage_nan[0]>0.0:\n",
    "    percentage_nan[percentage_nan>0.0].plot('bar',title='Features with missing values')"
   ]
  },
  {
   "cell_type": "code",
   "execution_count": 11,
   "metadata": {},
   "outputs": [
    {
     "name": "stdout",
     "output_type": "stream",
     "text": [
      "             road_len  num_pings   entropy  prob_oneway    TARGET\n",
      "road_len     1.000000   0.370337  0.093292     0.046677 -0.052870\n",
      "num_pings    0.370337   1.000000 -0.103103     0.258522  0.162085\n",
      "entropy      0.093292  -0.103103  1.000000    -0.511424 -0.828870\n",
      "prob_oneway  0.046677   0.258522 -0.511424     1.000000  0.650274\n",
      "TARGET      -0.052870   0.162085 -0.828870     0.650274  1.000000\n"
     ]
    },
    {
     "name": "stderr",
     "output_type": "stream",
     "text": [
      "/usr/local/lib/python3.6/dist-packages/ipykernel_launcher.py:4: SettingWithCopyWarning: \n",
      "A value is trying to be set on a copy of a slice from a DataFrame.\n",
      "Try using .loc[row_indexer,col_indexer] = value instead\n",
      "\n",
      "See the caveats in the documentation: http://pandas.pydata.org/pandas-docs/stable/indexing.html#indexing-view-versus-copy\n",
      "  after removing the cwd from sys.path.\n"
     ]
    },
    {
     "data": {
      "text/plain": [
       "<matplotlib.axes._subplots.AxesSubplot at 0x7f091383fd68>"
      ]
     },
     "execution_count": 11,
     "metadata": {},
     "output_type": "execute_result"
    },
    {
     "data": {
      "image/png": "[encoded data removed]",
      "text/plain": [
       "<Figure size 432x432 with 2 Axes>"
      ]
     },
     "metadata": {},
     "output_type": "display_data"
    }
   ],
   "source": [
    "conti_cols=['road_len', 'num_pings', 'entropy', 'prob_oneway']\n",
    "sns.set(rc={'figure.figsize':(6,6)})\n",
    "df=data_joined[list(conti_cols)]\n",
    "df['TARGET']=data_joined.oneway\n",
    "corr = df.corr()\n",
    "print(corr)\n",
    "sns.heatmap(corr, xticklabels=corr.columns,yticklabels=corr.columns)\n"
   ]
  },
  {
   "cell_type": "markdown",
   "metadata": {},
   "source": [
    "### Combine train and test for preprocessing"
   ]
  },
  {
   "cell_type": "code",
   "execution_count": 12,
   "metadata": {},
   "outputs": [
    {
     "name": "stdout",
     "output_type": "stream",
     "text": [
      "(55355, 9) (405, 9)\n",
      "(55760, 9)\n"
     ]
    },
    {
     "data": {
      "text/html": [
       "<div>\n",
       "<style scoped>\n",
       "    .dataframe tbody tr th:only-of-type {\n",
       "        vertical-align: middle;\n",
       "    }\n",
       "\n",
       "    .dataframe tbody tr th {\n",
       "        vertical-align: top;\n",
       "    }\n",
       "\n",
       "    .dataframe thead th {\n",
       "        text-align: right;\n",
       "    }\n",
       "</style>\n",
       "<table border=\"1\" class=\"dataframe\">\n",
       "  <thead>\n",
       "    <tr style=\"text-align: right;\">\n",
       "      <th></th>\n",
       "      <th>way_id</th>\n",
       "      <th>roadtype</th>\n",
       "      <th>road_len</th>\n",
       "      <th>num_pings</th>\n",
       "      <th>dir1_ratio</th>\n",
       "      <th>dir2_ratio</th>\n",
       "      <th>entropy</th>\n",
       "      <th>prob_oneway</th>\n",
       "      <th>oneway</th>\n",
       "    </tr>\n",
       "  </thead>\n",
       "  <tbody>\n",
       "    <tr>\n",
       "      <th>0</th>\n",
       "      <td>547102905</td>\n",
       "      <td>service</td>\n",
       "      <td>128.597534</td>\n",
       "      <td>380.0</td>\n",
       "      <td>0.226316</td>\n",
       "      <td>0.773684</td>\n",
       "      <td>0.771533</td>\n",
       "      <td>0.226324</td>\n",
       "      <td>0</td>\n",
       "    </tr>\n",
       "    <tr>\n",
       "      <th>1</th>\n",
       "      <td>547102906</td>\n",
       "      <td>service</td>\n",
       "      <td>66.325304</td>\n",
       "      <td>890.0</td>\n",
       "      <td>0.455056</td>\n",
       "      <td>0.544944</td>\n",
       "      <td>0.994164</td>\n",
       "      <td>0.226324</td>\n",
       "      <td>0</td>\n",
       "    </tr>\n",
       "    <tr>\n",
       "      <th>2</th>\n",
       "      <td>547102907</td>\n",
       "      <td>service</td>\n",
       "      <td>102.951698</td>\n",
       "      <td>900.0</td>\n",
       "      <td>0.614444</td>\n",
       "      <td>0.385556</td>\n",
       "      <td>0.961871</td>\n",
       "      <td>0.226324</td>\n",
       "      <td>0</td>\n",
       "    </tr>\n",
       "    <tr>\n",
       "      <th>3</th>\n",
       "      <td>466885630</td>\n",
       "      <td>service</td>\n",
       "      <td>320.741785</td>\n",
       "      <td>82.0</td>\n",
       "      <td>0.243902</td>\n",
       "      <td>0.756098</td>\n",
       "      <td>0.801470</td>\n",
       "      <td>0.226324</td>\n",
       "      <td>0</td>\n",
       "    </tr>\n",
       "    <tr>\n",
       "      <th>4</th>\n",
       "      <td>547102903</td>\n",
       "      <td>service</td>\n",
       "      <td>180.903365</td>\n",
       "      <td>399.0</td>\n",
       "      <td>0.714286</td>\n",
       "      <td>0.285714</td>\n",
       "      <td>0.863121</td>\n",
       "      <td>0.226324</td>\n",
       "      <td>0</td>\n",
       "    </tr>\n",
       "  </tbody>\n",
       "</table>\n",
       "</div>"
      ],
      "text/plain": [
       "      way_id roadtype    road_len  num_pings  dir1_ratio  dir2_ratio  \\\n",
       "0  547102905  service  128.597534      380.0    0.226316    0.773684   \n",
       "1  547102906  service   66.325304      890.0    0.455056    0.544944   \n",
       "2  547102907  service  102.951698      900.0    0.614444    0.385556   \n",
       "3  466885630  service  320.741785       82.0    0.243902    0.756098   \n",
       "4  547102903  service  180.903365      399.0    0.714286    0.285714   \n",
       "\n",
       "    entropy  prob_oneway  oneway  \n",
       "0  0.771533     0.226324       0  \n",
       "1  0.994164     0.226324       0  \n",
       "2  0.961871     0.226324       0  \n",
       "3  0.801470     0.226324       0  \n",
       "4  0.863121     0.226324       0  "
      ]
     },
     "execution_count": 12,
     "metadata": {},
     "output_type": "execute_result"
    }
   ],
   "source": [
    "print(data_joined.shape,test.shape)\n",
    "train_test = pd.concat(objs=[data_joined, test], axis=0)\n",
    "print(train_test.shape)\n",
    "train_test.head()"
   ]
  },
  {
   "cell_type": "markdown",
   "metadata": {},
   "source": [
    "#### Scalarize continous columns"
   ]
  },
  {
   "cell_type": "code",
   "execution_count": 13,
   "metadata": {},
   "outputs": [],
   "source": [
    "#for col in conti_cols:\n",
    "#    std=train_test[col].std()\n",
    "#    mean=train_test[col].mean()\n",
    "#    train_test[col]=(train_test[col]-mean)/std\n",
    "\n",
    "if include_road_type:\n",
    "    train_test = pd.get_dummies(train_test, columns=['roadtype'])\n",
    "else:\n",
    "    train_test=train_test.drop(['roadtype'],axis=1)"
   ]
  },
  {
   "cell_type": "code",
   "execution_count": 14,
   "metadata": {},
   "outputs": [
    {
     "name": "stdout",
     "output_type": "stream",
     "text": [
      "(55355, 8) (405, 8)\n"
     ]
    }
   ],
   "source": [
    "train = train_test.iloc[0:data_joined.shape[0],]\n",
    "test = train_test.iloc[data_joined.shape[0]:,]\n",
    "print(train.shape,test.shape)"
   ]
  },
  {
   "cell_type": "markdown",
   "metadata": {},
   "source": [
    "### Get validation and train sets\n",
    "Also get the features and the output."
   ]
  },
  {
   "cell_type": "code",
   "execution_count": 15,
   "metadata": {},
   "outputs": [
    {
     "name": "stdout",
     "output_type": "stream",
     "text": [
      "Index(['road_len', 'num_pings', 'entropy', 'prob_oneway'], dtype='object')\n",
      "4\n",
      "Index(['road_len', 'num_pings', 'entropy', 'prob_oneway'], dtype='object')\n",
      "4\n"
     ]
    }
   ],
   "source": [
    "train_features=train[conti_cols]\n",
    "features_arr=np.array(train_features)\n",
    "train_cols=train_features.columns\n",
    "print(train_cols)\n",
    "print(len(train_cols))\n",
    "\n",
    "\n",
    "#validation features\n",
    "valid_features=test.loc[:, (test.columns != 'way_id') & (test.columns != 'oneway')&\n",
    "(test.columns != 'dir1_ratio')&(test.columns != 'dir2_ratio')]\n",
    "print(valid_features.columns)\n",
    "print(len(valid_features.columns))\n",
    "valid_features=np.array(valid_features)\n",
    "\n",
    "\n",
    "#labels\n",
    "y=np.array(data_joined.oneway.astype('category'))\n"
   ]
  },
  {
   "cell_type": "markdown",
   "metadata": {},
   "source": [
    "#### Predict for test set"
   ]
  },
  {
   "cell_type": "code",
   "execution_count": 16,
   "metadata": {},
   "outputs": [],
   "source": [
    "from sklearn import metrics\n",
    "def compute_validation_acc(model,features_test,target_test):\n",
    "    predict_proba=model.predict_proba(features_test)\n",
    "    target=np.array(target_test.astype('float64'))\n",
    "    pred=np.array(predict_proba[:,1])\n",
    "    auc =  roc_auc_score(target,pred)\n",
    "    labels=['bi-directional','oneway']\n",
    "    print(\"accuracy score:\",accuracy_score(target,model.predict(features_test)))\n",
    "    cm=confusion_matrix(target,model.predict(features_test))\n",
    "    ax= plt.subplot()\n",
    "    sns.heatmap(cm, annot=True, ax = ax); #annot=True to annotate cells\n",
    "    # labels, title and ticks\n",
    "    ax.set_xlabel('Predicted labels');ax.set_ylabel('True labels'); \n",
    "    ax.set_title('Confusion Matrix'); \n",
    "    ax.xaxis.set_ticklabels(labels); ax.yaxis.set_ticklabels(labels);\n",
    "    \n",
    "    plt.figure()\n",
    "    fpr, tpr, _ = metrics.roc_curve(target,  pred)\n",
    "    plt.plot(fpr,tpr,label=\"auc=\"+str(auc))\n",
    "    plt.legend(loc=4)\n",
    "    plt.show()\n",
    "    return auc"
   ]
  },
  {
   "cell_type": "markdown",
   "metadata": {},
   "source": [
    "### Xgboost model"
   ]
  },
  {
   "cell_type": "code",
   "execution_count": 17,
   "metadata": {},
   "outputs": [],
   "source": [
    "gbm = xgb.XGBClassifier(max_depth=6,n_estimators=300, learning_rate=0.05,reg_lambda=1.5,eval_metric='auc').\\\n",
    "fit(features_arr, y)"
   ]
  },
  {
   "cell_type": "code",
   "execution_count": 18,
   "metadata": {},
   "outputs": [
    {
     "name": "stderr",
     "output_type": "stream",
     "text": [
      "/usr/local/lib/python3.6/dist-packages/sklearn/preprocessing/label.py:151: DeprecationWarning: The truth value of an empty array is ambiguous. Returning False, but in future this will result in an error. Use `array.size > 0` to check that an array is not empty.\n",
      "  if diff:\n",
      "/usr/local/lib/python3.6/dist-packages/sklearn/preprocessing/label.py:151: DeprecationWarning: The truth value of an empty array is ambiguous. Returning False, but in future this will result in an error. Use `array.size > 0` to check that an array is not empty.\n",
      "  if diff:\n"
     ]
    },
    {
     "name": "stdout",
     "output_type": "stream",
     "text": [
      "accuracy score: 0.9654320987654321\n"
     ]
    },
    {
     "data": {
      "image/png": "[encoded data removed]",
      "text/plain": [
       "<Figure size 432x432 with 2 Axes>"
      ]
     },
     "metadata": {},
     "output_type": "display_data"
    },
    {
     "data": {
      "image/png": "[encoded data removed]",
      "text/plain": [
       "<Figure size 432x432 with 1 Axes>"
      ]
     },
     "metadata": {},
     "output_type": "display_data"
    },
    {
     "data": {
      "text/plain": [
       "0.9928767123287672"
      ]
     },
     "execution_count": 18,
     "metadata": {},
     "output_type": "execute_result"
    }
   ],
   "source": [
    "compute_validation_acc(gbm,valid_features,test.oneway)"
   ]
  },
  {
   "cell_type": "code",
   "execution_count": 19,
   "metadata": {},
   "outputs": [],
   "source": [
    "sorted_idx = np.argsort(gbm.feature_importances_)[::-1]\n",
    "feature_importance={}\n",
    "for index in sorted_idx:\n",
    "    feature_importance[train_features.columns[index]]= gbm.feature_importances_[index]"
   ]
  },
  {
   "cell_type": "code",
   "execution_count": 20,
   "metadata": {},
   "outputs": [
    {
     "data": {
      "image/png": "[encoded data removed]",
      "text/plain": [
       "<Figure size 936x504 with 1 Axes>"
      ]
     },
     "metadata": {},
     "output_type": "display_data"
    }
   ],
   "source": [
    "n_features=len(train_cols)\n",
    "ss = sorted(feature_importance, key=feature_importance.get, reverse=True)\n",
    "top_names = ss[0:]\n",
    "f=plt.figure(figsize=(13,7))\n",
    "plt.grid(True)\n",
    "plt.title(\"Feature importances\",fontsize=22)\n",
    "plt.bar(range(n_features), [feature_importance[i] for i in top_names], color=\"#ff471a\", align=\"center\")\n",
    "plt.xlim(-1, n_features)\n",
    "plt.ylabel('Relative feature importance',fontsize=20)\n",
    "plt.yticks(fontsize=18)\n",
    "plt.xticks(range(n_features), top_names, rotation=90,fontsize=18)\n",
    "f.savefig(\"feauture_importance.pdf\", bbox_inches='tight')"
   ]
  },
  {
   "cell_type": "markdown",
   "metadata": {},
   "source": [
    "### Save the trained Xgboost model"
   ]
  },
  {
   "cell_type": "code",
   "execution_count": 21,
   "metadata": {},
   "outputs": [
    {
     "data": {
      "text/plain": [
       "['xgboost_oneway_detector_without_road_type']"
      ]
     },
     "execution_count": 21,
     "metadata": {},
     "output_type": "execute_result"
    }
   ],
   "source": [
    "filename='xgboost_oneway_detector_without_road_type'\n",
    "if include_road_type:\n",
    "    filname='xgboost_oneway_detector_with_road_type'\n",
    "\n",
    "joblib.dump(gbm,filename)"
   ]
  },
  {
   "cell_type": "markdown",
   "metadata": {},
   "source": []
  }
 ],
 "metadata": {
  "kernelspec": {
   "display_name": "Python 3",
   "language": "python",
   "name": "python3"
  },
  "language_info": {
   "codemirror_mode": {
    "name": "ipython",
    "version": 3
   },
   "file_extension": ".py",
   "mimetype": "text/x-python",
   "name": "python",
   "nbconvert_exporter": "python",
   "pygments_lexer": "ipython3",
   "version": "3.7.0"
  }
 },
 "nbformat": 4,
 "nbformat_minor": 2
}
