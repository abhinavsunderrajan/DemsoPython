{
 "cells": [
  {
   "cell_type": "markdown",
   "metadata": {},
   "source": [
    "### Description\n",
    "Remeber you have tranied a model for Singapore I have to use this for JKT I don't have a choice at this moment."
   ]
  },
  {
   "cell_type": "code",
   "execution_count": 1,
   "metadata": {},
   "outputs": [
    {
     "name": "stderr",
     "output_type": "stream",
     "text": [
      "/usr/local/lib/python3.6/dist-packages/sklearn/cross_validation.py:41: DeprecationWarning: This module was deprecated in version 0.18 in favor of the model_selection module into which all the refactored classes and functions are moved. Also note that the interface of the new CV iterators are different from that of this module. This module will be removed in 0.20.\n",
      "  \"This module will be removed in 0.20.\", DeprecationWarning)\n",
      "/usr/local/lib/python3.6/dist-packages/sklearn/grid_search.py:42: DeprecationWarning: This module was deprecated in version 0.18 in favor of the model_selection module into which all the refactored classes and functions are moved. This module will be removed in 0.20.\n",
      "  DeprecationWarning)\n"
     ]
    }
   ],
   "source": [
    "import xgboost as xgb\n",
    "from sklearn.metrics import roc_auc_score\n",
    "from sklearn.metrics import confusion_matrix\n",
    "from sklearn.metrics import accuracy_score\n",
    "from sklearn.metrics import roc_curve\n",
    "from sklearn.model_selection import train_test_split\n",
    "import pandas as pd\n",
    "import numpy as np\n",
    "from xgboost import plot_importance\n",
    "from sklearn.grid_search import GridSearchCV\n",
    "from sklearn.model_selection import train_test_split\n",
    "import pandas as pd\n",
    "import numpy as np\n",
    "import matplotlib.pyplot as plt\n",
    "import seaborn as sns\n",
    "from IPython.display import display\n",
    "import joblib\n",
    "%matplotlib inline"
   ]
  },
  {
   "cell_type": "markdown",
   "metadata": {},
   "source": [
    "### Prediction evaluation"
   ]
  },
  {
   "cell_type": "code",
   "execution_count": 2,
   "metadata": {},
   "outputs": [],
   "source": [
    "from sklearn import metrics\n",
    "def compute_validation_acc(model,features_test,target_test):\n",
    "    predict_proba=model.predict_proba(features_test)\n",
    "    target=np.array(target_test.astype('float64'))\n",
    "    pred=np.array(predict_proba[:,1])\n",
    "    auc =  roc_auc_score(target,pred)\n",
    "    labels=['bi-directional','oneway']\n",
    "    print(\"accuracy score:\",accuracy_score(target,model.predict(features_test)))\n",
    "    cm=confusion_matrix(target,model.predict(features_test))\n",
    "    ax= plt.subplot()\n",
    "    sns.heatmap(cm, annot=True, ax = ax); #annot=True to annotate cells\n",
    "    # labels, title and ticks\n",
    "    ax.set_xlabel('Predicted labels');ax.set_ylabel('True labels'); \n",
    "    ax.set_title('Confusion Matrix'); \n",
    "    ax.xaxis.set_ticklabels(labels); ax.yaxis.set_ticklabels(labels);\n",
    "    \n",
    "    plt.figure()\n",
    "    fpr, tpr, _ = metrics.roc_curve(target,  pred)\n",
    "    plt.plot(fpr,tpr,label=\"auc=\"+str(auc))\n",
    "    plt.legend(loc=4)\n",
    "    plt.show()\n",
    "    return auc"
   ]
  },
  {
   "cell_type": "markdown",
   "metadata": {},
   "source": [
    "### Should I include road type and feature\n",
    "This is a bit problamatic since road type may not be correctly identified for smaller other countries apart from SG. Hence we can only rely upon the direction stats and road length and not on the road type feature."
   ]
  },
  {
   "cell_type": "code",
   "execution_count": 3,
   "metadata": {},
   "outputs": [],
   "source": [
    "include_road_type=False"
   ]
  },
  {
   "cell_type": "markdown",
   "metadata": {},
   "source": [
    "### Load the model"
   ]
  },
  {
   "cell_type": "code",
   "execution_count": 4,
   "metadata": {},
   "outputs": [],
   "source": [
    "filename='xgboost_oneway_detector_without_road_type'\n",
    "if include_road_type:\n",
    "    filname='xgboost_oneway_detector_with_road_type'\n",
    "\n",
    "gbm = joblib.load(filename)"
   ]
  },
  {
   "cell_type": "markdown",
   "metadata": {},
   "source": [
    "### Load test data"
   ]
  },
  {
   "cell_type": "code",
   "execution_count": 5,
   "metadata": {},
   "outputs": [],
   "source": [
    "city_id=10\n",
    "map_version='2018-42'"
   ]
  },
  {
   "cell_type": "code",
   "execution_count": 6,
   "metadata": {},
   "outputs": [
    {
     "name": "stdout",
     "output_type": "stream",
     "text": [
      "(321171, 6)\n"
     ]
    },
    {
     "data": {
      "text/html": [
       "<div>\n",
       "<style scoped>\n",
       "    .dataframe tbody tr th:only-of-type {\n",
       "        vertical-align: middle;\n",
       "    }\n",
       "\n",
       "    .dataframe tbody tr th {\n",
       "        vertical-align: top;\n",
       "    }\n",
       "\n",
       "    .dataframe thead th {\n",
       "        text-align: right;\n",
       "    }\n",
       "</style>\n",
       "<table border=\"1\" class=\"dataframe\">\n",
       "  <thead>\n",
       "    <tr style=\"text-align: right;\">\n",
       "      <th></th>\n",
       "      <th>way_id</th>\n",
       "      <th>dir1</th>\n",
       "      <th>dir2</th>\n",
       "      <th>roadtype</th>\n",
       "      <th>road_len</th>\n",
       "      <th>oneway</th>\n",
       "    </tr>\n",
       "  </thead>\n",
       "  <tbody>\n",
       "    <tr>\n",
       "      <th>0</th>\n",
       "      <td>346559677</td>\n",
       "      <td>131.0</td>\n",
       "      <td>115.0</td>\n",
       "      <td>service</td>\n",
       "      <td>381.527392</td>\n",
       "      <td>0</td>\n",
       "    </tr>\n",
       "    <tr>\n",
       "      <th>1</th>\n",
       "      <td>346559678</td>\n",
       "      <td>1.0</td>\n",
       "      <td>0.0</td>\n",
       "      <td>service</td>\n",
       "      <td>390.795032</td>\n",
       "      <td>0</td>\n",
       "    </tr>\n",
       "    <tr>\n",
       "      <th>2</th>\n",
       "      <td>346559679</td>\n",
       "      <td>67.0</td>\n",
       "      <td>31.0</td>\n",
       "      <td>service</td>\n",
       "      <td>504.081021</td>\n",
       "      <td>0</td>\n",
       "    </tr>\n",
       "    <tr>\n",
       "      <th>3</th>\n",
       "      <td>483400905</td>\n",
       "      <td>4570.0</td>\n",
       "      <td>0.0</td>\n",
       "      <td>service</td>\n",
       "      <td>145.382159</td>\n",
       "      <td>1</td>\n",
       "    </tr>\n",
       "    <tr>\n",
       "      <th>4</th>\n",
       "      <td>588260136</td>\n",
       "      <td>2.0</td>\n",
       "      <td>1.0</td>\n",
       "      <td>residential</td>\n",
       "      <td>119.862640</td>\n",
       "      <td>0</td>\n",
       "    </tr>\n",
       "  </tbody>\n",
       "</table>\n",
       "</div>"
      ],
      "text/plain": [
       "      way_id    dir1   dir2     roadtype    road_len  oneway\n",
       "0  346559677   131.0  115.0      service  381.527392       0\n",
       "1  346559678     1.0    0.0      service  390.795032       0\n",
       "2  346559679    67.0   31.0      service  504.081021       0\n",
       "3  483400905  4570.0    0.0      service  145.382159       1\n",
       "4  588260136     2.0    1.0  residential  119.862640       0"
      ]
     },
     "execution_count": 6,
     "metadata": {},
     "output_type": "execute_result"
    }
   ],
   "source": [
    "test_data=pd.read_csv(f\"data/direction_stats_2018-11_{map_version}_{city_id}.csv\")\n",
    "test_data=test_data.loc[test_data.roadtype!='pedestrian']\n",
    "road_length=pd.read_csv(\"data/road_length_10_2018-42.csv\")\n",
    "test_data=test_data.merge(road_length,left_on=\"way_id\",right_on=\"road_id\")\n",
    "test_data.rename(index=str, columns={\"road_type\": \"roadtype\",\"is_oneway\": \"oneway\"},inplace=True)\n",
    "test_data=test_data[['way_id','dir1','dir2','roadtype','road_len','oneway']]\n",
    "test_data.oneway=test_data.oneway.map({True:1,False:0})\n",
    "print(test_data.shape)\n",
    "test_data.head()"
   ]
  },
  {
   "cell_type": "code",
   "execution_count": 7,
   "metadata": {},
   "outputs": [
    {
     "name": "stdout",
     "output_type": "stream",
     "text": [
      "Index(['road_id', 'nodes', 'roadname', 'lanes', 'is_oneway', 'roadtype',\n",
      "       'city_id', 'map_version', 'is_routable'],\n",
      "      dtype='object')\n"
     ]
    },
    {
     "data": {
      "text/html": [
       "<div>\n",
       "<style scoped>\n",
       "    .dataframe tbody tr th:only-of-type {\n",
       "        vertical-align: middle;\n",
       "    }\n",
       "\n",
       "    .dataframe tbody tr th {\n",
       "        vertical-align: top;\n",
       "    }\n",
       "\n",
       "    .dataframe thead th {\n",
       "        text-align: right;\n",
       "    }\n",
       "</style>\n",
       "<table border=\"1\" class=\"dataframe\">\n",
       "  <thead>\n",
       "    <tr style=\"text-align: right;\">\n",
       "      <th>is_oneway</th>\n",
       "      <th>roadtype</th>\n",
       "      <th>prob_oneway</th>\n",
       "    </tr>\n",
       "  </thead>\n",
       "  <tbody>\n",
       "    <tr>\n",
       "      <th>0</th>\n",
       "      <td>living_street</td>\n",
       "      <td>0.001090</td>\n",
       "    </tr>\n",
       "    <tr>\n",
       "      <th>1</th>\n",
       "      <td>motorway</td>\n",
       "      <td>0.998747</td>\n",
       "    </tr>\n",
       "    <tr>\n",
       "      <th>2</th>\n",
       "      <td>motorway_link</td>\n",
       "      <td>0.992806</td>\n",
       "    </tr>\n",
       "    <tr>\n",
       "      <th>3</th>\n",
       "      <td>pedestrian</td>\n",
       "      <td>0.065934</td>\n",
       "    </tr>\n",
       "    <tr>\n",
       "      <th>4</th>\n",
       "      <td>primary</td>\n",
       "      <td>0.775938</td>\n",
       "    </tr>\n",
       "    <tr>\n",
       "      <th>5</th>\n",
       "      <td>primary_link</td>\n",
       "      <td>0.827035</td>\n",
       "    </tr>\n",
       "    <tr>\n",
       "      <th>6</th>\n",
       "      <td>raceway</td>\n",
       "      <td>0.235294</td>\n",
       "    </tr>\n",
       "    <tr>\n",
       "      <th>7</th>\n",
       "      <td>residential</td>\n",
       "      <td>0.030748</td>\n",
       "    </tr>\n",
       "    <tr>\n",
       "      <th>8</th>\n",
       "      <td>road</td>\n",
       "      <td>0.000000</td>\n",
       "    </tr>\n",
       "    <tr>\n",
       "      <th>9</th>\n",
       "      <td>secondary</td>\n",
       "      <td>0.554046</td>\n",
       "    </tr>\n",
       "    <tr>\n",
       "      <th>10</th>\n",
       "      <td>secondary_link</td>\n",
       "      <td>0.486339</td>\n",
       "    </tr>\n",
       "    <tr>\n",
       "      <th>11</th>\n",
       "      <td>service</td>\n",
       "      <td>0.062298</td>\n",
       "    </tr>\n",
       "    <tr>\n",
       "      <th>12</th>\n",
       "      <td>services</td>\n",
       "      <td>0.000000</td>\n",
       "    </tr>\n",
       "    <tr>\n",
       "      <th>13</th>\n",
       "      <td>tertiary</td>\n",
       "      <td>0.312366</td>\n",
       "    </tr>\n",
       "    <tr>\n",
       "      <th>14</th>\n",
       "      <td>tertiary_link</td>\n",
       "      <td>0.304945</td>\n",
       "    </tr>\n",
       "    <tr>\n",
       "      <th>15</th>\n",
       "      <td>trunk</td>\n",
       "      <td>0.862205</td>\n",
       "    </tr>\n",
       "    <tr>\n",
       "      <th>16</th>\n",
       "      <td>trunk_link</td>\n",
       "      <td>0.813333</td>\n",
       "    </tr>\n",
       "    <tr>\n",
       "      <th>17</th>\n",
       "      <td>unclassified</td>\n",
       "      <td>0.098326</td>\n",
       "    </tr>\n",
       "  </tbody>\n",
       "</table>\n",
       "</div>"
      ],
      "text/plain": [
       "is_oneway        roadtype  prob_oneway\n",
       "0           living_street     0.001090\n",
       "1                motorway     0.998747\n",
       "2           motorway_link     0.992806\n",
       "3              pedestrian     0.065934\n",
       "4                 primary     0.775938\n",
       "5            primary_link     0.827035\n",
       "6                 raceway     0.235294\n",
       "7             residential     0.030748\n",
       "8                    road     0.000000\n",
       "9               secondary     0.554046\n",
       "10         secondary_link     0.486339\n",
       "11                service     0.062298\n",
       "12               services     0.000000\n",
       "13               tertiary     0.312366\n",
       "14          tertiary_link     0.304945\n",
       "15                  trunk     0.862205\n",
       "16             trunk_link     0.813333\n",
       "17           unclassified     0.098326"
      ]
     },
     "execution_count": 7,
     "metadata": {},
     "output_type": "execute_result"
    }
   ],
   "source": [
    "road_network=pd.read_csv(f\"data/roads_{city_id}_{map_version}.txt\",sep=\"\\t\")\n",
    "print(road_network.columns)\n",
    "one_way_counts=road_network.groupby(['roadtype','is_oneway']).count()\n",
    "one_way_counts.reset_index(inplace=True)\n",
    "one_way_counts=one_way_counts[['roadtype','is_oneway','road_id']]\n",
    "one_way_counts=pd.pivot_table(one_way_counts, values='road_id', index=['roadtype'],columns=['is_oneway'], aggfunc=np.sum)\n",
    "one_way_counts.reset_index(inplace=True)\n",
    "one_way_counts.fillna(0.0,inplace=True)\n",
    "one_way_counts.rename(columns={False: 'count_bidir',True: 'count_oneway'},inplace=True)\n",
    "one_way_counts['prob_oneway']=one_way_counts['count_oneway']/(one_way_counts['count_oneway']+one_way_counts['count_bidir'])\n",
    "one_way_counts=one_way_counts[['roadtype','prob_oneway']]\n",
    "one_way_counts"
   ]
  },
  {
   "cell_type": "markdown",
   "metadata": {},
   "source": [
    "#### Construct other features"
   ]
  },
  {
   "cell_type": "code",
   "execution_count": 8,
   "metadata": {},
   "outputs": [
    {
     "name": "stderr",
     "output_type": "stream",
     "text": [
      "/usr/local/lib/python3.6/dist-packages/ipykernel_launcher.py:5: RuntimeWarning: divide by zero encountered in log2\n",
      "  \"\"\"\n"
     ]
    },
    {
     "data": {
      "text/html": [
       "<div>\n",
       "<style scoped>\n",
       "    .dataframe tbody tr th:only-of-type {\n",
       "        vertical-align: middle;\n",
       "    }\n",
       "\n",
       "    .dataframe tbody tr th {\n",
       "        vertical-align: top;\n",
       "    }\n",
       "\n",
       "    .dataframe thead th {\n",
       "        text-align: right;\n",
       "    }\n",
       "</style>\n",
       "<table border=\"1\" class=\"dataframe\">\n",
       "  <thead>\n",
       "    <tr style=\"text-align: right;\">\n",
       "      <th></th>\n",
       "      <th>way_id</th>\n",
       "      <th>roadtype</th>\n",
       "      <th>road_len</th>\n",
       "      <th>num_pings</th>\n",
       "      <th>dir1_ratio</th>\n",
       "      <th>dir2_ratio</th>\n",
       "      <th>entropy</th>\n",
       "      <th>prob_oneway</th>\n",
       "      <th>oneway</th>\n",
       "    </tr>\n",
       "  </thead>\n",
       "  <tbody>\n",
       "    <tr>\n",
       "      <th>0</th>\n",
       "      <td>346559677</td>\n",
       "      <td>service</td>\n",
       "      <td>381.527392</td>\n",
       "      <td>246.0</td>\n",
       "      <td>0.532520</td>\n",
       "      <td>0.467480</td>\n",
       "      <td>0.996946</td>\n",
       "      <td>0.062298</td>\n",
       "      <td>0</td>\n",
       "    </tr>\n",
       "    <tr>\n",
       "      <th>1</th>\n",
       "      <td>346559678</td>\n",
       "      <td>service</td>\n",
       "      <td>390.795032</td>\n",
       "      <td>1.0</td>\n",
       "      <td>1.000000</td>\n",
       "      <td>0.000000</td>\n",
       "      <td>0.000000</td>\n",
       "      <td>0.062298</td>\n",
       "      <td>0</td>\n",
       "    </tr>\n",
       "    <tr>\n",
       "      <th>2</th>\n",
       "      <td>346559679</td>\n",
       "      <td>service</td>\n",
       "      <td>504.081021</td>\n",
       "      <td>98.0</td>\n",
       "      <td>0.683673</td>\n",
       "      <td>0.316327</td>\n",
       "      <td>0.900342</td>\n",
       "      <td>0.062298</td>\n",
       "      <td>0</td>\n",
       "    </tr>\n",
       "    <tr>\n",
       "      <th>3</th>\n",
       "      <td>483400905</td>\n",
       "      <td>service</td>\n",
       "      <td>145.382159</td>\n",
       "      <td>4570.0</td>\n",
       "      <td>1.000000</td>\n",
       "      <td>0.000000</td>\n",
       "      <td>0.000000</td>\n",
       "      <td>0.062298</td>\n",
       "      <td>1</td>\n",
       "    </tr>\n",
       "    <tr>\n",
       "      <th>4</th>\n",
       "      <td>512761774</td>\n",
       "      <td>service</td>\n",
       "      <td>9.637453</td>\n",
       "      <td>383.0</td>\n",
       "      <td>0.292428</td>\n",
       "      <td>0.707572</td>\n",
       "      <td>0.871837</td>\n",
       "      <td>0.062298</td>\n",
       "      <td>0</td>\n",
       "    </tr>\n",
       "  </tbody>\n",
       "</table>\n",
       "</div>"
      ],
      "text/plain": [
       "      way_id roadtype    road_len  num_pings  dir1_ratio  dir2_ratio  \\\n",
       "0  346559677  service  381.527392      246.0    0.532520    0.467480   \n",
       "1  346559678  service  390.795032        1.0    1.000000    0.000000   \n",
       "2  346559679  service  504.081021       98.0    0.683673    0.316327   \n",
       "3  483400905  service  145.382159     4570.0    1.000000    0.000000   \n",
       "4  512761774  service    9.637453      383.0    0.292428    0.707572   \n",
       "\n",
       "    entropy  prob_oneway  oneway  \n",
       "0  0.996946     0.062298       0  \n",
       "1  0.000000     0.062298       0  \n",
       "2  0.900342     0.062298       0  \n",
       "3  0.000000     0.062298       1  \n",
       "4  0.871837     0.062298       0  "
      ]
     },
     "execution_count": 8,
     "metadata": {},
     "output_type": "execute_result"
    }
   ],
   "source": [
    "test_data=test_data.merge(one_way_counts,left_on=\"roadtype\",right_on=\"roadtype\")\n",
    "test_data['num_pings']=test_data.dir1+test_data.dir2\n",
    "test_data['dir1_ratio']=test_data.dir1/test_data.num_pings\n",
    "test_data['dir2_ratio']=test_data.dir2/test_data.num_pings\n",
    "test_data['entropy']=-(test_data.dir1_ratio*np.log2(test_data.dir1_ratio)+\\\n",
    "                         test_data.dir2_ratio*np.log2(test_data.dir2_ratio))\n",
    "test_data.fillna(0.0,inplace=True)\n",
    "test_data=test_data[[\"way_id\",\"roadtype\",\"road_len\",\"num_pings\",\"dir1_ratio\",\\\n",
    "                     \"dir2_ratio\",\"entropy\",\"prob_oneway\",\"oneway\"]]\n",
    "test_data.head()"
   ]
  },
  {
   "cell_type": "code",
   "execution_count": 9,
   "metadata": {},
   "outputs": [],
   "source": [
    "conti_cols=['road_len', 'num_pings', 'entropy', 'prob_oneway']\n",
    "#for col in conti_cols:\n",
    "#    std=test_data[col].std()\n",
    "#    mean=test_data[col].mean()\n",
    "#    test_data[col]=(test_data[col]-mean)/std"
   ]
  },
  {
   "cell_type": "code",
   "execution_count": 10,
   "metadata": {},
   "outputs": [],
   "source": [
    "#validation features\n",
    "test_features=np.array(test_data[conti_cols])"
   ]
  },
  {
   "cell_type": "code",
   "execution_count": 11,
   "metadata": {},
   "outputs": [
    {
     "name": "stderr",
     "output_type": "stream",
     "text": [
      "/usr/local/lib/python3.6/dist-packages/sklearn/preprocessing/label.py:151: DeprecationWarning: The truth value of an empty array is ambiguous. Returning False, but in future this will result in an error. Use `array.size > 0` to check that an array is not empty.\n",
      "  if diff:\n"
     ]
    },
    {
     "name": "stdout",
     "output_type": "stream",
     "text": [
      "accuracy score: 0.9934956767578642\n"
     ]
    },
    {
     "name": "stderr",
     "output_type": "stream",
     "text": [
      "/usr/local/lib/python3.6/dist-packages/sklearn/preprocessing/label.py:151: DeprecationWarning: The truth value of an empty array is ambiguous. Returning False, but in future this will result in an error. Use `array.size > 0` to check that an array is not empty.\n",
      "  if diff:\n"
     ]
    },
    {
     "data": {
      "image/png": "[encoded data removed]",
      "text/plain": [
       "<Figure size 432x288 with 2 Axes>"
      ]
     },
     "metadata": {},
     "output_type": "display_data"
    },
    {
     "data": {
      "image/png": "[encoded data removed]",
      "text/plain": [
       "<Figure size 432x288 with 1 Axes>"
      ]
     },
     "metadata": {},
     "output_type": "display_data"
    },
    {
     "data": {
      "text/plain": [
       "0.9976051968361567"
      ]
     },
     "execution_count": 11,
     "metadata": {},
     "output_type": "execute_result"
    }
   ],
   "source": [
    "compute_validation_acc(gbm,test_features,test_data.oneway)"
   ]
  },
  {
   "cell_type": "markdown",
   "metadata": {},
   "source": [
    "### Let us validate against Manual check of the last iteration and see how we have done"
   ]
  },
  {
   "cell_type": "code",
   "execution_count": 12,
   "metadata": {},
   "outputs": [
    {
     "data": {
      "text/html": [
       "<div>\n",
       "<style scoped>\n",
       "    .dataframe tbody tr th:only-of-type {\n",
       "        vertical-align: middle;\n",
       "    }\n",
       "\n",
       "    .dataframe tbody tr th {\n",
       "        vertical-align: top;\n",
       "    }\n",
       "\n",
       "    .dataframe thead th {\n",
       "        text-align: right;\n",
       "    }\n",
       "</style>\n",
       "<table border=\"1\" class=\"dataframe\">\n",
       "  <thead>\n",
       "    <tr style=\"text-align: right;\">\n",
       "      <th></th>\n",
       "      <th>way_id</th>\n",
       "      <th>manual_verification</th>\n",
       "      <th>ground_truth</th>\n",
       "      <th>roadtype</th>\n",
       "      <th>road_len</th>\n",
       "      <th>num_pings</th>\n",
       "      <th>dir1_ratio</th>\n",
       "      <th>dir2_ratio</th>\n",
       "      <th>entropy</th>\n",
       "      <th>prob_oneway</th>\n",
       "      <th>oneway</th>\n",
       "    </tr>\n",
       "  </thead>\n",
       "  <tbody>\n",
       "    <tr>\n",
       "      <th>0</th>\n",
       "      <td>397141353</td>\n",
       "      <td>oneway</td>\n",
       "      <td>1</td>\n",
       "      <td>unclassified</td>\n",
       "      <td>24.848683</td>\n",
       "      <td>4785.0</td>\n",
       "      <td>1.000000</td>\n",
       "      <td>0.000000</td>\n",
       "      <td>0.000000</td>\n",
       "      <td>0.098326</td>\n",
       "      <td>1</td>\n",
       "    </tr>\n",
       "    <tr>\n",
       "      <th>1</th>\n",
       "      <td>575395945</td>\n",
       "      <td>twoway</td>\n",
       "      <td>0</td>\n",
       "      <td>residential</td>\n",
       "      <td>151.008113</td>\n",
       "      <td>250.0</td>\n",
       "      <td>0.408000</td>\n",
       "      <td>0.592000</td>\n",
       "      <td>0.975438</td>\n",
       "      <td>0.030748</td>\n",
       "      <td>0</td>\n",
       "    </tr>\n",
       "    <tr>\n",
       "      <th>2</th>\n",
       "      <td>575395951</td>\n",
       "      <td>twoway</td>\n",
       "      <td>0</td>\n",
       "      <td>residential</td>\n",
       "      <td>187.270223</td>\n",
       "      <td>534.0</td>\n",
       "      <td>0.383895</td>\n",
       "      <td>0.616105</td>\n",
       "      <td>0.960747</td>\n",
       "      <td>0.030748</td>\n",
       "      <td>0</td>\n",
       "    </tr>\n",
       "    <tr>\n",
       "      <th>3</th>\n",
       "      <td>575395938</td>\n",
       "      <td>twoway</td>\n",
       "      <td>0</td>\n",
       "      <td>residential</td>\n",
       "      <td>61.096870</td>\n",
       "      <td>284.0</td>\n",
       "      <td>0.514085</td>\n",
       "      <td>0.485915</td>\n",
       "      <td>0.999428</td>\n",
       "      <td>0.030748</td>\n",
       "      <td>0</td>\n",
       "    </tr>\n",
       "    <tr>\n",
       "      <th>4</th>\n",
       "      <td>575395943</td>\n",
       "      <td>twoway</td>\n",
       "      <td>0</td>\n",
       "      <td>residential</td>\n",
       "      <td>50.716506</td>\n",
       "      <td>205.0</td>\n",
       "      <td>0.473171</td>\n",
       "      <td>0.526829</td>\n",
       "      <td>0.997922</td>\n",
       "      <td>0.030748</td>\n",
       "      <td>0</td>\n",
       "    </tr>\n",
       "  </tbody>\n",
       "</table>\n",
       "</div>"
      ],
      "text/plain": [
       "      way_id manual_verification  ground_truth      roadtype    road_len  \\\n",
       "0  397141353              oneway             1  unclassified   24.848683   \n",
       "1  575395945              twoway             0   residential  151.008113   \n",
       "2  575395951              twoway             0   residential  187.270223   \n",
       "3  575395938              twoway             0   residential   61.096870   \n",
       "4  575395943              twoway             0   residential   50.716506   \n",
       "\n",
       "   num_pings  dir1_ratio  dir2_ratio   entropy  prob_oneway  oneway  \n",
       "0     4785.0    1.000000    0.000000  0.000000     0.098326       1  \n",
       "1      250.0    0.408000    0.592000  0.975438     0.030748       0  \n",
       "2      534.0    0.383895    0.616105  0.960747     0.030748       0  \n",
       "3      284.0    0.514085    0.485915  0.999428     0.030748       0  \n",
       "4      205.0    0.473171    0.526829  0.997922     0.030748       0  "
      ]
     },
     "execution_count": 12,
     "metadata": {},
     "output_type": "execute_result"
    }
   ],
   "source": [
    "data_manual=pd.read_csv(\"data/ML Validation - Sheet1.csv\")\n",
    "data_manual=data_manual[['way_id','Direction verified manually']]\n",
    "data_manual.rename(columns={'Direction verified manually':'manual_verification'},inplace=True)\n",
    "data_manual.loc[data_manual['manual_verification'].str.contains('two',case=False),'manual_verification']='twoway'\n",
    "data_manual.loc[data_manual['manual_verification'].str.contains('one',case=False),'manual_verification']='oneway'\n",
    "data_manual['ground_truth']=data_manual.manual_verification.map({'twoway':0,'oneway':1})\n",
    "data_manual=data_manual.merge(test_data,left_on='way_id',right_on='way_id')\n",
    "data_manual.head()\n"
   ]
  },
  {
   "cell_type": "code",
   "execution_count": 13,
   "metadata": {},
   "outputs": [
    {
     "name": "stderr",
     "output_type": "stream",
     "text": [
      "/usr/local/lib/python3.6/dist-packages/sklearn/preprocessing/label.py:151: DeprecationWarning: The truth value of an empty array is ambiguous. Returning False, but in future this will result in an error. Use `array.size > 0` to check that an array is not empty.\n",
      "  if diff:\n",
      "/usr/local/lib/python3.6/dist-packages/sklearn/preprocessing/label.py:151: DeprecationWarning: The truth value of an empty array is ambiguous. Returning False, but in future this will result in an error. Use `array.size > 0` to check that an array is not empty.\n",
      "  if diff:\n"
     ]
    },
    {
     "name": "stdout",
     "output_type": "stream",
     "text": [
      "accuracy score: 0.9411764705882353\n"
     ]
    },
    {
     "data": {
      "image/png": "[encoded data removed]",
      "text/plain": [
       "<Figure size 432x288 with 2 Axes>"
      ]
     },
     "metadata": {},
     "output_type": "display_data"
    },
    {
     "data": {
      "image/png": "[encoded data removed]",
      "text/plain": [
       "<Figure size 432x288 with 1 Axes>"
      ]
     },
     "metadata": {},
     "output_type": "display_data"
    },
    {
     "data": {
      "text/plain": [
       "0.9555780476833108"
      ]
     },
     "execution_count": 13,
     "metadata": {},
     "output_type": "execute_result"
    }
   ],
   "source": [
    "data_manual_features=np.array(data_manual[conti_cols])\n",
    "compute_validation_acc(gbm,data_manual_features,data_manual.ground_truth)"
   ]
  },
  {
   "cell_type": "code",
   "execution_count": 14,
   "metadata": {},
   "outputs": [
    {
     "name": "stderr",
     "output_type": "stream",
     "text": [
      "/usr/local/lib/python3.6/dist-packages/sklearn/preprocessing/label.py:151: DeprecationWarning: The truth value of an empty array is ambiguous. Returning False, but in future this will result in an error. Use `array.size > 0` to check that an array is not empty.\n",
      "  if diff:\n"
     ]
    }
   ],
   "source": [
    "data_manual['pred']=gbm.predict(data_manual_features).tolist()\n",
    "data_manual['pred_prob_bi']=gbm.predict_proba(data_manual_features)[:,0].tolist()\n",
    "data_manual['pred_prob_oneway']=gbm.predict_proba(data_manual_features)[:,1].tolist()"
   ]
  },
  {
   "cell_type": "code",
   "execution_count": 15,
   "metadata": {},
   "outputs": [
    {
     "data": {
      "text/html": [
       "<div>\n",
       "<style scoped>\n",
       "    .dataframe tbody tr th:only-of-type {\n",
       "        vertical-align: middle;\n",
       "    }\n",
       "\n",
       "    .dataframe tbody tr th {\n",
       "        vertical-align: top;\n",
       "    }\n",
       "\n",
       "    .dataframe thead th {\n",
       "        text-align: right;\n",
       "    }\n",
       "</style>\n",
       "<table border=\"1\" class=\"dataframe\">\n",
       "  <thead>\n",
       "    <tr style=\"text-align: right;\">\n",
       "      <th></th>\n",
       "      <th>way_id</th>\n",
       "      <th>ground_truth</th>\n",
       "      <th>pred</th>\n",
       "      <th>pred_prob_bi</th>\n",
       "      <th>pred_prob_oneway</th>\n",
       "      <th>road_len</th>\n",
       "      <th>entropy</th>\n",
       "      <th>num_pings</th>\n",
       "      <th>roadtype</th>\n",
       "    </tr>\n",
       "  </thead>\n",
       "  <tbody>\n",
       "    <tr>\n",
       "      <th>0</th>\n",
       "      <td>397141353</td>\n",
       "      <td>1</td>\n",
       "      <td>1</td>\n",
       "      <td>0.010242</td>\n",
       "      <td>0.989758</td>\n",
       "      <td>24.848683</td>\n",
       "      <td>0.000000</td>\n",
       "      <td>4785.0</td>\n",
       "      <td>unclassified</td>\n",
       "    </tr>\n",
       "    <tr>\n",
       "      <th>1</th>\n",
       "      <td>575395945</td>\n",
       "      <td>0</td>\n",
       "      <td>0</td>\n",
       "      <td>0.999440</td>\n",
       "      <td>0.000560</td>\n",
       "      <td>151.008113</td>\n",
       "      <td>0.975438</td>\n",
       "      <td>250.0</td>\n",
       "      <td>residential</td>\n",
       "    </tr>\n",
       "    <tr>\n",
       "      <th>2</th>\n",
       "      <td>575395951</td>\n",
       "      <td>0</td>\n",
       "      <td>0</td>\n",
       "      <td>0.999433</td>\n",
       "      <td>0.000567</td>\n",
       "      <td>187.270223</td>\n",
       "      <td>0.960747</td>\n",
       "      <td>534.0</td>\n",
       "      <td>residential</td>\n",
       "    </tr>\n",
       "    <tr>\n",
       "      <th>3</th>\n",
       "      <td>575395938</td>\n",
       "      <td>0</td>\n",
       "      <td>0</td>\n",
       "      <td>0.999265</td>\n",
       "      <td>0.000735</td>\n",
       "      <td>61.096870</td>\n",
       "      <td>0.999428</td>\n",
       "      <td>284.0</td>\n",
       "      <td>residential</td>\n",
       "    </tr>\n",
       "    <tr>\n",
       "      <th>4</th>\n",
       "      <td>575395943</td>\n",
       "      <td>0</td>\n",
       "      <td>0</td>\n",
       "      <td>0.999525</td>\n",
       "      <td>0.000475</td>\n",
       "      <td>50.716506</td>\n",
       "      <td>0.997922</td>\n",
       "      <td>205.0</td>\n",
       "      <td>residential</td>\n",
       "    </tr>\n",
       "  </tbody>\n",
       "</table>\n",
       "</div>"
      ],
      "text/plain": [
       "      way_id  ground_truth  pred  pred_prob_bi  pred_prob_oneway    road_len  \\\n",
       "0  397141353             1     1      0.010242          0.989758   24.848683   \n",
       "1  575395945             0     0      0.999440          0.000560  151.008113   \n",
       "2  575395951             0     0      0.999433          0.000567  187.270223   \n",
       "3  575395938             0     0      0.999265          0.000735   61.096870   \n",
       "4  575395943             0     0      0.999525          0.000475   50.716506   \n",
       "\n",
       "    entropy  num_pings      roadtype  \n",
       "0  0.000000     4785.0  unclassified  \n",
       "1  0.975438      250.0   residential  \n",
       "2  0.960747      534.0   residential  \n",
       "3  0.999428      284.0   residential  \n",
       "4  0.997922      205.0   residential  "
      ]
     },
     "execution_count": 15,
     "metadata": {},
     "output_type": "execute_result"
    }
   ],
   "source": [
    "data_manual=data_manual[['way_id','ground_truth','pred','pred_prob_bi','pred_prob_oneway','road_len',\\\n",
    "'entropy','num_pings','roadtype']]\n",
    "data_manual.head()"
   ]
  },
  {
   "cell_type": "code",
   "execution_count": 16,
   "metadata": {},
   "outputs": [
    {
     "name": "stdout",
     "output_type": "stream",
     "text": [
      "(153, 9)\n"
     ]
    },
    {
     "data": {
      "text/html": [
       "<div>\n",
       "<style scoped>\n",
       "    .dataframe tbody tr th:only-of-type {\n",
       "        vertical-align: middle;\n",
       "    }\n",
       "\n",
       "    .dataframe tbody tr th {\n",
       "        vertical-align: top;\n",
       "    }\n",
       "\n",
       "    .dataframe thead th {\n",
       "        text-align: right;\n",
       "    }\n",
       "</style>\n",
       "<table border=\"1\" class=\"dataframe\">\n",
       "  <thead>\n",
       "    <tr style=\"text-align: right;\">\n",
       "      <th></th>\n",
       "      <th>way_id</th>\n",
       "      <th>ground_truth</th>\n",
       "      <th>pred</th>\n",
       "      <th>pred_prob_bi</th>\n",
       "      <th>pred_prob_oneway</th>\n",
       "      <th>road_len</th>\n",
       "      <th>entropy</th>\n",
       "      <th>num_pings</th>\n",
       "      <th>roadtype</th>\n",
       "    </tr>\n",
       "  </thead>\n",
       "  <tbody>\n",
       "    <tr>\n",
       "      <th>30</th>\n",
       "      <td>36960448</td>\n",
       "      <td>0</td>\n",
       "      <td>1</td>\n",
       "      <td>0.014150</td>\n",
       "      <td>0.985850</td>\n",
       "      <td>264.367920</td>\n",
       "      <td>0.000000</td>\n",
       "      <td>65409.0</td>\n",
       "      <td>residential</td>\n",
       "    </tr>\n",
       "    <tr>\n",
       "      <th>49</th>\n",
       "      <td>573823582</td>\n",
       "      <td>1</td>\n",
       "      <td>0</td>\n",
       "      <td>0.779876</td>\n",
       "      <td>0.220124</td>\n",
       "      <td>145.108151</td>\n",
       "      <td>0.000000</td>\n",
       "      <td>15.0</td>\n",
       "      <td>residential</td>\n",
       "    </tr>\n",
       "    <tr>\n",
       "      <th>50</th>\n",
       "      <td>570153627</td>\n",
       "      <td>1</td>\n",
       "      <td>0</td>\n",
       "      <td>0.999581</td>\n",
       "      <td>0.000419</td>\n",
       "      <td>111.430282</td>\n",
       "      <td>0.999904</td>\n",
       "      <td>346.0</td>\n",
       "      <td>residential</td>\n",
       "    </tr>\n",
       "    <tr>\n",
       "      <th>58</th>\n",
       "      <td>244054005</td>\n",
       "      <td>0</td>\n",
       "      <td>1</td>\n",
       "      <td>0.005861</td>\n",
       "      <td>0.994139</td>\n",
       "      <td>412.987834</td>\n",
       "      <td>0.000000</td>\n",
       "      <td>6732.0</td>\n",
       "      <td>residential</td>\n",
       "    </tr>\n",
       "    <tr>\n",
       "      <th>61</th>\n",
       "      <td>36960982</td>\n",
       "      <td>0</td>\n",
       "      <td>1</td>\n",
       "      <td>0.001439</td>\n",
       "      <td>0.998561</td>\n",
       "      <td>146.103981</td>\n",
       "      <td>0.000000</td>\n",
       "      <td>11111.0</td>\n",
       "      <td>tertiary</td>\n",
       "    </tr>\n",
       "    <tr>\n",
       "      <th>91</th>\n",
       "      <td>568057855</td>\n",
       "      <td>1</td>\n",
       "      <td>0</td>\n",
       "      <td>0.971085</td>\n",
       "      <td>0.028915</td>\n",
       "      <td>24.440170</td>\n",
       "      <td>0.427628</td>\n",
       "      <td>1053.0</td>\n",
       "      <td>service</td>\n",
       "    </tr>\n",
       "    <tr>\n",
       "      <th>119</th>\n",
       "      <td>593575276</td>\n",
       "      <td>1</td>\n",
       "      <td>0</td>\n",
       "      <td>0.996210</td>\n",
       "      <td>0.003790</td>\n",
       "      <td>102.791836</td>\n",
       "      <td>0.803936</td>\n",
       "      <td>1528.0</td>\n",
       "      <td>service</td>\n",
       "    </tr>\n",
       "    <tr>\n",
       "      <th>151</th>\n",
       "      <td>563587628</td>\n",
       "      <td>1</td>\n",
       "      <td>0</td>\n",
       "      <td>0.984559</td>\n",
       "      <td>0.015441</td>\n",
       "      <td>611.632826</td>\n",
       "      <td>0.324643</td>\n",
       "      <td>10338.0</td>\n",
       "      <td>residential</td>\n",
       "    </tr>\n",
       "    <tr>\n",
       "      <th>152</th>\n",
       "      <td>563587612</td>\n",
       "      <td>1</td>\n",
       "      <td>0</td>\n",
       "      <td>0.993454</td>\n",
       "      <td>0.006546</td>\n",
       "      <td>221.682911</td>\n",
       "      <td>0.511907</td>\n",
       "      <td>421.0</td>\n",
       "      <td>residential</td>\n",
       "    </tr>\n",
       "  </tbody>\n",
       "</table>\n",
       "</div>"
      ],
      "text/plain": [
       "        way_id  ground_truth  pred  pred_prob_bi  pred_prob_oneway  \\\n",
       "30    36960448             0     1      0.014150          0.985850   \n",
       "49   573823582             1     0      0.779876          0.220124   \n",
       "50   570153627             1     0      0.999581          0.000419   \n",
       "58   244054005             0     1      0.005861          0.994139   \n",
       "61    36960982             0     1      0.001439          0.998561   \n",
       "91   568057855             1     0      0.971085          0.028915   \n",
       "119  593575276             1     0      0.996210          0.003790   \n",
       "151  563587628             1     0      0.984559          0.015441   \n",
       "152  563587612             1     0      0.993454          0.006546   \n",
       "\n",
       "       road_len   entropy  num_pings     roadtype  \n",
       "30   264.367920  0.000000    65409.0  residential  \n",
       "49   145.108151  0.000000       15.0  residential  \n",
       "50   111.430282  0.999904      346.0  residential  \n",
       "58   412.987834  0.000000     6732.0  residential  \n",
       "61   146.103981  0.000000    11111.0     tertiary  \n",
       "91    24.440170  0.427628     1053.0      service  \n",
       "119  102.791836  0.803936     1528.0      service  \n",
       "151  611.632826  0.324643    10338.0  residential  \n",
       "152  221.682911  0.511907      421.0  residential  "
      ]
     },
     "execution_count": 16,
     "metadata": {},
     "output_type": "execute_result"
    }
   ],
   "source": [
    "print(data_manual.shape)\n",
    "data_manual[data_manual.ground_truth!=data_manual.pred]"
   ]
  },
  {
   "cell_type": "markdown",
   "metadata": {},
   "source": [
    "### Export the entire results for JKT"
   ]
  },
  {
   "cell_type": "code",
   "execution_count": 17,
   "metadata": {},
   "outputs": [
    {
     "name": "stderr",
     "output_type": "stream",
     "text": [
      "/usr/local/lib/python3.6/dist-packages/sklearn/preprocessing/label.py:151: DeprecationWarning: The truth value of an empty array is ambiguous. Returning False, but in future this will result in an error. Use `array.size > 0` to check that an array is not empty.\n",
      "  if diff:\n"
     ]
    },
    {
     "name": "stdout",
     "output_type": "stream",
     "text": [
      "(321171, 9)\n"
     ]
    },
    {
     "data": {
      "text/html": [
       "<div>\n",
       "<style scoped>\n",
       "    .dataframe tbody tr th:only-of-type {\n",
       "        vertical-align: middle;\n",
       "    }\n",
       "\n",
       "    .dataframe tbody tr th {\n",
       "        vertical-align: top;\n",
       "    }\n",
       "\n",
       "    .dataframe thead th {\n",
       "        text-align: right;\n",
       "    }\n",
       "</style>\n",
       "<table border=\"1\" class=\"dataframe\">\n",
       "  <thead>\n",
       "    <tr style=\"text-align: right;\">\n",
       "      <th></th>\n",
       "      <th>way_id</th>\n",
       "      <th>oneway</th>\n",
       "      <th>pred</th>\n",
       "      <th>pred_prob_bi</th>\n",
       "      <th>pred_prob_oneway</th>\n",
       "      <th>road_len</th>\n",
       "      <th>entropy</th>\n",
       "      <th>num_pings</th>\n",
       "      <th>roadtype</th>\n",
       "    </tr>\n",
       "  </thead>\n",
       "  <tbody>\n",
       "    <tr>\n",
       "      <th>0</th>\n",
       "      <td>346559677</td>\n",
       "      <td>0</td>\n",
       "      <td>0</td>\n",
       "      <td>0.999722</td>\n",
       "      <td>0.000278</td>\n",
       "      <td>381.527392</td>\n",
       "      <td>0.996946</td>\n",
       "      <td>246.0</td>\n",
       "      <td>service</td>\n",
       "    </tr>\n",
       "    <tr>\n",
       "      <th>1</th>\n",
       "      <td>346559678</td>\n",
       "      <td>0</td>\n",
       "      <td>0</td>\n",
       "      <td>0.913352</td>\n",
       "      <td>0.086648</td>\n",
       "      <td>390.795032</td>\n",
       "      <td>0.000000</td>\n",
       "      <td>1.0</td>\n",
       "      <td>service</td>\n",
       "    </tr>\n",
       "    <tr>\n",
       "      <th>2</th>\n",
       "      <td>346559679</td>\n",
       "      <td>0</td>\n",
       "      <td>0</td>\n",
       "      <td>0.999574</td>\n",
       "      <td>0.000426</td>\n",
       "      <td>504.081021</td>\n",
       "      <td>0.900342</td>\n",
       "      <td>98.0</td>\n",
       "      <td>service</td>\n",
       "    </tr>\n",
       "    <tr>\n",
       "      <th>3</th>\n",
       "      <td>483400905</td>\n",
       "      <td>1</td>\n",
       "      <td>1</td>\n",
       "      <td>0.006916</td>\n",
       "      <td>0.993084</td>\n",
       "      <td>145.382159</td>\n",
       "      <td>0.000000</td>\n",
       "      <td>4570.0</td>\n",
       "      <td>service</td>\n",
       "    </tr>\n",
       "    <tr>\n",
       "      <th>4</th>\n",
       "      <td>512761774</td>\n",
       "      <td>0</td>\n",
       "      <td>0</td>\n",
       "      <td>0.979242</td>\n",
       "      <td>0.020758</td>\n",
       "      <td>9.637453</td>\n",
       "      <td>0.871837</td>\n",
       "      <td>383.0</td>\n",
       "      <td>service</td>\n",
       "    </tr>\n",
       "  </tbody>\n",
       "</table>\n",
       "</div>"
      ],
      "text/plain": [
       "      way_id  oneway  pred  pred_prob_bi  pred_prob_oneway    road_len  \\\n",
       "0  346559677       0     0      0.999722          0.000278  381.527392   \n",
       "1  346559678       0     0      0.913352          0.086648  390.795032   \n",
       "2  346559679       0     0      0.999574          0.000426  504.081021   \n",
       "3  483400905       1     1      0.006916          0.993084  145.382159   \n",
       "4  512761774       0     0      0.979242          0.020758    9.637453   \n",
       "\n",
       "    entropy  num_pings roadtype  \n",
       "0  0.996946      246.0  service  \n",
       "1  0.000000        1.0  service  \n",
       "2  0.900342       98.0  service  \n",
       "3  0.000000     4570.0  service  \n",
       "4  0.871837      383.0  service  "
      ]
     },
     "execution_count": 17,
     "metadata": {},
     "output_type": "execute_result"
    }
   ],
   "source": [
    "test_data['pred']=gbm.predict(test_features).tolist()\n",
    "test_data['pred_prob_bi']=gbm.predict_proba(test_features)[:,0].tolist()\n",
    "test_data['pred_prob_oneway']=gbm.predict_proba(test_features)[:,1].tolist()\n",
    "test_data=test_data[['way_id','oneway','pred','pred_prob_bi','pred_prob_oneway','road_len',\\\n",
    "'entropy','num_pings','roadtype']]\n",
    "print(test_data.shape)\n",
    "test_data.head()"
   ]
  },
  {
   "cell_type": "code",
   "execution_count": 18,
   "metadata": {},
   "outputs": [
    {
     "data": {
      "text/plain": [
       "0.9934956767578642"
      ]
     },
     "execution_count": 18,
     "metadata": {},
     "output_type": "execute_result"
    }
   ],
   "source": [
    "a=test_data[test_data.oneway!=test_data.pred].shape[0]\n",
    "b=test_data[test_data.oneway==test_data.pred].shape[0]\n",
    "b/(b+a)"
   ]
  },
  {
   "cell_type": "code",
   "execution_count": null,
   "metadata": {},
   "outputs": [],
   "source": [
    "test_data.to_csv(f\"results_DOT_JKT_{map_version}.csv\",index=False)"
   ]
  },
  {
   "cell_type": "code",
   "execution_count": 19,
   "metadata": {},
   "outputs": [],
   "source": [
    "test_data[(test_data.oneway!=test_data.pred)].to_csv(f\"diff_DOT_JKT_{map_version}.csv\",index=False)"
   ]
  },
  {
   "cell_type": "code",
   "execution_count": null,
   "metadata": {},
   "outputs": [],
   "source": []
  }
 ],
 "metadata": {
  "kernelspec": {
   "display_name": "Python 3",
   "language": "python",
   "name": "python3"
  },
  "language_info": {
   "codemirror_mode": {
    "name": "ipython",
    "version": 3
   },
   "file_extension": ".py",
   "mimetype": "text/x-python",
   "name": "python",
   "nbconvert_exporter": "python",
   "pygments_lexer": "ipython3",
   "version": "3.7.0"
  }
 },
 "nbformat": 4,
 "nbformat_minor": 2
}
