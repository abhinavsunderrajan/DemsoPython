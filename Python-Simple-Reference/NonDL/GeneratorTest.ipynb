{
 "cells": [
  {
   "cell_type": "markdown",
   "metadata": {},
   "source": [
    "### Key take aways\n",
    "* Generator functions yield while regular functions return.\n",
    "* We can only use a generator once.\n",
    "* There are two ways to get values from generators: the next() function and a for loop. The for loop is often the preferred method."
   ]
  },
  {
   "cell_type": "code",
   "execution_count": 1,
   "metadata": {},
   "outputs": [],
   "source": [
    "\"\"\"\n",
    "he for loop will start with the first row in the CSV file, yield that row, \n",
    "and then save its current place in reading \n",
    "the file until the generator function is called again\n",
    "\"\"\"\n",
    "def gen_read():\n",
    "    file = \"/Users/abhinav.sunderrajan/Downloads/results_DOT_JKT_2Wheels-2019-03-25.csv\"\n",
    "    for row in open(file, encoding=\"ISO-8859-1\"):\n",
    "        yield row"
   ]
  },
  {
   "cell_type": "code",
   "execution_count": 6,
   "metadata": {},
   "outputs": [
    {
     "name": "stdout",
     "output_type": "stream",
     "text": [
      "way_id,oneway,pred,pred_prob_bi,pred_prob_oneway,road_len,entropy,num_pings,roadtype\n",
      "\n",
      "346559677,0,False,0.9999698400497437,3.0188188247848302e-05,381.52739170401975,0.9831104631552796,1362.0,service\n",
      "\n",
      "346559678,0,False,0.9999645352363586,3.5480141377775e-05,390.7950316579128,0.9990102708804813,27.0,service\n",
      "\n",
      "346559679,0,False,0.9998607635498047,0.00013926402607467026,504.08102088892366,0.8012209808507772,480.0,service\n",
      "\n",
      "483400905,1,True,0.0050961971282958984,0.9949038028717041,145.38215905682506,0.0,2163.0,service\n",
      "\n",
      "346559680,0,False,0.9729791283607483,0.0270208902657032,242.8173842179551,0.0,2.0,service\n",
      "\n",
      "512761774,0,False,0.9995728731155396,0.0004271262150723487,9.637452550361996,0.8430970528077375,3725.0,service\n",
      "\n",
      "594027050,0,False,0.9999505281448364,4.949613139615394e-05,120.87613968634388,0.9876925088958034,69.0,service\n",
      "\n",
      "594027017,0,False,0.9829118251800537,0.0170881450176239,51.81491994289489,0.0,3.0,service\n",
      "\n",
      "594027209,0,False,0.999625563621521,0.00037441725726239383,56.409367659191396,0.6027715131777668,3064.0,service\n",
      "\n",
      "594027211,0,False,0.9999352693557739,6.47242195555009e-05,188.02682436964898,0.9965776288130994,305.0,service\n",
      "\n"
     ]
    }
   ],
   "source": [
    "read_gen=gen_read()\n",
    "i=0\n",
    "for row in read_gen:\n",
    "    print(row)\n",
    "    if i==10:\n",
    "        break\n",
    "    i=i+1"
   ]
  },
  {
   "cell_type": "code",
   "execution_count": 7,
   "metadata": {},
   "outputs": [
    {
     "data": {
      "text/plain": [
       "'594027213,0,False,0.9997370839118958,0.0002629034861456603,117.98754291505124,0.9932043311657626,2454.0,service\\n'"
      ]
     },
     "execution_count": 7,
     "metadata": {},
     "output_type": "execute_result"
    }
   ],
   "source": [
    "next(read_gen)"
   ]
  },
  {
   "cell_type": "markdown",
   "metadata": {},
   "source": [
    "### Generators and list comprehensions\n",
    "Generator expressions need (), list comprehensions use []"
   ]
  },
  {
   "cell_type": "code",
   "execution_count": 10,
   "metadata": {},
   "outputs": [
    {
     "name": "stdout",
     "output_type": "stream",
     "text": [
      "<class 'list'>\n",
      "1\n",
      "4\n",
      "9\n",
      "16\n",
      "25\n"
     ]
    }
   ],
   "source": [
    "lc_example = [n**2 for n in [1, 2, 3, 4, 5]]\n",
    "print(type(lc_example))\n",
    "for l in lc_example:\n",
    "    print(l)"
   ]
  },
  {
   "cell_type": "code",
   "execution_count": 11,
   "metadata": {},
   "outputs": [
    {
     "name": "stdout",
     "output_type": "stream",
     "text": [
      "<class 'generator'>\n"
     ]
    },
    {
     "data": {
      "text/plain": [
       "(1, 4, 9)"
      ]
     },
     "execution_count": 11,
     "metadata": {},
     "output_type": "execute_result"
    }
   ],
   "source": [
    "gen_example = (n**2 for n in [1, 2, 3, 4, 5])\n",
    "print(type(gen_example))\n",
    "next(gen_example),next(gen_example),next(gen_example)\n"
   ]
  },
  {
   "cell_type": "markdown",
   "metadata": {},
   "source": [
    "### Generator of generators\n",
    "i.e pipelines"
   ]
  },
  {
   "cell_type": "code",
   "execution_count": 12,
   "metadata": {},
   "outputs": [],
   "source": [
    "data = \"/Users/abhinav.sunderrajan/Downloads/results_DOT_JKT_2Wheels-2019-03-25.csv\"\n",
    "lines = (line for line in open(data, encoding=\"ISO-8859-1\"))\n",
    "lists = (l.split(\",\") for l in lines)"
   ]
  },
  {
   "cell_type": "code",
   "execution_count": 14,
   "metadata": {},
   "outputs": [
    {
     "data": {
      "text/plain": [
       "(['346559677',\n",
       "  '0',\n",
       "  'False',\n",
       "  '0.9999698400497437',\n",
       "  '3.0188188247848302e-05',\n",
       "  '381.52739170401975',\n",
       "  '0.9831104631552796',\n",
       "  '1362.0',\n",
       "  'service\\n'],\n",
       " ['346559678',\n",
       "  '0',\n",
       "  'False',\n",
       "  '0.9999645352363586',\n",
       "  '3.5480141377775e-05',\n",
       "  '390.7950316579128',\n",
       "  '0.9990102708804813',\n",
       "  '27.0',\n",
       "  'service\\n'],\n",
       " ['346559679',\n",
       "  '0',\n",
       "  'False',\n",
       "  '0.9998607635498047',\n",
       "  '0.00013926402607467026',\n",
       "  '504.08102088892366',\n",
       "  '0.8012209808507772',\n",
       "  '480.0',\n",
       "  'service\\n'])"
      ]
     },
     "execution_count": 14,
     "metadata": {},
     "output_type": "execute_result"
    }
   ],
   "source": [
    "next(lists),next(lists),next(lists)\n"
   ]
  },
  {
   "cell_type": "code",
   "execution_count": null,
   "metadata": {},
   "outputs": [],
   "source": []
  }
 ],
 "metadata": {
  "kernelspec": {
   "display_name": "Python 3",
   "language": "python",
   "name": "python3"
  },
  "language_info": {
   "codemirror_mode": {
    "name": "ipython",
    "version": 3
   },
   "file_extension": ".py",
   "mimetype": "text/x-python",
   "name": "python",
   "nbconvert_exporter": "python",
   "pygments_lexer": "ipython3",
   "version": "3.7.2"
  }
 },
 "nbformat": 4,
 "nbformat_minor": 2
}
