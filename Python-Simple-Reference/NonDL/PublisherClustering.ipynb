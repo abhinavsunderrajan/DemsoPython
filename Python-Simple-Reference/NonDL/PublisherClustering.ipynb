{
 "cells": [
  {
   "cell_type": "markdown",
   "metadata": {},
   "source": [
    "## Motivation\n",
    "Cluster publishers a succesfull clustering could increase the accuracy of the click pred model. The clustering is primarily based on TF-IDF vectorization of bundle categories. For TF-IDF I have also utilized, NLTK's stemming for the extracting the root words for the categories.\n",
    "* As we shall see in the cells below I've tried several approaches such as the novel Kmodes clustering for combining categorical and continous features.\n",
    "* Simple Kmeans algorithm\n",
    "* DBscan"
   ]
  },
  {
   "cell_type": "code",
   "execution_count": 1,
   "metadata": {},
   "outputs": [
    {
     "name": "stdout",
     "output_type": "stream",
     "text": [
      "3.7.3 (default, Mar 27 2019, 16:54:48) \n",
      "[Clang 4.0.1 (tags/RELEASE_401/final)]\n"
     ]
    }
   ],
   "source": [
    "import sys\n",
    "print(sys.version)\n",
    "sys.path.append(\"../\")\n",
    "import pandas as pd\n",
    "import pymysql\n",
    "import matplotlib.style as style\n",
    "import matplotlib.pyplot as plt\n",
    "import datetime\n",
    "from datetime import timedelta\n",
    "import pymysql\n",
    "from pyathena import connect\n",
    "from pyathena.pandas_cursor import PandasCursor\n",
    "%matplotlib inline\n",
    "import seaborn as sns\n",
    "import numpy as np\n",
    "style.use('ggplot')\n",
    "from tqdm import tqdm\n",
    "from IPython.display import display, HTML\n",
    "import matplotlib.cm as cm"
   ]
  },
  {
   "cell_type": "code",
   "execution_count": 2,
   "metadata": {},
   "outputs": [],
   "source": [
    "con_commons = pymysql.connect(host=\"host_name\", database='db_name', user=\"user_name\",\n",
    "                              password=\"password\")"
   ]
  },
  {
   "cell_type": "code",
   "execution_count": 3,
   "metadata": {},
   "outputs": [],
   "source": [
    "bundle_info = pd.read_sql(bundle_query, con_commons)\n",
    "con_commons.close()"
   ]
  },
  {
   "cell_type": "code",
   "execution_count": 4,
   "metadata": {},
   "outputs": [
    {
     "name": "stdout",
     "output_type": "stream",
     "text": [
      "(103978, 9)\n"
     ]
    },
    {
     "data": {
      "text/html": [
       "<div>\n",
       "<style scoped>\n",
       "    .dataframe tbody tr th:only-of-type {\n",
       "        vertical-align: middle;\n",
       "    }\n",
       "\n",
       "    .dataframe tbody tr th {\n",
       "        vertical-align: top;\n",
       "    }\n",
       "\n",
       "    .dataframe thead th {\n",
       "        text-align: right;\n",
       "    }\n",
       "</style>\n",
       "<table border=\"1\" class=\"dataframe\">\n",
       "  <thead>\n",
       "    <tr style=\"text-align: right;\">\n",
       "      <th></th>\n",
       "      <th>bundle_id</th>\n",
       "      <th>app_name</th>\n",
       "      <th>app_author</th>\n",
       "      <th>category</th>\n",
       "      <th>top_developer</th>\n",
       "      <th>price</th>\n",
       "      <th>rating</th>\n",
       "      <th>rating_count</th>\n",
       "      <th>content_rating</th>\n",
       "    </tr>\n",
       "  </thead>\n",
       "  <tbody>\n",
       "    <tr>\n",
       "      <td>0</td>\n",
       "      <td>1000548274</td>\n",
       "      <td>1010 Block</td>\n",
       "      <td>SwiftStar</td>\n",
       "      <td>Games Entertainment Board Trivia</td>\n",
       "      <td>0</td>\n",
       "      <td>0.0</td>\n",
       "      <td>4.5</td>\n",
       "      <td>21.0</td>\n",
       "      <td>4+</td>\n",
       "    </tr>\n",
       "    <tr>\n",
       "      <td>1</td>\n",
       "      <td>1000773093</td>\n",
       "      <td>Rapala Fishing - Daily Catch</td>\n",
       "      <td>Concrete Software, Inc.</td>\n",
       "      <td>Games Sports Sports Action</td>\n",
       "      <td>0</td>\n",
       "      <td>0.0</td>\n",
       "      <td>4.5</td>\n",
       "      <td>2316.0</td>\n",
       "      <td>4+</td>\n",
       "    </tr>\n",
       "    <tr>\n",
       "      <td>2</td>\n",
       "      <td>1000958628</td>\n",
       "      <td>Cannon Hero Must Die</td>\n",
       "      <td>Orangenose Studios</td>\n",
       "      <td>Games Action Arcade</td>\n",
       "      <td>0</td>\n",
       "      <td>0.0</td>\n",
       "      <td>5.0</td>\n",
       "      <td>734.0</td>\n",
       "      <td>4+</td>\n",
       "    </tr>\n",
       "    <tr>\n",
       "      <td>3</td>\n",
       "      <td>1000991178</td>\n",
       "      <td>Hindustan Times - News</td>\n",
       "      <td>HT Media</td>\n",
       "      <td>News</td>\n",
       "      <td>0</td>\n",
       "      <td>0.0</td>\n",
       "      <td>1.5</td>\n",
       "      <td>43.0</td>\n",
       "      <td>12+</td>\n",
       "    </tr>\n",
       "    <tr>\n",
       "      <td>4</td>\n",
       "      <td>1001013071</td>\n",
       "      <td>Loader 3D</td>\n",
       "      <td>Tapinator, Inc.</td>\n",
       "      <td>Games Entertainment Simulation Action</td>\n",
       "      <td>0</td>\n",
       "      <td>0.0</td>\n",
       "      <td>5.0</td>\n",
       "      <td>9.0</td>\n",
       "      <td>4+</td>\n",
       "    </tr>\n",
       "  </tbody>\n",
       "</table>\n",
       "</div>"
      ],
      "text/plain": [
       "    bundle_id                      app_name               app_author  \\\n",
       "0  1000548274                    1010 Block                SwiftStar   \n",
       "1  1000773093  Rapala Fishing - Daily Catch  Concrete Software, Inc.   \n",
       "2  1000958628          Cannon Hero Must Die       Orangenose Studios   \n",
       "3  1000991178        Hindustan Times - News                 HT Media   \n",
       "4  1001013071                     Loader 3D          Tapinator, Inc.   \n",
       "\n",
       "                                category  top_developer  price  rating  \\\n",
       "0       Games Entertainment Board Trivia              0    0.0     4.5   \n",
       "1             Games Sports Sports Action              0    0.0     4.5   \n",
       "2                    Games Action Arcade              0    0.0     5.0   \n",
       "3                                   News              0    0.0     1.5   \n",
       "4  Games Entertainment Simulation Action              0    0.0     5.0   \n",
       "\n",
       "   rating_count content_rating  \n",
       "0          21.0             4+  \n",
       "1        2316.0             4+  \n",
       "2         734.0             4+  \n",
       "3          43.0            12+  \n",
       "4           9.0             4+  "
      ]
     },
     "execution_count": 4,
     "metadata": {},
     "output_type": "execute_result"
    }
   ],
   "source": [
    "bundle_info[\"category\"] = bundle_info.category.str.replace(\";\", \" \")\n",
    "bundle_info[\"content_rating\"].fillna(\"None\", inplace=True)\n",
    "print(bundle_info.shape)\n",
    "bundle_info.head()"
   ]
  },
  {
   "cell_type": "code",
   "execution_count": 5,
   "metadata": {},
   "outputs": [],
   "source": [
    "bundle_info[\"top_developer\"] = bundle_info.top_developer.astype('category')\n",
    "bundle_info[\"content_rating\"] = bundle_info.content_rating.astype('category')"
   ]
  },
  {
   "cell_type": "code",
   "execution_count": 6,
   "metadata": {},
   "outputs": [],
   "source": [
    "# for personalization vs personalisation\n",
    "bundle_info[\"category\"] = bundle_info[\"category\"].str.replace(\n",
    "    \"lization\", \"lisation\")"
   ]
  },
  {
   "cell_type": "markdown",
   "metadata": {},
   "source": [
    "### TF-IDF to vectorize category and top developer and content rating\n",
    "I am also using NLTK stemming to get all the root words"
   ]
  },
  {
   "cell_type": "code",
   "execution_count": 7,
   "metadata": {},
   "outputs": [],
   "source": [
    "from sklearn.feature_extraction.text import TfidfVectorizer\n",
    "from sklearn.metrics.pairwise import linear_kernel\n",
    "from nltk.stem import PorterStemmer \n",
    "from nltk.tokenize import word_tokenize "
   ]
  },
  {
   "cell_type": "code",
   "execution_count": 8,
   "metadata": {},
   "outputs": [],
   "source": [
    "tf = TfidfVectorizer(analyzer='word',  min_df=0, stop_words='english')\n",
    "ps = PorterStemmer() "
   ]
  },
  {
   "cell_type": "code",
   "execution_count": 9,
   "metadata": {},
   "outputs": [],
   "source": [
    "def stemming_categories(x):\n",
    "    words = word_tokenize(x)\n",
    "    return \" \".join([ps.stem(w) for w in words])"
   ]
  },
  {
   "cell_type": "code",
   "execution_count": 10,
   "metadata": {},
   "outputs": [],
   "source": [
    "bundle_info['category_stemmed']=bundle_info[\"category\"].apply(stemming_categories)"
   ]
  },
  {
   "cell_type": "code",
   "execution_count": 11,
   "metadata": {},
   "outputs": [
    {
     "data": {
      "text/plain": [
       "(103978, 78)"
      ]
     },
     "execution_count": 11,
     "metadata": {},
     "output_type": "execute_result"
    }
   ],
   "source": [
    "tfidf_matrix = tf.fit_transform(bundle_info['category_stemmed'])\n",
    "type(tfidf_matrix)\n",
    "tfidf_matrix.shape\n",
    "#cosine_similarities = linear_kernel(tfidf_matrix, tfidf_matrix)"
   ]
  },
  {
   "cell_type": "code",
   "execution_count": 12,
   "metadata": {},
   "outputs": [
    {
     "data": {
      "text/plain": [
       "'action adventur arcad art audio auto automot beauti board bodi book busi card casino casual catalog comic commun date demo design dice drink editor educ entertain event famili fashion financ fit food game garden health home hous librari lifestyl local magazin map medic men mind music navig network new newspap parent personalis photo photographi play player polit product puzzl race refer role scienc shop simul social sport strategi style tool travel trivia util vehicl video weather women word'"
      ]
     },
     "execution_count": 12,
     "metadata": {},
     "output_type": "execute_result"
    }
   ],
   "source": [
    "\" \".join(tf.get_feature_names())"
   ]
  },
  {
   "cell_type": "code",
   "execution_count": 13,
   "metadata": {},
   "outputs": [
    {
     "data": {
      "text/html": [
       "<div>\n",
       "<style scoped>\n",
       "    .dataframe tbody tr th:only-of-type {\n",
       "        vertical-align: middle;\n",
       "    }\n",
       "\n",
       "    .dataframe tbody tr th {\n",
       "        vertical-align: top;\n",
       "    }\n",
       "\n",
       "    .dataframe thead th {\n",
       "        text-align: right;\n",
       "    }\n",
       "</style>\n",
       "<table border=\"1\" class=\"dataframe\">\n",
       "  <thead>\n",
       "    <tr style=\"text-align: right;\">\n",
       "      <th></th>\n",
       "      <th>0</th>\n",
       "      <th>1</th>\n",
       "      <th>2</th>\n",
       "      <th>3</th>\n",
       "      <th>4</th>\n",
       "      <th>5</th>\n",
       "      <th>6</th>\n",
       "      <th>7</th>\n",
       "      <th>8</th>\n",
       "      <th>9</th>\n",
       "      <th>...</th>\n",
       "      <th>68</th>\n",
       "      <th>69</th>\n",
       "      <th>70</th>\n",
       "      <th>71</th>\n",
       "      <th>72</th>\n",
       "      <th>73</th>\n",
       "      <th>74</th>\n",
       "      <th>75</th>\n",
       "      <th>76</th>\n",
       "      <th>77</th>\n",
       "    </tr>\n",
       "  </thead>\n",
       "  <tbody>\n",
       "    <tr>\n",
       "      <td>0</td>\n",
       "      <td>0.000000</td>\n",
       "      <td>0.0</td>\n",
       "      <td>0.000000</td>\n",
       "      <td>0.0</td>\n",
       "      <td>0.0</td>\n",
       "      <td>0.0</td>\n",
       "      <td>0.0</td>\n",
       "      <td>0.0</td>\n",
       "      <td>0.610792</td>\n",
       "      <td>0.0</td>\n",
       "      <td>...</td>\n",
       "      <td>0.0</td>\n",
       "      <td>0.0</td>\n",
       "      <td>0.0</td>\n",
       "      <td>0.606122</td>\n",
       "      <td>0.0</td>\n",
       "      <td>0.0</td>\n",
       "      <td>0.0</td>\n",
       "      <td>0.0</td>\n",
       "      <td>0.0</td>\n",
       "      <td>0.0</td>\n",
       "    </tr>\n",
       "    <tr>\n",
       "      <td>1</td>\n",
       "      <td>0.396190</td>\n",
       "      <td>0.0</td>\n",
       "      <td>0.000000</td>\n",
       "      <td>0.0</td>\n",
       "      <td>0.0</td>\n",
       "      <td>0.0</td>\n",
       "      <td>0.0</td>\n",
       "      <td>0.0</td>\n",
       "      <td>0.000000</td>\n",
       "      <td>0.0</td>\n",
       "      <td>...</td>\n",
       "      <td>0.0</td>\n",
       "      <td>0.0</td>\n",
       "      <td>0.0</td>\n",
       "      <td>0.000000</td>\n",
       "      <td>0.0</td>\n",
       "      <td>0.0</td>\n",
       "      <td>0.0</td>\n",
       "      <td>0.0</td>\n",
       "      <td>0.0</td>\n",
       "      <td>0.0</td>\n",
       "    </tr>\n",
       "    <tr>\n",
       "      <td>2</td>\n",
       "      <td>0.605810</td>\n",
       "      <td>0.0</td>\n",
       "      <td>0.629179</td>\n",
       "      <td>0.0</td>\n",
       "      <td>0.0</td>\n",
       "      <td>0.0</td>\n",
       "      <td>0.0</td>\n",
       "      <td>0.0</td>\n",
       "      <td>0.000000</td>\n",
       "      <td>0.0</td>\n",
       "      <td>...</td>\n",
       "      <td>0.0</td>\n",
       "      <td>0.0</td>\n",
       "      <td>0.0</td>\n",
       "      <td>0.000000</td>\n",
       "      <td>0.0</td>\n",
       "      <td>0.0</td>\n",
       "      <td>0.0</td>\n",
       "      <td>0.0</td>\n",
       "      <td>0.0</td>\n",
       "      <td>0.0</td>\n",
       "    </tr>\n",
       "    <tr>\n",
       "      <td>3</td>\n",
       "      <td>0.000000</td>\n",
       "      <td>0.0</td>\n",
       "      <td>0.000000</td>\n",
       "      <td>0.0</td>\n",
       "      <td>0.0</td>\n",
       "      <td>0.0</td>\n",
       "      <td>0.0</td>\n",
       "      <td>0.0</td>\n",
       "      <td>0.000000</td>\n",
       "      <td>0.0</td>\n",
       "      <td>...</td>\n",
       "      <td>0.0</td>\n",
       "      <td>0.0</td>\n",
       "      <td>0.0</td>\n",
       "      <td>0.000000</td>\n",
       "      <td>0.0</td>\n",
       "      <td>0.0</td>\n",
       "      <td>0.0</td>\n",
       "      <td>0.0</td>\n",
       "      <td>0.0</td>\n",
       "      <td>0.0</td>\n",
       "    </tr>\n",
       "    <tr>\n",
       "      <td>4</td>\n",
       "      <td>0.577033</td>\n",
       "      <td>0.0</td>\n",
       "      <td>0.000000</td>\n",
       "      <td>0.0</td>\n",
       "      <td>0.0</td>\n",
       "      <td>0.0</td>\n",
       "      <td>0.0</td>\n",
       "      <td>0.0</td>\n",
       "      <td>0.000000</td>\n",
       "      <td>0.0</td>\n",
       "      <td>...</td>\n",
       "      <td>0.0</td>\n",
       "      <td>0.0</td>\n",
       "      <td>0.0</td>\n",
       "      <td>0.000000</td>\n",
       "      <td>0.0</td>\n",
       "      <td>0.0</td>\n",
       "      <td>0.0</td>\n",
       "      <td>0.0</td>\n",
       "      <td>0.0</td>\n",
       "      <td>0.0</td>\n",
       "    </tr>\n",
       "  </tbody>\n",
       "</table>\n",
       "<p>5 rows × 78 columns</p>\n",
       "</div>"
      ],
      "text/plain": [
       "         0    1         2    3    4    5    6    7         8    9   ...   68  \\\n",
       "0  0.000000  0.0  0.000000  0.0  0.0  0.0  0.0  0.0  0.610792  0.0  ...  0.0   \n",
       "1  0.396190  0.0  0.000000  0.0  0.0  0.0  0.0  0.0  0.000000  0.0  ...  0.0   \n",
       "2  0.605810  0.0  0.629179  0.0  0.0  0.0  0.0  0.0  0.000000  0.0  ...  0.0   \n",
       "3  0.000000  0.0  0.000000  0.0  0.0  0.0  0.0  0.0  0.000000  0.0  ...  0.0   \n",
       "4  0.577033  0.0  0.000000  0.0  0.0  0.0  0.0  0.0  0.000000  0.0  ...  0.0   \n",
       "\n",
       "    69   70        71   72   73   74   75   76   77  \n",
       "0  0.0  0.0  0.606122  0.0  0.0  0.0  0.0  0.0  0.0  \n",
       "1  0.0  0.0  0.000000  0.0  0.0  0.0  0.0  0.0  0.0  \n",
       "2  0.0  0.0  0.000000  0.0  0.0  0.0  0.0  0.0  0.0  \n",
       "3  0.0  0.0  0.000000  0.0  0.0  0.0  0.0  0.0  0.0  \n",
       "4  0.0  0.0  0.000000  0.0  0.0  0.0  0.0  0.0  0.0  \n",
       "\n",
       "[5 rows x 78 columns]"
      ]
     },
     "execution_count": 13,
     "metadata": {},
     "output_type": "execute_result"
    }
   ],
   "source": [
    "df = pd.DataFrame(tfidf_matrix.toarray())\n",
    "df.head()"
   ]
  },
  {
   "cell_type": "markdown",
   "metadata": {},
   "source": [
    "### Dimensionality reduction"
   ]
  },
  {
   "cell_type": "code",
   "execution_count": 14,
   "metadata": {},
   "outputs": [],
   "source": [
    "from sklearn.manifold import TSNE\n",
    "from sklearn.decomposition import PCA\n",
    "from sklearn import preprocessing"
   ]
  },
  {
   "cell_type": "code",
   "execution_count": 16,
   "metadata": {},
   "outputs": [],
   "source": [
    "pca = PCA(n_components=df.shape[1])\n",
    "pca.fit(tfidf_matrix.toarray())\n",
    "X_pca = pca.transform(tfidf_matrix.toarray())"
   ]
  },
  {
   "cell_type": "code",
   "execution_count": 17,
   "metadata": {},
   "outputs": [
    {
     "data": {
      "image/png": "[encoded data removed]",
      "text/plain": [
       "<Figure size 432x288 with 1 Axes>"
      ]
     },
     "metadata": {
      "needs_background": "light"
     },
     "output_type": "display_data"
    }
   ],
   "source": [
    "plt.plot(np.cumsum(pca.explained_variance_ratio_))\n",
    "plt.xlabel('number of components')\n",
    "plt.ylabel('cumulative explained variance');"
   ]
  },
  {
   "cell_type": "code",
   "execution_count": 18,
   "metadata": {},
   "outputs": [
    {
     "data": {
      "text/plain": [
       "(103978, 30)"
      ]
     },
     "execution_count": 18,
     "metadata": {},
     "output_type": "execute_result"
    }
   ],
   "source": [
    "pca = PCA(n_components=30)\n",
    "pca.fit(tfidf_matrix.toarray())\n",
    "X_pca = pca.transform(tfidf_matrix.toarray())\n",
    "X_pca.shape"
   ]
  },
  {
   "cell_type": "code",
   "execution_count": 19,
   "metadata": {},
   "outputs": [
    {
     "data": {
      "text/plain": [
       "0                  float64\n",
       "1                  float64\n",
       "2                  float64\n",
       "3                  float64\n",
       "4                  float64\n",
       "5                  float64\n",
       "6                  float64\n",
       "7                  float64\n",
       "8                  float64\n",
       "9                  float64\n",
       "10                 float64\n",
       "11                 float64\n",
       "12                 float64\n",
       "13                 float64\n",
       "14                 float64\n",
       "15                 float64\n",
       "16                 float64\n",
       "17                 float64\n",
       "18                 float64\n",
       "19                 float64\n",
       "20                 float64\n",
       "21                 float64\n",
       "22                 float64\n",
       "23                 float64\n",
       "24                 float64\n",
       "25                 float64\n",
       "26                 float64\n",
       "27                 float64\n",
       "28                 float64\n",
       "29                 float64\n",
       "content_rating    category\n",
       "dtype: object"
      ]
     },
     "execution_count": 19,
     "metadata": {},
     "output_type": "execute_result"
    }
   ],
   "source": [
    "df_PCA = pd.DataFrame(X_pca)\n",
    "\n",
    "# df_PCA[\"price\"] = bundle_info[\"price\"]\n",
    "# df_PCA[\"rating\"] = bundle_info[\"rating\"]\n",
    "# df_PCA[\"rating_count\"] = bundle_info[\"rating_count\"]\n",
    "# df_PCA[\"rating_count\"] = df_PCA[\"rating_count\"].fillna(0)\n",
    "scaler = preprocessing.StandardScaler()\n",
    "x_scaled = scaler.fit_transform(df_PCA.values)\n",
    "df_PCA_scaled = pd.DataFrame(x_scaled)\n",
    "\n",
    "\n",
    "#df_PCA_scaled[\"top_developer\"] = bundle_info[\"top_developer\"]\n",
    "df_PCA_scaled[\"content_rating\"] = bundle_info[\"content_rating\"]\n",
    "df_PCA_scaled.dtypes"
   ]
  },
  {
   "cell_type": "markdown",
   "metadata": {},
   "source": [
    "### KModes clustering"
   ]
  },
  {
   "cell_type": "code",
   "execution_count": 20,
   "metadata": {},
   "outputs": [],
   "source": [
    "from kmodes.kprototypes import KPrototypes"
   ]
  },
  {
   "cell_type": "code",
   "execution_count": 31,
   "metadata": {},
   "outputs": [],
   "source": [
    "proto = KPrototypes(n_clusters=20, init='Huang', n_init=1, verbose=2, n_jobs=4)\n",
    "clusters = proto.fit_predict(df_PCA_scaled, categorical=[30])"
   ]
  },
  {
   "cell_type": "code",
   "execution_count": 32,
   "metadata": {},
   "outputs": [
    {
     "data": {
      "text/plain": [
       "0.5000000000000044"
      ]
     },
     "execution_count": 32,
     "metadata": {},
     "output_type": "execute_result"
    }
   ],
   "source": [
    "proto.gamma\n",
    "#help(proto)"
   ]
  },
  {
   "cell_type": "code",
   "execution_count": 33,
   "metadata": {},
   "outputs": [
    {
     "data": {
      "text/plain": [
       "(array([ 0,  1,  2,  3,  4,  5,  6,  7,  8,  9, 10, 11, 12, 13, 14, 15, 16,\n",
       "        17, 18, 19], dtype=uint16),\n",
       " array([ 8576, 14292, 13955,  7012,  6802,  1507,  9795,  8980,   107,\n",
       "         3953,  1533,  4001,  1244,  1801,  7300,  1812,  4098,  4221,\n",
       "          231,  2758]))"
      ]
     },
     "execution_count": 33,
     "metadata": {},
     "output_type": "execute_result"
    }
   ],
   "source": [
    "bundle_info[\"cluster_kproto\"] = pd.Series(clusters)\n",
    "np.unique(clusters, return_counts=True)"
   ]
  },
  {
   "cell_type": "code",
   "execution_count": 54,
   "metadata": {},
   "outputs": [
    {
     "data": {
      "text/plain": [
       "action                              3702\n",
       "social                              1915\n",
       "health & fit                        1282\n",
       "travel & local                       836\n",
       "financ                               808\n",
       "                                    ... \n",
       "game health & fit puzzl strategi       1\n",
       "food & drink magazin & newspap         1\n",
       "game social network famili             1\n",
       "game entertain dice casino             1\n",
       "util game action                       1\n",
       "Name: category_stemmed, Length: 244, dtype: int64"
      ]
     },
     "execution_count": 54,
     "metadata": {},
     "output_type": "execute_result"
    }
   ],
   "source": [
    "bundle_info[bundle_info[\"cluster_kproto\"] == 1][\"category_stemmed\"].value_counts()"
   ]
  },
  {
   "cell_type": "code",
   "execution_count": 35,
   "metadata": {},
   "outputs": [
    {
     "data": {
      "text/plain": [
       "<matplotlib.axes._subplots.AxesSubplot at 0x1a2a9bb7b8>"
      ]
     },
     "execution_count": 35,
     "metadata": {},
     "output_type": "execute_result"
    },
    {
     "data": {
      "image/png": "[encoded data removed]",
      "text/plain": [
       "<Figure size 1152x360 with 1 Axes>"
      ]
     },
     "metadata": {
      "needs_background": "light"
     },
     "output_type": "display_data"
    }
   ],
   "source": [
    "content_rating = bundle_info.groupby(\n",
    "    [\"cluster_kproto\", \"content_rating\"]).size().reset_index(name='counts')\n",
    "sns.set_context({\"figure.figsize\": (16, 5)})\n",
    "\n",
    "sns.barplot(\"cluster_kproto\",\"counts\",hue=\"content_rating\",data=content_rating)"
   ]
  },
  {
   "cell_type": "markdown",
   "metadata": {},
   "source": [
    "### Kmeans Clustering"
   ]
  },
  {
   "cell_type": "code",
   "execution_count": 36,
   "metadata": {},
   "outputs": [],
   "source": [
    "from scipy.cluster.hierarchy import dendrogram, linkage\n",
    "from sklearn.cluster import AgglomerativeClustering\n",
    "from sklearn.cluster import KMeans\n"
   ]
  },
  {
   "cell_type": "code",
   "execution_count": 37,
   "metadata": {},
   "outputs": [],
   "source": [
    "def elbow_plot_kmeans(data, dataset_name, n_clusts):\n",
    "    Sum_of_squared_distances = []\n",
    "\n",
    "    for k in tqdm(n_clusts):\n",
    "        km = KMeans(n_clusters=k)\n",
    "        km = km.fit(data)\n",
    "        Sum_of_squared_distances.append(km.inertia_)\n",
    "\n",
    "    plt.plot(n_clusts, Sum_of_squared_distances, 'bx-')\n",
    "    plt.xlabel('k')\n",
    "    plt.ylabel('Sum_of_squared_distances')\n",
    "    plt.title(f'Elbow Method For Optimal k {dataset_name}')\n",
    "    plt.show()"
   ]
  },
  {
   "cell_type": "code",
   "execution_count": 38,
   "metadata": {},
   "outputs": [
    {
     "name": "stderr",
     "output_type": "stream",
     "text": [
      "100%|██████████| 10/10 [00:46<00:00,  4.66s/it]\n"
     ]
    },
    {
     "data": {
      "image/png": "[encoded data removed]",
      "text/plain": [
       "<Figure size 1152x360 with 1 Axes>"
      ]
     },
     "metadata": {
      "needs_background": "light"
     },
     "output_type": "display_data"
    }
   ],
   "source": [
    "elbow_plot_kmeans(X_pca, \"publisher names\", range(25, 35))"
   ]
  },
  {
   "cell_type": "code",
   "execution_count": 39,
   "metadata": {},
   "outputs": [
    {
     "data": {
      "text/plain": [
       "13444.65351274197"
      ]
     },
     "execution_count": 39,
     "metadata": {},
     "output_type": "execute_result"
    }
   ],
   "source": [
    "km = KMeans(n_clusters=25)\n",
    "km = km.fit(X_pca)\n",
    "km.inertia_"
   ]
  },
  {
   "cell_type": "code",
   "execution_count": 40,
   "metadata": {},
   "outputs": [],
   "source": [
    "bundle_info[\"cluster_kmeans\"] = pd.Series(km.labels_)"
   ]
  },
  {
   "cell_type": "code",
   "execution_count": 41,
   "metadata": {},
   "outputs": [
    {
     "name": "stdout",
     "output_type": "stream",
     "text": [
      "====================== cluster 0 4221 ==========================\n",
      "Personalisation    4221\n",
      "Name: category, dtype: int64\n",
      "====================== cluster 1 6757 ==========================\n",
      "Education              4333\n",
      "Educational            1328\n",
      "Reference Education     304\n",
      "Education Books         111\n",
      "Education Reference      91\n",
      "Name: category, dtype: int64\n",
      "====================== cluster 2 7852 ==========================\n",
      "Entertainment                                         7810\n",
      "Entertainment Games                                     30\n",
      "Games Entertainment                                     11\n",
      "Entertainment Magazines & Newspapers Entertainment       1\n",
      "Name: category, dtype: int64\n",
      "====================== cluster 3 3442 ==========================\n",
      "Sports                            2429\n",
      "Sports News                        261\n",
      "News Sports                        150\n",
      "Sports Entertainment               113\n",
      "Games Sports Sports Simulation      24\n",
      "Name: category, dtype: int64\n",
      "====================== cluster 4 4167 ==========================\n",
      "Action                                   3702\n",
      "Games Action                               57\n",
      "Games Entertainment Simulation Action      49\n",
      "Games Simulation Action Entertainment      40\n",
      "Games Simulation Entertainment Action      40\n",
      "Name: category, dtype: int64\n",
      "====================== cluster 5 4174 ==========================\n",
      "Books & Reference          3822\n",
      "Books Entertainment         132\n",
      "Books Reference              60\n",
      "Books                        58\n",
      "Entertainment Reference      27\n",
      "Name: category, dtype: int64\n",
      "====================== cluster 6 3863 ==========================\n",
      "Lifestyle                  2914\n",
      "Entertainment Lifestyle     281\n",
      "Lifestyle Entertainment     159\n",
      "News Lifestyle               65\n",
      "Books Lifestyle              57\n",
      "Name: category, dtype: int64\n",
      "====================== cluster 7 12215 ==========================\n",
      "Business          1299\n",
      "Shopping           995\n",
      "Word               867\n",
      "Travel & Local     836\n",
      "Finance            808\n",
      "Name: category, dtype: int64\n",
      "====================== cluster 8 5474 ==========================\n",
      "Music & Audio          3726\n",
      "Music Entertainment     908\n",
      "Music                   496\n",
      "Entertainment Music     140\n",
      "Music Utilities          54\n",
      "Name: category, dtype: int64\n",
      "====================== cluster 9 4365 ==========================\n",
      "Casual    4365\n",
      "Name: category, dtype: int64\n",
      "====================== cluster 10 4451 ==========================\n",
      "Arcade                 2538\n",
      "Games Arcade Action     163\n",
      "Games Action Arcade     159\n",
      "Games Arcade             91\n",
      "Games Puzzle Arcade      85\n",
      "Name: category, dtype: int64\n",
      "====================== cluster 11 5989 ==========================\n",
      "Puzzle                               3796\n",
      "Games Entertainment Family Puzzle     277\n",
      "Games Family Entertainment Puzzle     197\n",
      "Games Puzzle                          129\n",
      "Games Entertainment Puzzle Family      96\n",
      "Name: category, dtype: int64\n",
      "====================== cluster 12 5870 ==========================\n",
      "Simulation                    5667\n",
      "Games Simulation                75\n",
      "Games Education Simulation      27\n",
      "Games Simulation Education      23\n",
      "Games Simulation Strategy       19\n",
      "Name: category, dtype: int64\n",
      "====================== cluster 13 3693 ==========================\n",
      "Tools    3693\n",
      "Name: category, dtype: int64\n",
      "====================== cluster 14 4067 ==========================\n",
      "News & Magazines               3246\n",
      "News                            299\n",
      "News Entertainment              295\n",
      "News Magazines & Newspapers     114\n",
      "Entertainment News               78\n",
      "Name: category, dtype: int64\n",
      "====================== cluster 15 2717 ==========================\n",
      "Racing                                   1904\n",
      "Games Racing Sports                        64\n",
      "Games Simulation Racing                    48\n",
      "Games Entertainment Simulation Racing      47\n",
      "Games Simulation Entertainment Racing      45\n",
      "Name: category, dtype: int64\n",
      "====================== cluster 16 3611 ==========================\n",
      "Role Playing                  708\n",
      "Games Family Education        220\n",
      "Games Education Family        187\n",
      "Games                         110\n",
      "Games Family Entertainment     90\n",
      "Name: category, dtype: int64\n",
      "====================== cluster 17 2519 ==========================\n",
      "Social                             1915\n",
      "Social Networking Lifestyle          90\n",
      "Sports Social Networking             76\n",
      "Social Networking Entertainment      70\n",
      "Entertainment Social Networking      52\n",
      "Name: category, dtype: int64\n",
      "====================== cluster 18 2466 ==========================\n",
      "Adventure                 1443\n",
      "Games Adventure Puzzle      63\n",
      "Games Puzzle Adventure      54\n",
      "Games Adventure Action      43\n",
      "Games Action Adventure      43\n",
      "Name: category, dtype: int64\n",
      "====================== cluster 19 2117 ==========================\n",
      "Communication    2117\n",
      "Name: category, dtype: int64\n",
      "====================== cluster 20 3038 ==========================\n",
      "Photography    3038\n",
      "Name: category, dtype: int64\n",
      "====================== cluster 21 1730 ==========================\n",
      "Video Players & Editors        1065\n",
      "Photo & Video Entertainment     188\n",
      "Entertainment Photo & Video     134\n",
      "Photo & Video Utilities         123\n",
      "Photo & Video                    52\n",
      "Name: category, dtype: int64\n",
      "====================== cluster 22 1636 ==========================\n",
      "Productivity                  1110\n",
      "Utilities Productivity         160\n",
      "Productivity Utilities          93\n",
      "Photo & Video Productivity      34\n",
      "Productivity Lifestyle          26\n",
      "Name: category, dtype: int64\n",
      "====================== cluster 23 1708 ==========================\n",
      "Health & Fitness              1282\n",
      "Health & Fitness Lifestyle     116\n",
      "Health & Fitness Sports         64\n",
      "Medical Health & Fitness        42\n",
      "Health & Fitness Medical        33\n",
      "Name: category, dtype: int64\n",
      "====================== cluster 24 1836 ==========================\n",
      "Trivia                             1106\n",
      "Games Word Entertainment Trivia      24\n",
      "Games Trivia Puzzle                  21\n",
      "Games Trivia Word                    21\n",
      "Games Trivia Word Entertainment      20\n",
      "Name: category, dtype: int64\n"
     ]
    }
   ],
   "source": [
    "for i in range(len(np.unique(km.labels_))):\n",
    "    print(\n",
    "        f\"====================== cluster {i} {bundle_info.loc[bundle_info.cluster_kmeans==i].shape[0]} ==========================\")\n",
    "    print(bundle_info.loc[bundle_info.cluster_kmeans == i]\n",
    "          [\"category\"].value_counts()[:5])"
   ]
  },
  {
   "cell_type": "code",
   "execution_count": 42,
   "metadata": {},
   "outputs": [
    {
     "name": "stdout",
     "output_type": "stream",
     "text": [
      "(3442, 12)\n",
      "Sports                            2429\n",
      "Sports News                        261\n",
      "News Sports                        150\n",
      "Sports Entertainment               113\n",
      "Games Sports Sports Simulation      24\n",
      "Games Arcade Sports Sports          23\n",
      "Games Sports Arcade Sports          19\n",
      "Games Sports Sports Arcade          17\n",
      "Sports Lifestyle                    15\n",
      "Games Action Sports Sports          15\n",
      "Games Simulation Sports Sports      14\n",
      "Games Sports Simulation Sports      13\n",
      "Games Action Sports                 12\n",
      "Entertainment Sports                12\n",
      "Sports Utilities                    11\n",
      "Name: category, dtype: int64\n"
     ]
    }
   ],
   "source": [
    "print(bundle_info.loc[bundle_info.cluster_kmeans == 3].shape)\n",
    "print(bundle_info.loc[bundle_info.cluster_kmeans == 3]\n",
    "          [\"category\"].value_counts()[:15])"
   ]
  },
  {
   "cell_type": "markdown",
   "metadata": {},
   "source": [
    "### Train DBScan"
   ]
  },
  {
   "cell_type": "code",
   "execution_count": 43,
   "metadata": {},
   "outputs": [],
   "source": [
    "from sklearn.cluster import DBSCAN\n",
    "from sklearn.neighbors import NearestNeighbors\n",
    "from sklearn.metrics.pairwise import euclidean_distances"
   ]
  },
  {
   "cell_type": "code",
   "execution_count": 44,
   "metadata": {},
   "outputs": [
    {
     "data": {
      "image/png": "[encoded data removed]",
      "text/plain": [
       "<Figure size 1152x360 with 1 Axes>"
      ]
     },
     "metadata": {
      "needs_background": "light"
     },
     "output_type": "display_data"
    }
   ],
   "source": [
    "dist = euclidean_distances(X_pca[0:1,], X_pca)\n",
    "len(dist[0])\n",
    "plt.hist(dist[0])\n",
    "plt.title(\"histogram of euclidean distances\") \n",
    "plt.show()"
   ]
  },
  {
   "cell_type": "code",
   "execution_count": 45,
   "metadata": {},
   "outputs": [
    {
     "data": {
      "text/plain": [
       "(array([-1,  0,  1,  2,  3,  4,  5,  6,  7,  8,  9, 10, 11, 12, 13, 14, 15,\n",
       "        16, 17, 18, 19, 20, 21, 22, 23, 24, 25, 26, 27, 28, 29, 30, 31, 32,\n",
       "        33, 34, 35, 36, 37, 38, 39, 40, 41, 42, 43, 44, 45, 46, 47, 48, 49,\n",
       "        50, 51]),\n",
       " array([11530,   322,   299,   234,   440,   581,   407,  2429,   373,\n",
       "         3902,   318,   209,   480,  1048,  4909,   216,  7810,   411,\n",
       "         1389,  4222,  1282,   455,   232,   231,   356,   205,   534,\n",
       "          322,   667,  2914,  1299,   569,   995,  5661,  2117,   800,\n",
       "         3796,  2538,  1065,  3702,  4365,  1904,  5667,  3038,  1443,\n",
       "          536,  1915,   708,   867,  1106,  3693,  3246,  4221]))"
      ]
     },
     "execution_count": 45,
     "metadata": {},
     "output_type": "execute_result"
    }
   ],
   "source": [
    "clustering = DBSCAN(eps=0.2, min_samples=200, n_jobs=4).fit(X_pca)\n",
    "np.unique(clustering.labels_, return_counts=True)"
   ]
  },
  {
   "cell_type": "code",
   "execution_count": 46,
   "metadata": {},
   "outputs": [],
   "source": [
    "bundle_info[\"cluster_dbscan\"] = pd.Series(clustering.labels_)"
   ]
  },
  {
   "cell_type": "code",
   "execution_count": 47,
   "metadata": {},
   "outputs": [
    {
     "data": {
      "text/plain": [
       "Series([], Name: category, dtype: int64)"
      ]
     },
     "execution_count": 47,
     "metadata": {},
     "output_type": "execute_result"
    }
   ],
   "source": [
    "bundle_info.loc[bundle_info.cluster_dbscan == 100][\"category\"].value_counts()[:10]"
   ]
  },
  {
   "cell_type": "code",
   "execution_count": 48,
   "metadata": {},
   "outputs": [
    {
     "name": "stdout",
     "output_type": "stream",
     "text": [
      "====================== cluster -1 11530 ==========================\n",
      "Books Entertainment            132\n",
      "Games Puzzle                   129\n",
      "Health & Fitness Lifestyle     116\n",
      "News Magazines & Newspapers    114\n",
      "Sports Entertainment           113\n",
      "Name: category, dtype: int64\n",
      "====================== cluster 0 322 ==========================\n",
      "Games Arcade Action    163\n",
      "Games Action Arcade    159\n",
      "Name: category, dtype: int64\n",
      "====================== cluster 1 299 ==========================\n",
      "News    299\n",
      "Name: category, dtype: int64\n",
      "====================== cluster 2 234 ==========================\n",
      "Games Entertainment Simulation Action    49\n",
      "Games Simulation Action Entertainment    40\n",
      "Games Simulation Entertainment Action    40\n",
      "Games Action Entertainment Simulation    37\n",
      "Games Entertainment Action Simulation    33\n",
      "Name: category, dtype: int64\n",
      "====================== cluster 3 440 ==========================\n",
      "Entertainment Lifestyle    281\n",
      "Lifestyle Entertainment    159\n",
      "Name: category, dtype: int64\n",
      "====================== cluster 4 581 ==========================\n",
      "Reference Education    304\n",
      "Education Books        111\n",
      "Education Reference     91\n",
      "Books Education         75\n",
      "Name: category, dtype: int64\n",
      "====================== cluster 5 407 ==========================\n",
      "Games Family Entertainment Role Playing    76\n",
      "Games Family Role Playing Entertainment    69\n",
      "Games Entertainment Family Role Playing    67\n",
      "Games Role Playing Entertainment Family    65\n",
      "Games Entertainment Role Playing Family    64\n",
      "Name: category, dtype: int64\n",
      "====================== cluster 6 2429 ==========================\n",
      "Sports    2429\n",
      "Name: category, dtype: int64\n",
      "====================== cluster 7 373 ==========================\n",
      "News Entertainment    295\n",
      "Entertainment News     78\n",
      "Name: category, dtype: int64\n",
      "====================== cluster 8 3902 ==========================\n",
      "Books & Reference    3822\n",
      "Books Reference        60\n",
      "Reference Books        20\n",
      "Name: category, dtype: int64\n",
      "====================== cluster 9 318 ==========================\n",
      "Games Family Education Role Playing    66\n",
      "Games Education Family Role Playing    57\n",
      "Games Role Playing Education Family    45\n",
      "Games Role Playing Family Education    31\n",
      "Games Education Role Playing Family    29\n",
      "Name: category, dtype: int64\n",
      "====================== cluster 10 209 ==========================\n",
      "Games Entertainment Family Simulation    45\n",
      "Games Family Entertainment Simulation    36\n",
      "Games Simulation Family Entertainment    35\n",
      "Games Entertainment Simulation Family    34\n",
      "Games Simulation Entertainment Family    27\n",
      "Name: category, dtype: int64\n",
      "====================== cluster 11 480 ==========================\n",
      "Games Family Education      220\n",
      "Games Education Family      187\n",
      "Education Games Family       48\n",
      "Education Family Games       18\n",
      "Games Family Educational      5\n",
      "Name: category, dtype: int64\n",
      "====================== cluster 12 1048 ==========================\n",
      "Music Entertainment    908\n",
      "Entertainment Music    140\n",
      "Name: category, dtype: int64\n",
      "====================== cluster 13 4909 ==========================\n",
      "Travel & Local       836\n",
      "Finance              808\n",
      "Casino               424\n",
      "Strategy             403\n",
      "Maps & Navigation    366\n",
      "Name: category, dtype: int64\n",
      "====================== cluster 14 216 ==========================\n",
      "Games Puzzle Entertainment Arcade    41\n",
      "Games Puzzle Arcade Entertainment    39\n",
      "Games Entertainment Arcade Puzzle    36\n",
      "Games Entertainment Puzzle Arcade    36\n",
      "Games Arcade Entertainment Puzzle    33\n",
      "Name: category, dtype: int64\n",
      "====================== cluster 15 7810 ==========================\n",
      "Entertainment    7810\n",
      "Name: category, dtype: int64\n",
      "====================== cluster 16 411 ==========================\n",
      "Sports News    261\n",
      "News Sports    150\n",
      "Name: category, dtype: int64\n",
      "====================== cluster 17 1389 ==========================\n",
      "Productivity              1110\n",
      "Utilities Productivity     160\n",
      "Productivity Utilities      93\n",
      "Finance Productivity        10\n",
      "Travel Productivity          5\n",
      "Name: category, dtype: int64\n",
      "====================== cluster 18 4222 ==========================\n",
      "Music & Audio    3726\n",
      "Music             496\n",
      "Name: category, dtype: int64\n",
      "====================== cluster 19 1282 ==========================\n",
      "Health & Fitness    1282\n",
      "Name: category, dtype: int64\n",
      "====================== cluster 20 455 ==========================\n",
      "Games Arcade Action Entertainment    81\n",
      "Games Entertainment Arcade Action    80\n",
      "Games Action Arcade Entertainment    78\n",
      "Games Entertainment Action Arcade    74\n",
      "Games Action Entertainment Arcade    69\n",
      "Name: category, dtype: int64\n",
      "====================== cluster 21 232 ==========================\n",
      "Games Entertainment Simulation Racing    47\n",
      "Games Simulation Entertainment Racing    45\n",
      "Games Simulation Racing Entertainment    38\n",
      "Games Racing Simulation Entertainment    37\n",
      "Games Racing Entertainment Simulation    35\n",
      "Name: category, dtype: int64\n",
      "====================== cluster 22 231 ==========================\n",
      "Photo & Video Utilities    123\n",
      "Photo & Video               52\n",
      "Utilities Photo & Video     43\n",
      "Photo & Video Travel         8\n",
      "Photo & Video Catalogs       1\n",
      "Name: category, dtype: int64\n",
      "====================== cluster 23 356 ==========================\n",
      "Games Puzzle Board Entertainment    69\n",
      "Games Entertainment Puzzle Board    62\n",
      "Games Entertainment Board Puzzle    62\n",
      "Games Puzzle Entertainment Board    57\n",
      "Games Board Puzzle Entertainment    50\n",
      "Name: category, dtype: int64\n",
      "====================== cluster 24 205 ==========================\n",
      "Games Entertainment Card Casino    29\n",
      "Games Card Entertainment Casino    27\n",
      "Games Entertainment Casino Card    27\n",
      "Games Casino Entertainment Card    23\n",
      "Games Card Casino Entertainment    20\n",
      "Name: category, dtype: int64\n",
      "====================== cluster 25 534 ==========================\n",
      "News Weather    347\n",
      "Weather News    187\n",
      "Name: category, dtype: int64\n",
      "====================== cluster 26 322 ==========================\n",
      "Photo & Video Entertainment    188\n",
      "Entertainment Photo & Video    134\n",
      "Name: category, dtype: int64\n",
      "====================== cluster 27 667 ==========================\n",
      "Games Entertainment Family Puzzle    277\n",
      "Games Family Entertainment Puzzle    197\n",
      "Games Entertainment Puzzle Family     96\n",
      "Games Puzzle Family Entertainment     35\n",
      "Games Puzzle Entertainment Family     27\n",
      "Name: category, dtype: int64\n",
      "====================== cluster 28 2914 ==========================\n",
      "Lifestyle    2914\n",
      "Name: category, dtype: int64\n",
      "====================== cluster 29 1299 ==========================\n",
      "Business    1299\n",
      "Name: category, dtype: int64\n",
      "====================== cluster 30 569 ==========================\n",
      "Weather           541\n",
      "Weather Travel     26\n",
      "Travel Weather      2\n",
      "Name: category, dtype: int64\n",
      "====================== cluster 31 995 ==========================\n",
      "Shopping    995\n",
      "Name: category, dtype: int64\n",
      "====================== cluster 32 5661 ==========================\n",
      "Education      4333\n",
      "Educational    1328\n",
      "Name: category, dtype: int64\n",
      "====================== cluster 33 2117 ==========================\n",
      "Communication    2117\n",
      "Name: category, dtype: int64\n",
      "====================== cluster 34 800 ==========================\n",
      "Card    800\n",
      "Name: category, dtype: int64\n",
      "====================== cluster 35 3796 ==========================\n",
      "Puzzle    3796\n",
      "Name: category, dtype: int64\n",
      "====================== cluster 36 2538 ==========================\n",
      "Arcade    2538\n",
      "Name: category, dtype: int64\n",
      "====================== cluster 37 1065 ==========================\n",
      "Video Players & Editors    1065\n",
      "Name: category, dtype: int64\n",
      "====================== cluster 38 3702 ==========================\n",
      "Action    3702\n",
      "Name: category, dtype: int64\n",
      "====================== cluster 39 4365 ==========================\n",
      "Casual    4365\n",
      "Name: category, dtype: int64\n",
      "====================== cluster 40 1904 ==========================\n",
      "Racing    1904\n",
      "Name: category, dtype: int64\n",
      "====================== cluster 41 5667 ==========================\n",
      "Simulation    5667\n",
      "Name: category, dtype: int64\n",
      "====================== cluster 42 3038 ==========================\n",
      "Photography    3038\n",
      "Name: category, dtype: int64\n",
      "====================== cluster 43 1443 ==========================\n",
      "Adventure    1443\n",
      "Name: category, dtype: int64\n",
      "====================== cluster 44 536 ==========================\n",
      "Board    536\n",
      "Name: category, dtype: int64\n",
      "====================== cluster 45 1915 ==========================\n",
      "Social    1915\n",
      "Name: category, dtype: int64\n",
      "====================== cluster 46 708 ==========================\n",
      "Role Playing    708\n",
      "Name: category, dtype: int64\n",
      "====================== cluster 47 867 ==========================\n",
      "Word    867\n",
      "Name: category, dtype: int64\n",
      "====================== cluster 48 1106 ==========================\n",
      "Trivia    1106\n",
      "Name: category, dtype: int64\n",
      "====================== cluster 49 3693 ==========================\n",
      "Tools    3693\n",
      "Name: category, dtype: int64\n",
      "====================== cluster 50 3246 ==========================\n",
      "News & Magazines    3246\n",
      "Name: category, dtype: int64\n",
      "====================== cluster 51 4221 ==========================\n",
      "Personalisation    4221\n",
      "Name: category, dtype: int64\n"
     ]
    }
   ],
   "source": [
    "for i in range(-1,(len(np.unique(clustering.labels_))-1)):\n",
    "    print(\n",
    "        f\"====================== cluster {i} {bundle_info.loc[bundle_info.cluster_dbscan==i].shape[0]} ==========================\")\n",
    "    print(bundle_info.loc[bundle_info.cluster_dbscan == i]\n",
    "          [\"category\"].value_counts()[:5])"
   ]
  },
  {
   "cell_type": "markdown",
   "metadata": {},
   "source": [
    "### TSNE over a subsample"
   ]
  },
  {
   "cell_type": "code",
   "execution_count": 49,
   "metadata": {},
   "outputs": [],
   "source": [
    "max_label = max(km.labels_)\n",
    "max_items = np.random.choice(range(X_pca.shape[0]), size=4000, replace=False)"
   ]
  },
  {
   "cell_type": "code",
   "execution_count": 51,
   "metadata": {},
   "outputs": [],
   "source": [
    "labels = bundle_info.iloc[max_items, :][\"cluster_kmeans\"].values\n",
    "max_label = max(labels)\n",
    "label_subset = [cm.hsv(i/max_label) for i in labels]"
   ]
  },
  {
   "cell_type": "code",
   "execution_count": 53,
   "metadata": {},
   "outputs": [
    {
     "name": "stdout",
     "output_type": "stream",
     "text": [
      "[t-SNE] Computing 91 nearest neighbors...\n",
      "[t-SNE] Indexed 4000 samples in 0.003s...\n",
      "[t-SNE] Computed neighbors for 4000 samples in 0.298s...\n",
      "[t-SNE] Computed conditional probabilities for sample 1000 / 4000\n",
      "[t-SNE] Computed conditional probabilities for sample 2000 / 4000\n",
      "[t-SNE] Computed conditional probabilities for sample 3000 / 4000\n",
      "[t-SNE] Computed conditional probabilities for sample 4000 / 4000\n",
      "[t-SNE] Mean sigma: 0.000000\n",
      "[t-SNE] KL divergence after 250 iterations with early exaggeration: 36.048687\n",
      "[t-SNE] KL divergence after 1000 iterations: -2.480101\n"
     ]
    },
    {
     "data": {
      "text/plain": [
       "Text(0.5, 1.0, 'TSNE Cluster Plot')"
      ]
     },
     "execution_count": 53,
     "metadata": {},
     "output_type": "execute_result"
    },
    {
     "data": {
      "image/png": "[encoded data removed]",
      "text/plain": [
       "<Figure size 1008x432 with 1 Axes>"
      ]
     },
     "metadata": {
      "needs_background": "light"
     },
     "output_type": "display_data"
    }
   ],
   "source": [
    "tsne_model = TSNE(perplexity=30, init='pca', verbose=1)\n",
    "new_values = tsne_model.fit_transform(X_pca[max_items,:])\n",
    "\n",
    "f, ax = plt.subplots(1, 1, figsize=(14, 6))\n",
    "\n",
    "ax.scatter(new_values[:,0], new_values[:,1], c=label_subset)\n",
    "ax.set_title('TSNE Cluster Plot')"
   ]
  },
  {
   "cell_type": "markdown",
   "metadata": {},
   "source": [
    "## Conclusion\n",
    "* None of the above methods have yielded a reasonable number of clusters. \n",
    "* I was hoping for cluster sizes to the tune of less than 30.\n",
    "* When the number of clusters is around 20 -30 we can see that some of the clusters are nonsensical. This is evident from the Kmeans elbow plots."
   ]
  },
  {
   "cell_type": "code",
   "execution_count": null,
   "metadata": {},
   "outputs": [],
   "source": []
  }
 ],
 "metadata": {
  "kernelspec": {
   "display_name": "Python 3",
   "language": "python",
   "name": "python3"
  },
  "language_info": {
   "codemirror_mode": {
    "name": "ipython",
    "version": 3
   },
   "file_extension": ".py",
   "mimetype": "text/x-python",
   "name": "python",
   "nbconvert_exporter": "python",
   "pygments_lexer": "ipython3",
   "version": "3.7.3"
  },
  "toc": {
   "base_numbering": 1,
   "nav_menu": {},
   "number_sections": true,
   "sideBar": true,
   "skip_h1_title": false,
   "title_cell": "Table of Contents",
   "title_sidebar": "Contents",
   "toc_cell": false,
   "toc_position": {},
   "toc_section_display": true,
   "toc_window_display": false
  }
 },
 "nbformat": 4,
 "nbformat_minor": 2
}
