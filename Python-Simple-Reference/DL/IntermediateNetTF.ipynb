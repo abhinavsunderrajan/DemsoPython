{
 "cells": [
  {
   "cell_type": "code",
   "execution_count": 1,
   "metadata": {
    "collapsed": true
   },
   "outputs": [],
   "source": [
    "import tensorflow as tf\n",
    "import numpy as np\n",
    "import pandas as pd\n",
    "np.random.seed(42)\n",
    "import matplotlib.pyplot as plt\n",
    "%matplotlib notebook"
   ]
  },
  {
   "cell_type": "code",
   "execution_count": 2,
   "metadata": {},
   "outputs": [
    {
     "name": "stderr",
     "output_type": "stream",
     "text": [
      "/Users/abhinav.sunderrajan/anaconda/lib/python3.6/site-packages/h5py/__init__.py:34: FutureWarning: Conversion of the second argument of issubdtype from `float` to `np.floating` is deprecated. In future, it will be treated as `np.float64 == np.dtype(float).type`.\n",
      "  from ._conv import register_converters as _register_converters\n"
     ]
    },
    {
     "name": "stdout",
     "output_type": "stream",
     "text": [
      "Extracting MNIST_data/train-images-idx3-ubyte.gz\n",
      "Extracting MNIST_data/train-labels-idx1-ubyte.gz\n",
      "Extracting MNIST_data/t10k-images-idx3-ubyte.gz\n",
      "Extracting MNIST_data/t10k-labels-idx1-ubyte.gz\n"
     ]
    }
   ],
   "source": [
    "from tensorflow.examples.tutorials.mnist import input_data\n",
    "mnist=input_data.read_data_sets(\"MNIST_data/\",one_hot=True)\n"
   ]
  },
  {
   "cell_type": "markdown",
   "metadata": {},
   "source": [
    "### Set hyperparameters"
   ]
  },
  {
   "cell_type": "code",
   "execution_count": 3,
   "metadata": {
    "collapsed": true
   },
   "outputs": [],
   "source": [
    "lr=0.1\n",
    "epochs=10\n",
    "n_output=10\n",
    "n_input=784\n",
    "n_dense1=64\n",
    "n_dense2=64\n",
    "batch_size=128\n",
    "logs_path = \"/tmp/mnist/2\"\n",
    "weights_init=tf.contrib.layers.xavier_initializer()"
   ]
  },
  {
   "cell_type": "code",
   "execution_count": 4,
   "metadata": {
    "collapsed": true
   },
   "outputs": [],
   "source": [
    "# A tensor flow place holder is usually something that is assigned at run time like the inputs and outs puts of a neural network\n",
    "x=tf.placeholder(tf.float32,shape=[None,n_input])\n",
    "y=tf.placeholder(tf.float32,shape=[None,n_output])"
   ]
  },
  {
   "cell_type": "code",
   "execution_count": 5,
   "metadata": {
    "collapsed": true
   },
   "outputs": [],
   "source": [
    "def dense(x,w,b):\n",
    "    print(x.shape,w.shape,b.shape)\n",
    "    z=tf.add(tf.matmul(x,w),b)\n",
    "    a=tf.nn.relu(z)\n",
    "    return a"
   ]
  },
  {
   "cell_type": "code",
   "execution_count": 6,
   "metadata": {
    "collapsed": true
   },
   "outputs": [],
   "source": [
    "def network(x,weights,biases):\n",
    "    #two hidden layer\n",
    "    dense_l=dense(x,weights['w1'],biases['b1'])\n",
    "    dense_2=dense(dense_l,weights['w2'],biases['b2'])\n",
    "    \n",
    "    #output layer\n",
    "    output=tf.add(tf.matmul(dense_2,weights['w_out']),biases['b_out'])\n",
    "    return output\n",
    "    "
   ]
  },
  {
   "cell_type": "code",
   "execution_count": 7,
   "metadata": {
    "collapsed": true
   },
   "outputs": [],
   "source": [
    "biases={'b1':tf.Variable(tf.zeros([n_dense1])),\n",
    "        'b2':tf.Variable(tf.zeros([n_dense2])),\n",
    "        'b_out':tf.Variable(tf.zeros([n_output]))\n",
    "       }"
   ]
  },
  {
   "cell_type": "code",
   "execution_count": 8,
   "metadata": {
    "collapsed": true
   },
   "outputs": [],
   "source": [
    "weights={'w1': tf.get_variable('w1',shape=[n_input,n_dense1],initializer=weights_init),\n",
    "         'w2': tf.get_variable('w2',shape=[n_dense1,n_dense2],initializer=weights_init),\n",
    "         'w_out': tf.get_variable('w_out',shape=[n_dense2,n_output],initializer=weights_init) \n",
    "        }"
   ]
  },
  {
   "cell_type": "markdown",
   "metadata": {},
   "source": [
    "### Define cost and optimizer"
   ]
  },
  {
   "cell_type": "code",
   "execution_count": 9,
   "metadata": {},
   "outputs": [
    {
     "name": "stdout",
     "output_type": "stream",
     "text": [
      "(?, 784) (784, 64) (64,)\n",
      "(?, 64) (64, 64) (64,)\n"
     ]
    }
   ],
   "source": [
    "predictions=network(x,weights,biases)\n",
    "# specify cost function\n",
    "with tf.name_scope('cross_entropy'):\n",
    "    cost=tf.reduce_mean(tf.nn.softmax_cross_entropy_with_logits(logits=predictions,labels=y))\n",
    "    tf.summary.scalar(\"cross_entropy\", cost)\n",
    "# specify optimizer\n",
    "with tf.name_scope('train'):    \n",
    "    optimizer=tf.train.GradientDescentOptimizer(lr).minimize(cost)"
   ]
  },
  {
   "cell_type": "markdown",
   "metadata": {},
   "source": [
    "### Define evaluation metrics"
   ]
  },
  {
   "cell_type": "code",
   "execution_count": 10,
   "metadata": {
    "collapsed": true
   },
   "outputs": [],
   "source": [
    "with tf.name_scope('Accuracy'):\n",
    "    correct_prediction=tf.equal(tf.argmax(predictions,1),tf.argmax(y,1))\n",
    "    acc_percent=tf.reduce_mean(tf.cast(correct_prediction,tf.float32))*100.0"
   ]
  },
  {
   "cell_type": "code",
   "execution_count": 11,
   "metadata": {},
   "outputs": [
    {
     "name": "stdout",
     "output_type": "stream",
     "text": [
      "Training for 10  epochs\n",
      "epoch: 0 cost: 0.47858566542466513 accuracy: 86.31446678321677\n",
      "epoch: 1 cost: 0.23316689448687306 accuracy: 93.2200611888113\n",
      "epoch: 2 cost: 0.17773384395943373 accuracy: 94.82990967365969\n",
      "epoch: 3 cost: 0.14582261101001906 accuracy: 95.75320512820517\n",
      "epoch: 4 cost: 0.12342253788037864 accuracy: 96.45979020979023\n",
      "epoch: 5 cost: 0.10800330730324434 accuracy: 96.84404137529138\n",
      "epoch: 6 cost: 0.09543500091264025 accuracy: 97.18822843822852\n",
      "epoch: 7 cost: 0.08518031820880644 accuracy: 97.51602564102559\n",
      "epoch: 8 cost: 0.0772832899651814 accuracy: 97.76187354312357\n",
      "epoch: 9 cost: 0.07054456530056355 accuracy: 97.89481351981362\n",
      "Training cost: 0.09072857\n",
      "Test accuracy: 96.93\n"
     ]
    }
   ],
   "source": [
    "initializer_op=tf.global_variables_initializer()\n",
    "# merge all summaries into a single \"operation\" which we can execute in a session \n",
    "summary_op = tf.summary.merge_all()\n",
    "\n",
    "with tf.Session() as session:\n",
    "    session.run(initializer_op)\n",
    "    # create log writer object\n",
    "    writer = tf.summary.FileWriter(logs_path, graph=tf.get_default_graph())   \n",
    "    print(\"Training for\",epochs,\" epochs\")\n",
    "    for epoch in range(epochs):\n",
    "        n_batches=int(mnist.train.num_examples/batch_size)\n",
    "        avg_cost=0.0\n",
    "        avg_accuracy=0.0\n",
    "        for batch in range(n_batches):\n",
    "            batch_x,batch_y=mnist.train.next_batch(batch_size)\n",
    "            _,summary,batch_cost,batch_acc=session.run([optimizer,summary_op,cost,acc_percent],feed_dict={x:batch_x,y:batch_y})\n",
    "            # write log\n",
    "            writer.add_summary(summary, epoch * n_batches + batch)\n",
    "            \n",
    "            avg_cost+=batch_cost/n_batches\n",
    "            avg_accuracy+=batch_acc/n_batches\n",
    "        print(\"epoch:\",epoch,\"cost:\",avg_cost,\"accuracy:\",avg_accuracy)\n",
    "\n",
    "    print(\"Training cost:\",cost.eval({x:mnist.test.images,y:mnist.test.labels}))\n",
    "    print(\"Test accuracy:\",acc_percent.eval({x:mnist.test.images,y:mnist.test.labels}))\n",
    "            \n",
    "        "
   ]
  },
  {
   "cell_type": "code",
   "execution_count": null,
   "metadata": {
    "collapsed": true
   },
   "outputs": [],
   "source": []
  }
 ],
 "metadata": {
  "kernelspec": {
   "display_name": "Python 3",
   "language": "python",
   "name": "python3"
  },
  "language_info": {
   "codemirror_mode": {
    "name": "ipython",
    "version": 3
   },
   "file_extension": ".py",
   "mimetype": "text/x-python",
   "name": "python",
   "nbconvert_exporter": "python",
   "pygments_lexer": "ipython3",
   "version": "3.6.3"
  }
 },
 "nbformat": 4,
 "nbformat_minor": 2
}
